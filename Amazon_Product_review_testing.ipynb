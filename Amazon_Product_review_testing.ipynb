{
  "nbformat": 4,
  "nbformat_minor": 0,
  "metadata": {
    "colab": {
      "name": "Amazon Product review testing.ipynb",
      "provenance": [],
      "collapsed_sections": []
    },
    "kernelspec": {
      "name": "python3",
      "display_name": "Python 3"
    }
  },
  "cells": [
    {
      "cell_type": "markdown",
      "metadata": {
        "id": "RG9dH9u6uk0m"
      },
      "source": [
        "# Importing all the neccessary libraries"
      ]
    },
    {
      "cell_type": "code",
      "metadata": {
        "id": "mwsESDYwvrBM"
      },
      "source": [
        "# Ignore  the warnings\n",
        "import warnings\n",
        "warnings.filterwarnings('always')\n",
        "warnings.filterwarnings('ignore')\n",
        "\n",
        "# data visualisation and manipulation\n",
        "import numpy as np\n",
        "import pandas as pd\n",
        "import matplotlib.pyplot as plt\n",
        "from matplotlib import style\n",
        "import seaborn as sns\n",
        "#configure\n",
        "# sets matplotlib to inline and displays graphs below the corressponding cell.\n",
        "% matplotlib inline  \n",
        "style.use('fivethirtyeight')\n",
        "sns.set(style='whitegrid',color_codes=True)\n",
        "\n",
        "#nltk\n",
        "import nltk\n",
        "\n",
        "#preprocessing\n",
        "from nltk.corpus import stopwords  #stopwords\n",
        "from nltk import word_tokenize,sent_tokenize # tokenizing\n",
        "from nltk.stem import PorterStemmer,LancasterStemmer  # using the Porter Stemmer and Lancaster Stemmer and others\n",
        "from nltk.stem.snowball import SnowballStemmer\n",
        "from nltk.stem import WordNetLemmatizer  # lammatizer from WordNet\n",
        "tokenizer = nltk.data.load('tokenizers/punkt/english.pickle')\n",
        "# for part-of-speech tagging\n",
        "from nltk import pos_tag\n",
        "\n",
        "# for named entity recognition (NER)\n",
        "from nltk import ne_chunk\n",
        "\n",
        "# vectorizers for creating the document-term-matrix (DTM)\n",
        "from sklearn.feature_extraction.text import TfidfVectorizer,CountVectorizer\n",
        "\n",
        "# BeautifulSoup libraray\n",
        "from bs4 import BeautifulSoup \n",
        "\n",
        "import re # regex\n",
        "import gensim\n",
        "#model_selection\n",
        "from sklearn.model_selection import train_test_split,cross_validate\n",
        "from sklearn.model_selection import KFold\n",
        "from sklearn.model_selection import GridSearchCV\n",
        "\n",
        "#evaluation\n",
        "from sklearn.metrics import accuracy_score,roc_auc_score \n",
        "from sklearn.metrics import classification_report\n",
        "from mlxtend.plotting import plot_confusion_matrix\n",
        "\n",
        "#preprocessing scikit\n",
        "from sklearn.preprocessing import MinMaxScaler,StandardScaler,LabelEncoder\n",
        "\n",
        "#classification.\n",
        "from sklearn.linear_model import LogisticRegression\n",
        "from sklearn.svm import LinearSVC,SVC\n",
        "from sklearn.neighbors import KNeighborsClassifier\n",
        "from sklearn.ensemble import RandomForestClassifier,GradientBoostingClassifier,AdaBoostClassifier\n",
        "from sklearn.tree import DecisionTreeClassifier\n",
        "from sklearn.naive_bayes import GaussianNB,MultinomialNB\n",
        " \n",
        "#stop-words\n",
        "stop_words=set(nltk.corpus.stopwords.words('english'))\n",
        "\n",
        "#keras\n",
        "import keras\n",
        "from keras.preprocessing.text import one_hot,Tokenizer\n",
        "from keras.preprocessing.sequence import pad_sequences\n",
        "from keras.models import Sequential\n",
        "from keras.layers import Dense , Flatten ,Embedding,Input,LSTM\n",
        "from keras.models import Model\n",
        "from keras.preprocessing.text import text_to_word_sequence\n",
        "\n",
        "#gensim w2v\n",
        "#word2vec\n",
        "from gensim.models import Word2Vec"
      ],
      "execution_count": null,
      "outputs": []
    },
    {
      "cell_type": "markdown",
      "metadata": {
        "id": "SJhmqlR6uwK1"
      },
      "source": [
        "# Importing nltk"
      ]
    },
    {
      "cell_type": "code",
      "metadata": {
        "colab": {
          "base_uri": "https://localhost:8080/"
        },
        "id": "cr1oXPmkaOh1",
        "outputId": "b50397e6-83f9-40a2-9db8-eb30116abb63"
      },
      "source": [
        "import nltk\n",
        "nltk.download('punkt')\n",
        "nltk.download('stopwords')\n",
        "nltk.download('wordnet')"
      ],
      "execution_count": null,
      "outputs": [
        {
          "output_type": "stream",
          "text": [
            "[nltk_data] Downloading package punkt to /root/nltk_data...\n",
            "[nltk_data]   Package punkt is already up-to-date!\n",
            "[nltk_data] Downloading package stopwords to /root/nltk_data...\n",
            "[nltk_data]   Package stopwords is already up-to-date!\n",
            "[nltk_data] Downloading package wordnet to /root/nltk_data...\n",
            "[nltk_data]   Unzipping corpora/wordnet.zip.\n"
          ],
          "name": "stdout"
        },
        {
          "output_type": "execute_result",
          "data": {
            "text/plain": [
              "True"
            ]
          },
          "metadata": {
            "tags": []
          },
          "execution_count": 82
        }
      ]
    },
    {
      "cell_type": "code",
      "metadata": {
        "id": "kRoYpBcHoQPq"
      },
      "source": [
        " !python -m spacy download en_core_web_lg"
      ],
      "execution_count": null,
      "outputs": []
    },
    {
      "cell_type": "markdown",
      "metadata": {
        "id": "7DcVfPSou1Or"
      },
      "source": [
        "# Reading the dataset"
      ]
    },
    {
      "cell_type": "code",
      "metadata": {
        "id": "IXsx06X7i9Kg"
      },
      "source": [
        "df = pd.read_csv(\"/content/drive/MyDrive/amazon reviews/Reviews.csv\")"
      ],
      "execution_count": null,
      "outputs": []
    },
    {
      "cell_type": "code",
      "metadata": {
        "colab": {
          "base_uri": "https://localhost:8080/",
          "height": 279
        },
        "id": "4wasTP1ejR2r",
        "outputId": "543b72f9-87b8-4324-92b8-dbc54d4f45e6"
      },
      "source": [
        "df.head()"
      ],
      "execution_count": null,
      "outputs": [
        {
          "output_type": "execute_result",
          "data": {
            "text/html": [
              "<div>\n",
              "<style scoped>\n",
              "    .dataframe tbody tr th:only-of-type {\n",
              "        vertical-align: middle;\n",
              "    }\n",
              "\n",
              "    .dataframe tbody tr th {\n",
              "        vertical-align: top;\n",
              "    }\n",
              "\n",
              "    .dataframe thead th {\n",
              "        text-align: right;\n",
              "    }\n",
              "</style>\n",
              "<table border=\"1\" class=\"dataframe\">\n",
              "  <thead>\n",
              "    <tr style=\"text-align: right;\">\n",
              "      <th></th>\n",
              "      <th>Id</th>\n",
              "      <th>ProductId</th>\n",
              "      <th>UserId</th>\n",
              "      <th>ProfileName</th>\n",
              "      <th>HelpfulnessNumerator</th>\n",
              "      <th>HelpfulnessDenominator</th>\n",
              "      <th>Score</th>\n",
              "      <th>Time</th>\n",
              "      <th>Summary</th>\n",
              "      <th>Text</th>\n",
              "    </tr>\n",
              "  </thead>\n",
              "  <tbody>\n",
              "    <tr>\n",
              "      <th>0</th>\n",
              "      <td>1</td>\n",
              "      <td>B001E4KFG0</td>\n",
              "      <td>A3SGXH7AUHU8GW</td>\n",
              "      <td>delmartian</td>\n",
              "      <td>1</td>\n",
              "      <td>1</td>\n",
              "      <td>5</td>\n",
              "      <td>1303862400</td>\n",
              "      <td>Good Quality Dog Food</td>\n",
              "      <td>I have bought several of the Vitality canned d...</td>\n",
              "    </tr>\n",
              "    <tr>\n",
              "      <th>1</th>\n",
              "      <td>2</td>\n",
              "      <td>B00813GRG4</td>\n",
              "      <td>A1D87F6ZCVE5NK</td>\n",
              "      <td>dll pa</td>\n",
              "      <td>0</td>\n",
              "      <td>0</td>\n",
              "      <td>1</td>\n",
              "      <td>1346976000</td>\n",
              "      <td>Not as Advertised</td>\n",
              "      <td>Product arrived labeled as Jumbo Salted Peanut...</td>\n",
              "    </tr>\n",
              "    <tr>\n",
              "      <th>2</th>\n",
              "      <td>3</td>\n",
              "      <td>B000LQOCH0</td>\n",
              "      <td>ABXLMWJIXXAIN</td>\n",
              "      <td>Natalia Corres \"Natalia Corres\"</td>\n",
              "      <td>1</td>\n",
              "      <td>1</td>\n",
              "      <td>4</td>\n",
              "      <td>1219017600</td>\n",
              "      <td>\"Delight\" says it all</td>\n",
              "      <td>This is a confection that has been around a fe...</td>\n",
              "    </tr>\n",
              "    <tr>\n",
              "      <th>3</th>\n",
              "      <td>4</td>\n",
              "      <td>B000UA0QIQ</td>\n",
              "      <td>A395BORC6FGVXV</td>\n",
              "      <td>Karl</td>\n",
              "      <td>3</td>\n",
              "      <td>3</td>\n",
              "      <td>2</td>\n",
              "      <td>1307923200</td>\n",
              "      <td>Cough Medicine</td>\n",
              "      <td>If you are looking for the secret ingredient i...</td>\n",
              "    </tr>\n",
              "    <tr>\n",
              "      <th>4</th>\n",
              "      <td>5</td>\n",
              "      <td>B006K2ZZ7K</td>\n",
              "      <td>A1UQRSCLF8GW1T</td>\n",
              "      <td>Michael D. Bigham \"M. Wassir\"</td>\n",
              "      <td>0</td>\n",
              "      <td>0</td>\n",
              "      <td>5</td>\n",
              "      <td>1350777600</td>\n",
              "      <td>Great taffy</td>\n",
              "      <td>Great taffy at a great price.  There was a wid...</td>\n",
              "    </tr>\n",
              "  </tbody>\n",
              "</table>\n",
              "</div>"
            ],
            "text/plain": [
              "   Id  ...                                               Text\n",
              "0   1  ...  I have bought several of the Vitality canned d...\n",
              "1   2  ...  Product arrived labeled as Jumbo Salted Peanut...\n",
              "2   3  ...  This is a confection that has been around a fe...\n",
              "3   4  ...  If you are looking for the secret ingredient i...\n",
              "4   5  ...  Great taffy at a great price.  There was a wid...\n",
              "\n",
              "[5 rows x 10 columns]"
            ]
          },
          "metadata": {
            "tags": []
          },
          "execution_count": 417
        }
      ]
    },
    {
      "cell_type": "markdown",
      "metadata": {
        "id": "6Ojs1dd1u8T5"
      },
      "source": [
        "# Taking only the important columns"
      ]
    },
    {
      "cell_type": "code",
      "metadata": {
        "id": "4OXLG6JjjSoU"
      },
      "source": [
        "data=df[[\"ProductId\",\"Score\",\"Summary\",\"Text\"]]"
      ],
      "execution_count": null,
      "outputs": []
    },
    {
      "cell_type": "code",
      "metadata": {
        "colab": {
          "base_uri": "https://localhost:8080/",
          "height": 639
        },
        "id": "Mt1_lU04jZWY",
        "outputId": "a5f7158c-33bc-45a0-d736-9f219a7851c0"
      },
      "source": [
        "data[:20]"
      ],
      "execution_count": null,
      "outputs": [
        {
          "output_type": "execute_result",
          "data": {
            "text/html": [
              "<div>\n",
              "<style scoped>\n",
              "    .dataframe tbody tr th:only-of-type {\n",
              "        vertical-align: middle;\n",
              "    }\n",
              "\n",
              "    .dataframe tbody tr th {\n",
              "        vertical-align: top;\n",
              "    }\n",
              "\n",
              "    .dataframe thead th {\n",
              "        text-align: right;\n",
              "    }\n",
              "</style>\n",
              "<table border=\"1\" class=\"dataframe\">\n",
              "  <thead>\n",
              "    <tr style=\"text-align: right;\">\n",
              "      <th></th>\n",
              "      <th>ProductId</th>\n",
              "      <th>Score</th>\n",
              "      <th>Summary</th>\n",
              "      <th>Text</th>\n",
              "    </tr>\n",
              "  </thead>\n",
              "  <tbody>\n",
              "    <tr>\n",
              "      <th>0</th>\n",
              "      <td>B001E4KFG0</td>\n",
              "      <td>1</td>\n",
              "      <td>Good Quality Dog Food</td>\n",
              "      <td>I have bought several of the Vitality canned d...</td>\n",
              "    </tr>\n",
              "    <tr>\n",
              "      <th>1</th>\n",
              "      <td>B00813GRG4</td>\n",
              "      <td>0</td>\n",
              "      <td>Not as Advertised</td>\n",
              "      <td>Product arrived labeled as Jumbo Salted Peanut...</td>\n",
              "    </tr>\n",
              "    <tr>\n",
              "      <th>2</th>\n",
              "      <td>B000LQOCH0</td>\n",
              "      <td>1</td>\n",
              "      <td>\"Delight\" says it all</td>\n",
              "      <td>This is a confection that has been around a fe...</td>\n",
              "    </tr>\n",
              "    <tr>\n",
              "      <th>3</th>\n",
              "      <td>B000UA0QIQ</td>\n",
              "      <td>0</td>\n",
              "      <td>Cough Medicine</td>\n",
              "      <td>If you are looking for the secret ingredient i...</td>\n",
              "    </tr>\n",
              "    <tr>\n",
              "      <th>4</th>\n",
              "      <td>B006K2ZZ7K</td>\n",
              "      <td>1</td>\n",
              "      <td>Great taffy</td>\n",
              "      <td>Great taffy at a great price.  There was a wid...</td>\n",
              "    </tr>\n",
              "    <tr>\n",
              "      <th>5</th>\n",
              "      <td>B006K2ZZ7K</td>\n",
              "      <td>1</td>\n",
              "      <td>Nice Taffy</td>\n",
              "      <td>I got a wild hair for taffy and ordered this f...</td>\n",
              "    </tr>\n",
              "    <tr>\n",
              "      <th>6</th>\n",
              "      <td>B006K2ZZ7K</td>\n",
              "      <td>1</td>\n",
              "      <td>Great!  Just as good as the expensive brands!</td>\n",
              "      <td>This saltwater taffy had great flavors and was...</td>\n",
              "    </tr>\n",
              "    <tr>\n",
              "      <th>7</th>\n",
              "      <td>B006K2ZZ7K</td>\n",
              "      <td>1</td>\n",
              "      <td>Wonderful, tasty taffy</td>\n",
              "      <td>This taffy is so good.  It is very soft and ch...</td>\n",
              "    </tr>\n",
              "    <tr>\n",
              "      <th>8</th>\n",
              "      <td>B000E7L2R4</td>\n",
              "      <td>1</td>\n",
              "      <td>Yay Barley</td>\n",
              "      <td>Right now I'm mostly just sprouting this so my...</td>\n",
              "    </tr>\n",
              "    <tr>\n",
              "      <th>9</th>\n",
              "      <td>B00171APVA</td>\n",
              "      <td>1</td>\n",
              "      <td>Healthy Dog Food</td>\n",
              "      <td>This is a very healthy dog food. Good for thei...</td>\n",
              "    </tr>\n",
              "    <tr>\n",
              "      <th>10</th>\n",
              "      <td>B0001PB9FE</td>\n",
              "      <td>1</td>\n",
              "      <td>The Best Hot Sauce in the World</td>\n",
              "      <td>I don't know if it's the cactus or the tequila...</td>\n",
              "    </tr>\n",
              "    <tr>\n",
              "      <th>11</th>\n",
              "      <td>B0009XLVG0</td>\n",
              "      <td>1</td>\n",
              "      <td>My cats LOVE this \"diet\" food better than thei...</td>\n",
              "      <td>One of my boys needed to lose some weight and ...</td>\n",
              "    </tr>\n",
              "    <tr>\n",
              "      <th>12</th>\n",
              "      <td>B0009XLVG0</td>\n",
              "      <td>0</td>\n",
              "      <td>My Cats Are Not Fans of the New Food</td>\n",
              "      <td>My cats have been happily eating Felidae Plati...</td>\n",
              "    </tr>\n",
              "    <tr>\n",
              "      <th>13</th>\n",
              "      <td>B001GVISJM</td>\n",
              "      <td>1</td>\n",
              "      <td>fresh and greasy!</td>\n",
              "      <td>good flavor! these came securely packed... the...</td>\n",
              "    </tr>\n",
              "    <tr>\n",
              "      <th>14</th>\n",
              "      <td>B001GVISJM</td>\n",
              "      <td>1</td>\n",
              "      <td>Strawberry Twizzlers - Yummy</td>\n",
              "      <td>The Strawberry Twizzlers are my guilty pleasur...</td>\n",
              "    </tr>\n",
              "    <tr>\n",
              "      <th>15</th>\n",
              "      <td>B001GVISJM</td>\n",
              "      <td>1</td>\n",
              "      <td>Lots of twizzlers, just what you expect.</td>\n",
              "      <td>My daughter loves twizzlers and this shipment ...</td>\n",
              "    </tr>\n",
              "    <tr>\n",
              "      <th>16</th>\n",
              "      <td>B001GVISJM</td>\n",
              "      <td>0</td>\n",
              "      <td>poor taste</td>\n",
              "      <td>I love eating them and they are good for watch...</td>\n",
              "    </tr>\n",
              "    <tr>\n",
              "      <th>17</th>\n",
              "      <td>B001GVISJM</td>\n",
              "      <td>1</td>\n",
              "      <td>Love it!</td>\n",
              "      <td>I am very satisfied with my Twizzler purchase....</td>\n",
              "    </tr>\n",
              "    <tr>\n",
              "      <th>18</th>\n",
              "      <td>B001GVISJM</td>\n",
              "      <td>1</td>\n",
              "      <td>GREAT SWEET CANDY!</td>\n",
              "      <td>Twizzlers, Strawberry my childhood favorite ca...</td>\n",
              "    </tr>\n",
              "    <tr>\n",
              "      <th>19</th>\n",
              "      <td>B001GVISJM</td>\n",
              "      <td>1</td>\n",
              "      <td>Home delivered twizlers</td>\n",
              "      <td>Candy was delivered very fast and was purchase...</td>\n",
              "    </tr>\n",
              "  </tbody>\n",
              "</table>\n",
              "</div>"
            ],
            "text/plain": [
              "     ProductId  ...                                               Text\n",
              "0   B001E4KFG0  ...  I have bought several of the Vitality canned d...\n",
              "1   B00813GRG4  ...  Product arrived labeled as Jumbo Salted Peanut...\n",
              "2   B000LQOCH0  ...  This is a confection that has been around a fe...\n",
              "3   B000UA0QIQ  ...  If you are looking for the secret ingredient i...\n",
              "4   B006K2ZZ7K  ...  Great taffy at a great price.  There was a wid...\n",
              "5   B006K2ZZ7K  ...  I got a wild hair for taffy and ordered this f...\n",
              "6   B006K2ZZ7K  ...  This saltwater taffy had great flavors and was...\n",
              "7   B006K2ZZ7K  ...  This taffy is so good.  It is very soft and ch...\n",
              "8   B000E7L2R4  ...  Right now I'm mostly just sprouting this so my...\n",
              "9   B00171APVA  ...  This is a very healthy dog food. Good for thei...\n",
              "10  B0001PB9FE  ...  I don't know if it's the cactus or the tequila...\n",
              "11  B0009XLVG0  ...  One of my boys needed to lose some weight and ...\n",
              "12  B0009XLVG0  ...  My cats have been happily eating Felidae Plati...\n",
              "13  B001GVISJM  ...  good flavor! these came securely packed... the...\n",
              "14  B001GVISJM  ...  The Strawberry Twizzlers are my guilty pleasur...\n",
              "15  B001GVISJM  ...  My daughter loves twizzlers and this shipment ...\n",
              "16  B001GVISJM  ...  I love eating them and they are good for watch...\n",
              "17  B001GVISJM  ...  I am very satisfied with my Twizzler purchase....\n",
              "18  B001GVISJM  ...  Twizzlers, Strawberry my childhood favorite ca...\n",
              "19  B001GVISJM  ...  Candy was delivered very fast and was purchase...\n",
              "\n",
              "[20 rows x 4 columns]"
            ]
          },
          "metadata": {
            "tags": []
          },
          "execution_count": 49
        }
      ]
    },
    {
      "cell_type": "code",
      "metadata": {
        "id": "Hb3YOxJ6jrBP"
      },
      "source": [
        "def mark_sentiment(Score):\n",
        "  if(Score<=3):\n",
        "    return 0\n",
        "  else:\n",
        "    return 1"
      ],
      "execution_count": null,
      "outputs": []
    },
    {
      "cell_type": "code",
      "metadata": {
        "colab": {
          "base_uri": "https://localhost:8080/"
        },
        "id": "csNCOEUhklP3",
        "outputId": "c25450c9-56ed-4e60-892d-0b94c8069a74"
      },
      "source": [
        "data['Score']=data['Score'].apply(mark_sentiment)"
      ],
      "execution_count": null,
      "outputs": [
        {
          "output_type": "stream",
          "text": [
            "/usr/local/lib/python3.6/dist-packages/ipykernel_launcher.py:1: SettingWithCopyWarning: \n",
            "A value is trying to be set on a copy of a slice from a DataFrame.\n",
            "Try using .loc[row_indexer,col_indexer] = value instead\n",
            "\n",
            "See the caveats in the documentation: https://pandas.pydata.org/pandas-docs/stable/user_guide/indexing.html#returning-a-view-versus-a-copy\n",
            "  \"\"\"Entry point for launching an IPython kernel.\n"
          ],
          "name": "stderr"
        }
      ]
    },
    {
      "cell_type": "markdown",
      "metadata": {
        "id": "kxGd9KJJvI9S"
      },
      "source": [
        "# Taking a product ID from user"
      ]
    },
    {
      "cell_type": "code",
      "metadata": {
        "colab": {
          "base_uri": "https://localhost:8080/"
        },
        "id": "TNGrjOCFraK9",
        "outputId": "bb12a87b-0045-4dfd-a074-411657e2e8b5"
      },
      "source": [
        "product= input(\"Enter a product ID for which you want the details:\")\n",
        "g1=data.groupby(\"ProductId\").get_group(product)"
      ],
      "execution_count": null,
      "outputs": [
        {
          "output_type": "stream",
          "text": [
            "Enter a product ID for which you want the details:B001EO5QW8\n"
          ],
          "name": "stdout"
        }
      ]
    },
    {
      "cell_type": "code",
      "metadata": {
        "colab": {
          "base_uri": "https://localhost:8080/",
          "height": 610
        },
        "id": "5S08nslblwNj",
        "outputId": "765b704c-fd90-48d6-db2a-593b0a587df6"
      },
      "source": [
        "g1"
      ],
      "execution_count": null,
      "outputs": [
        {
          "output_type": "execute_result",
          "data": {
            "text/html": [
              "<div>\n",
              "<style scoped>\n",
              "    .dataframe tbody tr th:only-of-type {\n",
              "        vertical-align: middle;\n",
              "    }\n",
              "\n",
              "    .dataframe tbody tr th {\n",
              "        vertical-align: top;\n",
              "    }\n",
              "\n",
              "    .dataframe thead th {\n",
              "        text-align: right;\n",
              "    }\n",
              "</style>\n",
              "<table border=\"1\" class=\"dataframe\">\n",
              "  <thead>\n",
              "    <tr style=\"text-align: right;\">\n",
              "      <th></th>\n",
              "      <th>ProductId</th>\n",
              "      <th>Score</th>\n",
              "      <th>Summary</th>\n",
              "      <th>Text</th>\n",
              "    </tr>\n",
              "  </thead>\n",
              "  <tbody>\n",
              "    <tr>\n",
              "      <th>32</th>\n",
              "      <td>B001EO5QW8</td>\n",
              "      <td>1</td>\n",
              "      <td>Best of the Instant Oatmeals</td>\n",
              "      <td>McCann's Instant Oatmeal is great if you must ...</td>\n",
              "    </tr>\n",
              "    <tr>\n",
              "      <th>33</th>\n",
              "      <td>B001EO5QW8</td>\n",
              "      <td>1</td>\n",
              "      <td>Good Instant</td>\n",
              "      <td>This is a good instant oatmeal from the best o...</td>\n",
              "    </tr>\n",
              "    <tr>\n",
              "      <th>34</th>\n",
              "      <td>B001EO5QW8</td>\n",
              "      <td>1</td>\n",
              "      <td>Great Irish oatmeal for those in a hurry!</td>\n",
              "      <td>Instant oatmeal can become soggy the minute th...</td>\n",
              "    </tr>\n",
              "    <tr>\n",
              "      <th>35</th>\n",
              "      <td>B001EO5QW8</td>\n",
              "      <td>1</td>\n",
              "      <td>satisfying</td>\n",
              "      <td>McCann's Instant Irish Oatmeal, Variety Pack o...</td>\n",
              "    </tr>\n",
              "    <tr>\n",
              "      <th>36</th>\n",
              "      <td>B001EO5QW8</td>\n",
              "      <td>1</td>\n",
              "      <td>Love Gluten Free Oatmeal!!!</td>\n",
              "      <td>For those of us with celiac disease this produ...</td>\n",
              "    </tr>\n",
              "    <tr>\n",
              "      <th>37</th>\n",
              "      <td>B001EO5QW8</td>\n",
              "      <td>1</td>\n",
              "      <td>it's oatmeal</td>\n",
              "      <td>What else do you need to know? Oatmeal, instan...</td>\n",
              "    </tr>\n",
              "    <tr>\n",
              "      <th>38</th>\n",
              "      <td>B001EO5QW8</td>\n",
              "      <td>1</td>\n",
              "      <td>GOOD WAY TO START THE DAY....</td>\n",
              "      <td>I WAS VISITING MY FRIEND NATE THE OTHER MORNIN...</td>\n",
              "    </tr>\n",
              "    <tr>\n",
              "      <th>39</th>\n",
              "      <td>B001EO5QW8</td>\n",
              "      <td>1</td>\n",
              "      <td>Wife's favorite Breakfast</td>\n",
              "      <td>I ordered this for my wife as it was reccomend...</td>\n",
              "    </tr>\n",
              "    <tr>\n",
              "      <th>40</th>\n",
              "      <td>B001EO5QW8</td>\n",
              "      <td>1</td>\n",
              "      <td>Why wouldn't you buy oatmeal from Mcanns? Tast...</td>\n",
              "      <td>The variety packs taste great!&lt;br /&gt;&lt;br /&gt;I ha...</td>\n",
              "    </tr>\n",
              "    <tr>\n",
              "      <th>41</th>\n",
              "      <td>B001EO5QW8</td>\n",
              "      <td>1</td>\n",
              "      <td>Oatmeal For Oatmeal Lovers</td>\n",
              "      <td>McCann's makes oatmeal for every oatmeal conno...</td>\n",
              "    </tr>\n",
              "    <tr>\n",
              "      <th>42</th>\n",
              "      <td>B001EO5QW8</td>\n",
              "      <td>1</td>\n",
              "      <td>Food-Great</td>\n",
              "      <td>I have McCann's Oatmeal every morning and by o...</td>\n",
              "    </tr>\n",
              "    <tr>\n",
              "      <th>43</th>\n",
              "      <td>B001EO5QW8</td>\n",
              "      <td>1</td>\n",
              "      <td>Good Hot Breakfast</td>\n",
              "      <td>McCann's Oatmeal is a good quality choice.  Ou...</td>\n",
              "    </tr>\n",
              "    <tr>\n",
              "      <th>44</th>\n",
              "      <td>B001EO5QW8</td>\n",
              "      <td>1</td>\n",
              "      <td>Great taste and convenience</td>\n",
              "      <td>We really like the McCann's steel cut oats but...</td>\n",
              "    </tr>\n",
              "    <tr>\n",
              "      <th>45</th>\n",
              "      <td>B001EO5QW8</td>\n",
              "      <td>0</td>\n",
              "      <td>Hearty Oatmeal</td>\n",
              "      <td>This seems a little more wholesome than some o...</td>\n",
              "    </tr>\n",
              "    <tr>\n",
              "      <th>46</th>\n",
              "      <td>B001EO5QW8</td>\n",
              "      <td>1</td>\n",
              "      <td>good</td>\n",
              "      <td>Good oatmeal.  I like the apple cinnamon the b...</td>\n",
              "    </tr>\n",
              "    <tr>\n",
              "      <th>47</th>\n",
              "      <td>B001EO5QW8</td>\n",
              "      <td>0</td>\n",
              "      <td>Mushy</td>\n",
              "      <td>The flavors are good.  However, I do not see a...</td>\n",
              "    </tr>\n",
              "    <tr>\n",
              "      <th>48</th>\n",
              "      <td>B001EO5QW8</td>\n",
              "      <td>1</td>\n",
              "      <td>Very good but next time I won't order the Vari...</td>\n",
              "      <td>I really like the Maple and Brown Sugar flavor...</td>\n",
              "    </tr>\n",
              "    <tr>\n",
              "      <th>49</th>\n",
              "      <td>B001EO5QW8</td>\n",
              "      <td>0</td>\n",
              "      <td>Same stuff</td>\n",
              "      <td>This is the same stuff you can buy at the big ...</td>\n",
              "    </tr>\n",
              "    <tr>\n",
              "      <th>50</th>\n",
              "      <td>B001EO5QW8</td>\n",
              "      <td>0</td>\n",
              "      <td>Don't like it</td>\n",
              "      <td>This oatmeal is not good. Its mushy, soft, I d...</td>\n",
              "    </tr>\n",
              "  </tbody>\n",
              "</table>\n",
              "</div>"
            ],
            "text/plain": [
              "     ProductId  ...                                               Text\n",
              "32  B001EO5QW8  ...  McCann's Instant Oatmeal is great if you must ...\n",
              "33  B001EO5QW8  ...  This is a good instant oatmeal from the best o...\n",
              "34  B001EO5QW8  ...  Instant oatmeal can become soggy the minute th...\n",
              "35  B001EO5QW8  ...  McCann's Instant Irish Oatmeal, Variety Pack o...\n",
              "36  B001EO5QW8  ...  For those of us with celiac disease this produ...\n",
              "37  B001EO5QW8  ...  What else do you need to know? Oatmeal, instan...\n",
              "38  B001EO5QW8  ...  I WAS VISITING MY FRIEND NATE THE OTHER MORNIN...\n",
              "39  B001EO5QW8  ...  I ordered this for my wife as it was reccomend...\n",
              "40  B001EO5QW8  ...  The variety packs taste great!<br /><br />I ha...\n",
              "41  B001EO5QW8  ...  McCann's makes oatmeal for every oatmeal conno...\n",
              "42  B001EO5QW8  ...  I have McCann's Oatmeal every morning and by o...\n",
              "43  B001EO5QW8  ...  McCann's Oatmeal is a good quality choice.  Ou...\n",
              "44  B001EO5QW8  ...  We really like the McCann's steel cut oats but...\n",
              "45  B001EO5QW8  ...  This seems a little more wholesome than some o...\n",
              "46  B001EO5QW8  ...  Good oatmeal.  I like the apple cinnamon the b...\n",
              "47  B001EO5QW8  ...  The flavors are good.  However, I do not see a...\n",
              "48  B001EO5QW8  ...  I really like the Maple and Brown Sugar flavor...\n",
              "49  B001EO5QW8  ...  This is the same stuff you can buy at the big ...\n",
              "50  B001EO5QW8  ...  This oatmeal is not good. Its mushy, soft, I d...\n",
              "\n",
              "[19 rows x 4 columns]"
            ]
          },
          "metadata": {
            "tags": []
          },
          "execution_count": 419
        }
      ]
    },
    {
      "cell_type": "markdown",
      "metadata": {
        "id": "2mLxtzGEvOzL"
      },
      "source": [
        "# Separating it into groups of positive and negative reviews"
      ]
    },
    {
      "cell_type": "code",
      "metadata": {
        "id": "sb-J9ktWmGG1"
      },
      "source": [
        "def separate_pos_and_neg(g):\n",
        "  df1 = g1[g1['Score']==0]\n",
        "  df2 = g1[g1['Score']==1]\n",
        "  return df1,df2"
      ],
      "execution_count": null,
      "outputs": []
    },
    {
      "cell_type": "code",
      "metadata": {
        "id": "fylXXZVmmPa6"
      },
      "source": [
        "df1, df2= separate_pos_and_neg(g1)"
      ],
      "execution_count": null,
      "outputs": []
    },
    {
      "cell_type": "code",
      "metadata": {
        "colab": {
          "base_uri": "https://localhost:8080/"
        },
        "id": "xJHDiLKkmTjx",
        "outputId": "aa2a66e0-d42d-41bd-db92-710037ca1ed0"
      },
      "source": [
        "if df1.empty==True: # df1 is for the negative reviews \n",
        "  print(\"No Negative reviews for this product\")\n",
        "else:\n",
        "  print(df1)"
      ],
      "execution_count": null,
      "outputs": [
        {
          "output_type": "stream",
          "text": [
            "     ProductId  ...                                               Text\n",
            "45  B001EO5QW8  ...  This seems a little more wholesome than some o...\n",
            "47  B001EO5QW8  ...  The flavors are good.  However, I do not see a...\n",
            "49  B001EO5QW8  ...  This is the same stuff you can buy at the big ...\n",
            "50  B001EO5QW8  ...  This oatmeal is not good. Its mushy, soft, I d...\n",
            "\n",
            "[4 rows x 4 columns]\n"
          ],
          "name": "stdout"
        }
      ]
    },
    {
      "cell_type": "code",
      "metadata": {
        "colab": {
          "base_uri": "https://localhost:8080/"
        },
        "id": "FBmLU81emU9T",
        "outputId": "c8d2d821-6b31-4afc-ab72-1a419a16f1b8"
      },
      "source": [
        "if df2.empty==True: # df2 is for the positive reviews \n",
        "  print(\"No Positive reviews for this product\")\n",
        "else:\n",
        "  print(df2)"
      ],
      "execution_count": null,
      "outputs": [
        {
          "output_type": "stream",
          "text": [
            "     ProductId  ...                                               Text\n",
            "32  B001EO5QW8  ...  McCann's Instant Oatmeal is great if you must ...\n",
            "33  B001EO5QW8  ...  This is a good instant oatmeal from the best o...\n",
            "34  B001EO5QW8  ...  Instant oatmeal can become soggy the minute th...\n",
            "35  B001EO5QW8  ...  McCann's Instant Irish Oatmeal, Variety Pack o...\n",
            "36  B001EO5QW8  ...  For those of us with celiac disease this produ...\n",
            "37  B001EO5QW8  ...  What else do you need to know? Oatmeal, instan...\n",
            "38  B001EO5QW8  ...  I WAS VISITING MY FRIEND NATE THE OTHER MORNIN...\n",
            "39  B001EO5QW8  ...  I ordered this for my wife as it was reccomend...\n",
            "40  B001EO5QW8  ...  The variety packs taste great!<br /><br />I ha...\n",
            "41  B001EO5QW8  ...  McCann's makes oatmeal for every oatmeal conno...\n",
            "42  B001EO5QW8  ...  I have McCann's Oatmeal every morning and by o...\n",
            "43  B001EO5QW8  ...  McCann's Oatmeal is a good quality choice.  Ou...\n",
            "44  B001EO5QW8  ...  We really like the McCann's steel cut oats but...\n",
            "46  B001EO5QW8  ...  Good oatmeal.  I like the apple cinnamon the b...\n",
            "48  B001EO5QW8  ...  I really like the Maple and Brown Sugar flavor...\n",
            "\n",
            "[15 rows x 4 columns]\n"
          ],
          "name": "stdout"
        }
      ]
    },
    {
      "cell_type": "markdown",
      "metadata": {
        "id": "QhX3wIX2vX1Q"
      },
      "source": [
        "# Loading the pre trained model"
      ]
    },
    {
      "cell_type": "code",
      "metadata": {
        "id": "lb8C14cznwxI"
      },
      "source": [
        "from tensorflow.keras.models import load_model\n",
        "model= load_model('/content/drive/MyDrive/Amazon review BERT model.h5') "
      ],
      "execution_count": null,
      "outputs": []
    },
    {
      "cell_type": "code",
      "metadata": {
        "colab": {
          "base_uri": "https://localhost:8080/"
        },
        "id": "RMQJ62v0AUND",
        "outputId": "dfc13e51-085d-414a-832a-730acd2ec31c"
      },
      "source": [
        "!pip install bert-for-tf2\n",
        "!pip install sentencepiece"
      ],
      "execution_count": null,
      "outputs": [
        {
          "output_type": "stream",
          "text": [
            "Requirement already satisfied: bert-for-tf2 in /usr/local/lib/python3.6/dist-packages (0.14.7)\n",
            "Requirement already satisfied: py-params>=0.9.6 in /usr/local/lib/python3.6/dist-packages (from bert-for-tf2) (0.9.7)\n",
            "Requirement already satisfied: params-flow>=0.8.0 in /usr/local/lib/python3.6/dist-packages (from bert-for-tf2) (0.8.2)\n",
            "Requirement already satisfied: tqdm in /usr/local/lib/python3.6/dist-packages (from params-flow>=0.8.0->bert-for-tf2) (4.41.1)\n",
            "Requirement already satisfied: numpy in /usr/local/lib/python3.6/dist-packages (from params-flow>=0.8.0->bert-for-tf2) (1.18.5)\n",
            "Requirement already satisfied: sentencepiece in /usr/local/lib/python3.6/dist-packages (0.1.94)\n"
          ],
          "name": "stdout"
        }
      ]
    },
    {
      "cell_type": "code",
      "metadata": {
        "id": "Oc46NiuPIvie"
      },
      "source": [
        "try:\n",
        "    %tensorflow_version 2.x\n",
        "except Exception:\n",
        "    pass\n",
        "\n",
        "import tensorflow as tf\n",
        "import tensorflow_hub as hub\n",
        "from tensorflow.keras import layers\n",
        "import bert\n",
        "import re"
      ],
      "execution_count": null,
      "outputs": []
    },
    {
      "cell_type": "markdown",
      "metadata": {
        "id": "_CAwHf9FvgHu"
      },
      "source": [
        "# Text preprocessing"
      ]
    },
    {
      "cell_type": "code",
      "metadata": {
        "id": "IFTHPTY2XFK3"
      },
      "source": [
        "def preprocess_text(sen):\n",
        "    # Removing html tags\n",
        "    #sentence = remove_tags(sen)\n",
        "    \n",
        "    clean = re.compile('<.*?>')\n",
        "    sentence= re.sub(clean, '', sen)\n",
        "\n",
        "    # Remove punctuations and numbers\n",
        "    sentence = re.sub('[^a-zA-Z]', ' ', sentence)\n",
        "\n",
        "    # Single character removal\n",
        "    sentence = re.sub(r\"\\s+[a-zA-Z]\\s+\", ' ', sentence)\n",
        "\n",
        "    # Removing multiple spaces\n",
        "    sentence = re.sub(r'\\s+', ' ', sentence)\n",
        "\n",
        "    return sentence"
      ],
      "execution_count": null,
      "outputs": []
    },
    {
      "cell_type": "code",
      "metadata": {
        "id": "WtKep84DXIZG"
      },
      "source": [
        "import re\n",
        "TAG_RE = re.compile(r'<[^>]+>')\n",
        "\n",
        "def remove_tags(text):\n",
        "    return TAG_RE.sub('', text)"
      ],
      "execution_count": null,
      "outputs": []
    },
    {
      "cell_type": "code",
      "metadata": {
        "id": "KUmidf3iXKGN"
      },
      "source": [
        "BertTokenizer = bert.bert_tokenization.FullTokenizer\n",
        "bert_layer = hub.KerasLayer(\"https://tfhub.dev/tensorflow/bert_en_uncased_L-12_H-768_A-12/1\",\n",
        "                            trainable=False)\n",
        "vocabulary_file = bert_layer.resolved_object.vocab_file.asset_path.numpy()\n",
        "to_lower_case = bert_layer.resolved_object.do_lower_case.numpy()\n",
        "tokenizer = BertTokenizer(vocabulary_file, to_lower_case)"
      ],
      "execution_count": null,
      "outputs": []
    },
    {
      "cell_type": "code",
      "metadata": {
        "id": "DjvjXrcnXVfQ"
      },
      "source": [
        "def tokenize_reviews(text_reviews):\n",
        "    return tokenizer.convert_tokens_to_ids(tokenizer.tokenize(text_reviews))"
      ],
      "execution_count": null,
      "outputs": []
    },
    {
      "cell_type": "code",
      "metadata": {
        "id": "BnrVqbcgXYF3"
      },
      "source": [
        "df1['Pre_Text']=df1['Text'].apply(preprocess_text)\n",
        "df2['Pre_Text']=df2['Text'].apply(preprocess_text)"
      ],
      "execution_count": null,
      "outputs": []
    },
    {
      "cell_type": "code",
      "metadata": {
        "colab": {
          "base_uri": "https://localhost:8080/",
          "height": 166
        },
        "id": "NflV3nRuad-2",
        "outputId": "6fd67dc2-1985-40f6-9522-7a33114ff7b4"
      },
      "source": [
        "df1"
      ],
      "execution_count": null,
      "outputs": [
        {
          "output_type": "execute_result",
          "data": {
            "text/html": [
              "<div>\n",
              "<style scoped>\n",
              "    .dataframe tbody tr th:only-of-type {\n",
              "        vertical-align: middle;\n",
              "    }\n",
              "\n",
              "    .dataframe tbody tr th {\n",
              "        vertical-align: top;\n",
              "    }\n",
              "\n",
              "    .dataframe thead th {\n",
              "        text-align: right;\n",
              "    }\n",
              "</style>\n",
              "<table border=\"1\" class=\"dataframe\">\n",
              "  <thead>\n",
              "    <tr style=\"text-align: right;\">\n",
              "      <th></th>\n",
              "      <th>ProductId</th>\n",
              "      <th>Score</th>\n",
              "      <th>Summary</th>\n",
              "      <th>Text</th>\n",
              "      <th>Pre_Text</th>\n",
              "    </tr>\n",
              "  </thead>\n",
              "  <tbody>\n",
              "    <tr>\n",
              "      <th>45</th>\n",
              "      <td>B001EO5QW8</td>\n",
              "      <td>0</td>\n",
              "      <td>Hearty Oatmeal</td>\n",
              "      <td>This seems a little more wholesome than some o...</td>\n",
              "      <td>This seems little more wholesome than some of ...</td>\n",
              "    </tr>\n",
              "    <tr>\n",
              "      <th>47</th>\n",
              "      <td>B001EO5QW8</td>\n",
              "      <td>0</td>\n",
              "      <td>Mushy</td>\n",
              "      <td>The flavors are good.  However, I do not see a...</td>\n",
              "      <td>The flavors are good However do not see any di...</td>\n",
              "    </tr>\n",
              "    <tr>\n",
              "      <th>49</th>\n",
              "      <td>B001EO5QW8</td>\n",
              "      <td>0</td>\n",
              "      <td>Same stuff</td>\n",
              "      <td>This is the same stuff you can buy at the big ...</td>\n",
              "      <td>This is the same stuff you can buy at the big ...</td>\n",
              "    </tr>\n",
              "    <tr>\n",
              "      <th>50</th>\n",
              "      <td>B001EO5QW8</td>\n",
              "      <td>0</td>\n",
              "      <td>Don't like it</td>\n",
              "      <td>This oatmeal is not good. Its mushy, soft, I d...</td>\n",
              "      <td>This oatmeal is not good Its mushy soft don li...</td>\n",
              "    </tr>\n",
              "  </tbody>\n",
              "</table>\n",
              "</div>"
            ],
            "text/plain": [
              "     ProductId  ...                                           Pre_Text\n",
              "45  B001EO5QW8  ...  This seems little more wholesome than some of ...\n",
              "47  B001EO5QW8  ...  The flavors are good However do not see any di...\n",
              "49  B001EO5QW8  ...  This is the same stuff you can buy at the big ...\n",
              "50  B001EO5QW8  ...  This oatmeal is not good Its mushy soft don li...\n",
              "\n",
              "[4 rows x 5 columns]"
            ]
          },
          "metadata": {
            "tags": []
          },
          "execution_count": 425
        }
      ]
    },
    {
      "cell_type": "code",
      "metadata": {
        "colab": {
          "base_uri": "https://localhost:8080/",
          "height": 491
        },
        "id": "PGKkl2K-ifX_",
        "outputId": "110238d8-6326-4ebb-d66d-52b03fa43cd0"
      },
      "source": [
        "df2"
      ],
      "execution_count": null,
      "outputs": [
        {
          "output_type": "execute_result",
          "data": {
            "text/html": [
              "<div>\n",
              "<style scoped>\n",
              "    .dataframe tbody tr th:only-of-type {\n",
              "        vertical-align: middle;\n",
              "    }\n",
              "\n",
              "    .dataframe tbody tr th {\n",
              "        vertical-align: top;\n",
              "    }\n",
              "\n",
              "    .dataframe thead th {\n",
              "        text-align: right;\n",
              "    }\n",
              "</style>\n",
              "<table border=\"1\" class=\"dataframe\">\n",
              "  <thead>\n",
              "    <tr style=\"text-align: right;\">\n",
              "      <th></th>\n",
              "      <th>ProductId</th>\n",
              "      <th>Score</th>\n",
              "      <th>Summary</th>\n",
              "      <th>Text</th>\n",
              "      <th>Pre_Text</th>\n",
              "    </tr>\n",
              "  </thead>\n",
              "  <tbody>\n",
              "    <tr>\n",
              "      <th>32</th>\n",
              "      <td>B001EO5QW8</td>\n",
              "      <td>1</td>\n",
              "      <td>Best of the Instant Oatmeals</td>\n",
              "      <td>McCann's Instant Oatmeal is great if you must ...</td>\n",
              "      <td>McCann Instant Oatmeal is great if you must ha...</td>\n",
              "    </tr>\n",
              "    <tr>\n",
              "      <th>33</th>\n",
              "      <td>B001EO5QW8</td>\n",
              "      <td>1</td>\n",
              "      <td>Good Instant</td>\n",
              "      <td>This is a good instant oatmeal from the best o...</td>\n",
              "      <td>This is good instant oatmeal from the best oat...</td>\n",
              "    </tr>\n",
              "    <tr>\n",
              "      <th>34</th>\n",
              "      <td>B001EO5QW8</td>\n",
              "      <td>1</td>\n",
              "      <td>Great Irish oatmeal for those in a hurry!</td>\n",
              "      <td>Instant oatmeal can become soggy the minute th...</td>\n",
              "      <td>Instant oatmeal can become soggy the minute th...</td>\n",
              "    </tr>\n",
              "    <tr>\n",
              "      <th>35</th>\n",
              "      <td>B001EO5QW8</td>\n",
              "      <td>1</td>\n",
              "      <td>satisfying</td>\n",
              "      <td>McCann's Instant Irish Oatmeal, Variety Pack o...</td>\n",
              "      <td>McCann Instant Irish Oatmeal Variety Pack of R...</td>\n",
              "    </tr>\n",
              "    <tr>\n",
              "      <th>36</th>\n",
              "      <td>B001EO5QW8</td>\n",
              "      <td>1</td>\n",
              "      <td>Love Gluten Free Oatmeal!!!</td>\n",
              "      <td>For those of us with celiac disease this produ...</td>\n",
              "      <td>For those of us with celiac disease this produ...</td>\n",
              "    </tr>\n",
              "    <tr>\n",
              "      <th>37</th>\n",
              "      <td>B001EO5QW8</td>\n",
              "      <td>1</td>\n",
              "      <td>it's oatmeal</td>\n",
              "      <td>What else do you need to know? Oatmeal, instan...</td>\n",
              "      <td>What else do you need to know Oatmeal instant ...</td>\n",
              "    </tr>\n",
              "    <tr>\n",
              "      <th>38</th>\n",
              "      <td>B001EO5QW8</td>\n",
              "      <td>1</td>\n",
              "      <td>GOOD WAY TO START THE DAY....</td>\n",
              "      <td>I WAS VISITING MY FRIEND NATE THE OTHER MORNIN...</td>\n",
              "      <td>I WAS VISITING MY FRIEND NATE THE OTHER MORNIN...</td>\n",
              "    </tr>\n",
              "    <tr>\n",
              "      <th>39</th>\n",
              "      <td>B001EO5QW8</td>\n",
              "      <td>1</td>\n",
              "      <td>Wife's favorite Breakfast</td>\n",
              "      <td>I ordered this for my wife as it was reccomend...</td>\n",
              "      <td>I ordered this for my wife as it was reccomend...</td>\n",
              "    </tr>\n",
              "    <tr>\n",
              "      <th>40</th>\n",
              "      <td>B001EO5QW8</td>\n",
              "      <td>1</td>\n",
              "      <td>Why wouldn't you buy oatmeal from Mcanns? Tast...</td>\n",
              "      <td>The variety packs taste great!&lt;br /&gt;&lt;br /&gt;I ha...</td>\n",
              "      <td>The variety packs taste great have them every ...</td>\n",
              "    </tr>\n",
              "    <tr>\n",
              "      <th>41</th>\n",
              "      <td>B001EO5QW8</td>\n",
              "      <td>1</td>\n",
              "      <td>Oatmeal For Oatmeal Lovers</td>\n",
              "      <td>McCann's makes oatmeal for every oatmeal conno...</td>\n",
              "      <td>McCann makes oatmeal for every oatmeal connois...</td>\n",
              "    </tr>\n",
              "    <tr>\n",
              "      <th>42</th>\n",
              "      <td>B001EO5QW8</td>\n",
              "      <td>1</td>\n",
              "      <td>Food-Great</td>\n",
              "      <td>I have McCann's Oatmeal every morning and by o...</td>\n",
              "      <td>I have McCann Oatmeal every morning and by ord...</td>\n",
              "    </tr>\n",
              "    <tr>\n",
              "      <th>43</th>\n",
              "      <td>B001EO5QW8</td>\n",
              "      <td>1</td>\n",
              "      <td>Good Hot Breakfast</td>\n",
              "      <td>McCann's Oatmeal is a good quality choice.  Ou...</td>\n",
              "      <td>McCann Oatmeal is good quality choice Our favo...</td>\n",
              "    </tr>\n",
              "    <tr>\n",
              "      <th>44</th>\n",
              "      <td>B001EO5QW8</td>\n",
              "      <td>1</td>\n",
              "      <td>Great taste and convenience</td>\n",
              "      <td>We really like the McCann's steel cut oats but...</td>\n",
              "      <td>We really like the McCann steel cut oats but f...</td>\n",
              "    </tr>\n",
              "    <tr>\n",
              "      <th>46</th>\n",
              "      <td>B001EO5QW8</td>\n",
              "      <td>1</td>\n",
              "      <td>good</td>\n",
              "      <td>Good oatmeal.  I like the apple cinnamon the b...</td>\n",
              "      <td>Good oatmeal like the apple cinnamon the best ...</td>\n",
              "    </tr>\n",
              "    <tr>\n",
              "      <th>48</th>\n",
              "      <td>B001EO5QW8</td>\n",
              "      <td>1</td>\n",
              "      <td>Very good but next time I won't order the Vari...</td>\n",
              "      <td>I really like the Maple and Brown Sugar flavor...</td>\n",
              "      <td>I really like the Maple and Brown Sugar flavor...</td>\n",
              "    </tr>\n",
              "  </tbody>\n",
              "</table>\n",
              "</div>"
            ],
            "text/plain": [
              "     ProductId  ...                                           Pre_Text\n",
              "32  B001EO5QW8  ...  McCann Instant Oatmeal is great if you must ha...\n",
              "33  B001EO5QW8  ...  This is good instant oatmeal from the best oat...\n",
              "34  B001EO5QW8  ...  Instant oatmeal can become soggy the minute th...\n",
              "35  B001EO5QW8  ...  McCann Instant Irish Oatmeal Variety Pack of R...\n",
              "36  B001EO5QW8  ...  For those of us with celiac disease this produ...\n",
              "37  B001EO5QW8  ...  What else do you need to know Oatmeal instant ...\n",
              "38  B001EO5QW8  ...  I WAS VISITING MY FRIEND NATE THE OTHER MORNIN...\n",
              "39  B001EO5QW8  ...  I ordered this for my wife as it was reccomend...\n",
              "40  B001EO5QW8  ...  The variety packs taste great have them every ...\n",
              "41  B001EO5QW8  ...  McCann makes oatmeal for every oatmeal connois...\n",
              "42  B001EO5QW8  ...  I have McCann Oatmeal every morning and by ord...\n",
              "43  B001EO5QW8  ...  McCann Oatmeal is good quality choice Our favo...\n",
              "44  B001EO5QW8  ...  We really like the McCann steel cut oats but f...\n",
              "46  B001EO5QW8  ...  Good oatmeal like the apple cinnamon the best ...\n",
              "48  B001EO5QW8  ...  I really like the Maple and Brown Sugar flavor...\n",
              "\n",
              "[15 rows x 5 columns]"
            ]
          },
          "metadata": {
            "tags": []
          },
          "execution_count": 426
        }
      ]
    },
    {
      "cell_type": "code",
      "metadata": {
        "id": "MMHCI53ze705"
      },
      "source": [
        "df1[\"Text\"].values"
      ],
      "execution_count": null,
      "outputs": []
    },
    {
      "cell_type": "code",
      "metadata": {
        "id": "UMRFelhnfL43"
      },
      "source": [
        "df2[\"Text\"].values"
      ],
      "execution_count": null,
      "outputs": []
    },
    {
      "cell_type": "code",
      "metadata": {
        "id": "tqmXX9GCaWlA"
      },
      "source": [
        "df1['Pre_Text_tokenized']=df1['Pre_Text'].apply(tokenize_reviews)\n",
        "df2['Pre_Text_tokenized']=df2['Pre_Text'].apply(tokenize_reviews)"
      ],
      "execution_count": null,
      "outputs": []
    },
    {
      "cell_type": "code",
      "metadata": {
        "id": "Fj4R3qUMahE2"
      },
      "source": [
        "from tensorflow.keras.preprocessing.sequence import pad_sequences\n",
        "# df1.Pre_Text_tokenized=pad_sequences(df1.Pre_Text_tokenized,5000)\n",
        "# df2.Pre_Text_tokenized=pad_sequences(df2.Pre_Text_tokenized,5000)\n",
        "\n",
        "df1_Pre_Text_tokenized=pad_sequences(df1.Pre_Text_tokenized,5000)\n",
        "df2_Pre_Text_tokenized=pad_sequences(df2.Pre_Text_tokenized,5000)"
      ],
      "execution_count": null,
      "outputs": []
    },
    {
      "cell_type": "code",
      "metadata": {
        "colab": {
          "base_uri": "https://localhost:8080/"
        },
        "id": "Dz92sSP2crAC",
        "outputId": "9ade9a1f-88f6-462a-abc9-03ef788bf137"
      },
      "source": [
        "model.summary()"
      ],
      "execution_count": null,
      "outputs": [
        {
          "output_type": "stream",
          "text": [
            "Model: \"sequential\"\n",
            "_________________________________________________________________\n",
            "Layer (type)                 Output Shape              Param #   \n",
            "=================================================================\n",
            "embedding (Embedding)        (None, None, 200)         6104400   \n",
            "_________________________________________________________________\n",
            "conv1d (Conv1D)              (None, None, 100)         40100     \n",
            "_________________________________________________________________\n",
            "conv1d_1 (Conv1D)            (None, None, 100)         30100     \n",
            "_________________________________________________________________\n",
            "conv1d_2 (Conv1D)            (None, None, 100)         40100     \n",
            "_________________________________________________________________\n",
            "global_max_pooling1d (Global (None, 100)               0         \n",
            "_________________________________________________________________\n",
            "dense (Dense)                (None, 256)               25856     \n",
            "_________________________________________________________________\n",
            "dropout (Dropout)            (None, 256)               0         \n",
            "_________________________________________________________________\n",
            "dense_1 (Dense)              (None, 1)                 257       \n",
            "=================================================================\n",
            "Total params: 6,240,813\n",
            "Trainable params: 6,240,813\n",
            "Non-trainable params: 0\n",
            "_________________________________________________________________\n"
          ],
          "name": "stdout"
        }
      ]
    },
    {
      "cell_type": "code",
      "metadata": {
        "id": "OkcZbXpKdiGM"
      },
      "source": [
        "df1_Pre_Text_tokenized\n",
        "df2_Pre_Text_tokenized"
      ],
      "execution_count": null,
      "outputs": []
    },
    {
      "cell_type": "code",
      "metadata": {
        "id": "vQdSHR2YtMQ3"
      },
      "source": [
        "pred_df1= model.predict(df1_Pre_Text_tokenized)"
      ],
      "execution_count": null,
      "outputs": []
    },
    {
      "cell_type": "code",
      "metadata": {
        "colab": {
          "base_uri": "https://localhost:8080/"
        },
        "id": "HiRMWggGtWR3",
        "outputId": "5456e704-fecf-4814-d555-d71fd7a81b2c"
      },
      "source": [
        "pred_df1"
      ],
      "execution_count": null,
      "outputs": [
        {
          "output_type": "execute_result",
          "data": {
            "text/plain": [
              "array([[0.1403712 ],\n",
              "       [0.37167156],\n",
              "       [0.02261996],\n",
              "       [0.21969062]], dtype=float32)"
            ]
          },
          "metadata": {
            "tags": []
          },
          "execution_count": 430
        }
      ]
    },
    {
      "cell_type": "code",
      "metadata": {
        "id": "XFVduR4pthG3"
      },
      "source": [
        "pred_df2= model.predict(df2_Pre_Text_tokenized)"
      ],
      "execution_count": null,
      "outputs": []
    },
    {
      "cell_type": "code",
      "metadata": {
        "colab": {
          "base_uri": "https://localhost:8080/"
        },
        "id": "n-NX4Vs1tk2_",
        "outputId": "4662708a-9a73-4e3c-ac74-1ccdc4fe060e"
      },
      "source": [
        "pred_df2"
      ],
      "execution_count": null,
      "outputs": [
        {
          "output_type": "execute_result",
          "data": {
            "text/plain": [
              "array([[0.6185361 ],\n",
              "       [0.88245535],\n",
              "       [0.9932885 ],\n",
              "       [0.44101736],\n",
              "       [0.6876657 ],\n",
              "       [0.12886393],\n",
              "       [0.7780018 ],\n",
              "       [0.73510826],\n",
              "       [0.7595823 ],\n",
              "       [0.5274102 ],\n",
              "       [0.900064  ],\n",
              "       [0.7956447 ],\n",
              "       [0.22020778],\n",
              "       [0.67018425],\n",
              "       [0.9705362 ]], dtype=float32)"
            ]
          },
          "metadata": {
            "tags": []
          },
          "execution_count": 432
        }
      ]
    },
    {
      "cell_type": "code",
      "metadata": {
        "id": "E7KQhliIc322"
      },
      "source": [
        "def func(x):\n",
        "  if(x>=0.4):\n",
        "    return 1\n",
        "  else:\n",
        "    return 0"
      ],
      "execution_count": null,
      "outputs": []
    },
    {
      "cell_type": "code",
      "metadata": {
        "id": "C2mUMCfXdfUj"
      },
      "source": [
        "df1['pred']= pred_df1\n",
        "df2['pred']= pred_df2\n",
        "#df1['pred']=df1['pred'].apply(func)\n",
        "#df2['pred']=df2['pred'].apply(func)"
      ],
      "execution_count": null,
      "outputs": []
    },
    {
      "cell_type": "code",
      "metadata": {
        "colab": {
          "base_uri": "https://localhost:8080/",
          "height": 166
        },
        "id": "DOlStZtnuXko",
        "outputId": "8302ea4b-96e1-47de-bb62-6e5f413f561d"
      },
      "source": [
        "df1"
      ],
      "execution_count": null,
      "outputs": [
        {
          "output_type": "execute_result",
          "data": {
            "text/html": [
              "<div>\n",
              "<style scoped>\n",
              "    .dataframe tbody tr th:only-of-type {\n",
              "        vertical-align: middle;\n",
              "    }\n",
              "\n",
              "    .dataframe tbody tr th {\n",
              "        vertical-align: top;\n",
              "    }\n",
              "\n",
              "    .dataframe thead th {\n",
              "        text-align: right;\n",
              "    }\n",
              "</style>\n",
              "<table border=\"1\" class=\"dataframe\">\n",
              "  <thead>\n",
              "    <tr style=\"text-align: right;\">\n",
              "      <th></th>\n",
              "      <th>ProductId</th>\n",
              "      <th>Score</th>\n",
              "      <th>Summary</th>\n",
              "      <th>Text</th>\n",
              "      <th>Pre_Text</th>\n",
              "      <th>Pre_Text_tokenized</th>\n",
              "      <th>pred</th>\n",
              "    </tr>\n",
              "  </thead>\n",
              "  <tbody>\n",
              "    <tr>\n",
              "      <th>45</th>\n",
              "      <td>B001EO5QW8</td>\n",
              "      <td>0</td>\n",
              "      <td>Hearty Oatmeal</td>\n",
              "      <td>This seems a little more wholesome than some o...</td>\n",
              "      <td>This seems little more wholesome than some of ...</td>\n",
              "      <td>[2023, 3849, 2210, 2062, 2878, 14045, 2084, 20...</td>\n",
              "      <td>0.140371</td>\n",
              "    </tr>\n",
              "    <tr>\n",
              "      <th>47</th>\n",
              "      <td>B001EO5QW8</td>\n",
              "      <td>0</td>\n",
              "      <td>Mushy</td>\n",
              "      <td>The flavors are good.  However, I do not see a...</td>\n",
              "      <td>The flavors are good However do not see any di...</td>\n",
              "      <td>[1996, 26389, 2024, 2204, 2174, 2079, 2025, 21...</td>\n",
              "      <td>0.371672</td>\n",
              "    </tr>\n",
              "    <tr>\n",
              "      <th>49</th>\n",
              "      <td>B001EO5QW8</td>\n",
              "      <td>0</td>\n",
              "      <td>Same stuff</td>\n",
              "      <td>This is the same stuff you can buy at the big ...</td>\n",
              "      <td>This is the same stuff you can buy at the big ...</td>\n",
              "      <td>[2023, 2003, 1996, 2168, 4933, 2017, 2064, 496...</td>\n",
              "      <td>0.022620</td>\n",
              "    </tr>\n",
              "    <tr>\n",
              "      <th>50</th>\n",
              "      <td>B001EO5QW8</td>\n",
              "      <td>0</td>\n",
              "      <td>Don't like it</td>\n",
              "      <td>This oatmeal is not good. Its mushy, soft, I d...</td>\n",
              "      <td>This oatmeal is not good Its mushy soft don li...</td>\n",
              "      <td>[2023, 1051, 4017, 4168, 2389, 2003, 2025, 220...</td>\n",
              "      <td>0.219691</td>\n",
              "    </tr>\n",
              "  </tbody>\n",
              "</table>\n",
              "</div>"
            ],
            "text/plain": [
              "     ProductId  ...      pred\n",
              "45  B001EO5QW8  ...  0.140371\n",
              "47  B001EO5QW8  ...  0.371672\n",
              "49  B001EO5QW8  ...  0.022620\n",
              "50  B001EO5QW8  ...  0.219691\n",
              "\n",
              "[4 rows x 7 columns]"
            ]
          },
          "metadata": {
            "tags": []
          },
          "execution_count": 434
        }
      ]
    },
    {
      "cell_type": "code",
      "metadata": {
        "colab": {
          "base_uri": "https://localhost:8080/",
          "height": 743
        },
        "id": "XbaYbhmjuB8f",
        "outputId": "dce052f6-6e6b-4db0-fc86-49e795bf3644"
      },
      "source": [
        "df2"
      ],
      "execution_count": null,
      "outputs": [
        {
          "output_type": "execute_result",
          "data": {
            "text/html": [
              "<div>\n",
              "<style scoped>\n",
              "    .dataframe tbody tr th:only-of-type {\n",
              "        vertical-align: middle;\n",
              "    }\n",
              "\n",
              "    .dataframe tbody tr th {\n",
              "        vertical-align: top;\n",
              "    }\n",
              "\n",
              "    .dataframe thead th {\n",
              "        text-align: right;\n",
              "    }\n",
              "</style>\n",
              "<table border=\"1\" class=\"dataframe\">\n",
              "  <thead>\n",
              "    <tr style=\"text-align: right;\">\n",
              "      <th></th>\n",
              "      <th>ProductId</th>\n",
              "      <th>Score</th>\n",
              "      <th>Summary</th>\n",
              "      <th>Text</th>\n",
              "      <th>Pre_Text</th>\n",
              "      <th>Pre_Text_tokenized</th>\n",
              "      <th>pred</th>\n",
              "    </tr>\n",
              "  </thead>\n",
              "  <tbody>\n",
              "    <tr>\n",
              "      <th>32</th>\n",
              "      <td>B001EO5QW8</td>\n",
              "      <td>1</td>\n",
              "      <td>Best of the Instant Oatmeals</td>\n",
              "      <td>McCann's Instant Oatmeal is great if you must ...</td>\n",
              "      <td>McCann Instant Oatmeal is great if you must ha...</td>\n",
              "      <td>[28641, 7107, 1051, 4017, 4168, 2389, 2003, 23...</td>\n",
              "      <td>0.618536</td>\n",
              "    </tr>\n",
              "    <tr>\n",
              "      <th>33</th>\n",
              "      <td>B001EO5QW8</td>\n",
              "      <td>1</td>\n",
              "      <td>Good Instant</td>\n",
              "      <td>This is a good instant oatmeal from the best o...</td>\n",
              "      <td>This is good instant oatmeal from the best oat...</td>\n",
              "      <td>[2023, 2003, 2204, 7107, 1051, 4017, 4168, 238...</td>\n",
              "      <td>0.882455</td>\n",
              "    </tr>\n",
              "    <tr>\n",
              "      <th>34</th>\n",
              "      <td>B001EO5QW8</td>\n",
              "      <td>1</td>\n",
              "      <td>Great Irish oatmeal for those in a hurry!</td>\n",
              "      <td>Instant oatmeal can become soggy the minute th...</td>\n",
              "      <td>Instant oatmeal can become soggy the minute th...</td>\n",
              "      <td>[7107, 1051, 4017, 4168, 2389, 2064, 2468, 206...</td>\n",
              "      <td>0.993289</td>\n",
              "    </tr>\n",
              "    <tr>\n",
              "      <th>35</th>\n",
              "      <td>B001EO5QW8</td>\n",
              "      <td>1</td>\n",
              "      <td>satisfying</td>\n",
              "      <td>McCann's Instant Irish Oatmeal, Variety Pack o...</td>\n",
              "      <td>McCann Instant Irish Oatmeal Variety Pack of R...</td>\n",
              "      <td>[28641, 7107, 3493, 1051, 4017, 4168, 2389, 35...</td>\n",
              "      <td>0.441017</td>\n",
              "    </tr>\n",
              "    <tr>\n",
              "      <th>36</th>\n",
              "      <td>B001EO5QW8</td>\n",
              "      <td>1</td>\n",
              "      <td>Love Gluten Free Oatmeal!!!</td>\n",
              "      <td>For those of us with celiac disease this produ...</td>\n",
              "      <td>For those of us with celiac disease this produ...</td>\n",
              "      <td>[2005, 2216, 1997, 2149, 2007, 18020, 2278, 42...</td>\n",
              "      <td>0.687666</td>\n",
              "    </tr>\n",
              "    <tr>\n",
              "      <th>37</th>\n",
              "      <td>B001EO5QW8</td>\n",
              "      <td>1</td>\n",
              "      <td>it's oatmeal</td>\n",
              "      <td>What else do you need to know? Oatmeal, instan...</td>\n",
              "      <td>What else do you need to know Oatmeal instant ...</td>\n",
              "      <td>[2054, 2842, 2079, 2017, 2342, 2000, 2113, 105...</td>\n",
              "      <td>0.128864</td>\n",
              "    </tr>\n",
              "    <tr>\n",
              "      <th>38</th>\n",
              "      <td>B001EO5QW8</td>\n",
              "      <td>1</td>\n",
              "      <td>GOOD WAY TO START THE DAY....</td>\n",
              "      <td>I WAS VISITING MY FRIEND NATE THE OTHER MORNIN...</td>\n",
              "      <td>I WAS VISITING MY FRIEND NATE THE OTHER MORNIN...</td>\n",
              "      <td>[1045, 2001, 5873, 2026, 2767, 8253, 1996, 206...</td>\n",
              "      <td>0.778002</td>\n",
              "    </tr>\n",
              "    <tr>\n",
              "      <th>39</th>\n",
              "      <td>B001EO5QW8</td>\n",
              "      <td>1</td>\n",
              "      <td>Wife's favorite Breakfast</td>\n",
              "      <td>I ordered this for my wife as it was reccomend...</td>\n",
              "      <td>I ordered this for my wife as it was reccomend...</td>\n",
              "      <td>[1045, 3641, 2023, 2005, 2026, 2564, 2004, 200...</td>\n",
              "      <td>0.735108</td>\n",
              "    </tr>\n",
              "    <tr>\n",
              "      <th>40</th>\n",
              "      <td>B001EO5QW8</td>\n",
              "      <td>1</td>\n",
              "      <td>Why wouldn't you buy oatmeal from Mcanns? Tast...</td>\n",
              "      <td>The variety packs taste great!&lt;br /&gt;&lt;br /&gt;I ha...</td>\n",
              "      <td>The variety packs taste great have them every ...</td>\n",
              "      <td>[1996, 3528, 15173, 5510, 2307, 2031, 2068, 22...</td>\n",
              "      <td>0.759582</td>\n",
              "    </tr>\n",
              "    <tr>\n",
              "      <th>41</th>\n",
              "      <td>B001EO5QW8</td>\n",
              "      <td>1</td>\n",
              "      <td>Oatmeal For Oatmeal Lovers</td>\n",
              "      <td>McCann's makes oatmeal for every oatmeal conno...</td>\n",
              "      <td>McCann makes oatmeal for every oatmeal connois...</td>\n",
              "      <td>[28641, 3084, 1051, 4017, 4168, 2389, 2005, 22...</td>\n",
              "      <td>0.527410</td>\n",
              "    </tr>\n",
              "    <tr>\n",
              "      <th>42</th>\n",
              "      <td>B001EO5QW8</td>\n",
              "      <td>1</td>\n",
              "      <td>Food-Great</td>\n",
              "      <td>I have McCann's Oatmeal every morning and by o...</td>\n",
              "      <td>I have McCann Oatmeal every morning and by ord...</td>\n",
              "      <td>[1045, 2031, 28641, 1051, 4017, 4168, 2389, 22...</td>\n",
              "      <td>0.900064</td>\n",
              "    </tr>\n",
              "    <tr>\n",
              "      <th>43</th>\n",
              "      <td>B001EO5QW8</td>\n",
              "      <td>1</td>\n",
              "      <td>Good Hot Breakfast</td>\n",
              "      <td>McCann's Oatmeal is a good quality choice.  Ou...</td>\n",
              "      <td>McCann Oatmeal is good quality choice Our favo...</td>\n",
              "      <td>[28641, 1051, 4017, 4168, 2389, 2003, 2204, 37...</td>\n",
              "      <td>0.795645</td>\n",
              "    </tr>\n",
              "    <tr>\n",
              "      <th>44</th>\n",
              "      <td>B001EO5QW8</td>\n",
              "      <td>1</td>\n",
              "      <td>Great taste and convenience</td>\n",
              "      <td>We really like the McCann's steel cut oats but...</td>\n",
              "      <td>We really like the McCann steel cut oats but f...</td>\n",
              "      <td>[2057, 2428, 2066, 1996, 28641, 3886, 3013, 10...</td>\n",
              "      <td>0.220208</td>\n",
              "    </tr>\n",
              "    <tr>\n",
              "      <th>46</th>\n",
              "      <td>B001EO5QW8</td>\n",
              "      <td>1</td>\n",
              "      <td>good</td>\n",
              "      <td>Good oatmeal.  I like the apple cinnamon the b...</td>\n",
              "      <td>Good oatmeal like the apple cinnamon the best ...</td>\n",
              "      <td>[2204, 1051, 4017, 4168, 2389, 2066, 1996, 620...</td>\n",
              "      <td>0.670184</td>\n",
              "    </tr>\n",
              "    <tr>\n",
              "      <th>48</th>\n",
              "      <td>B001EO5QW8</td>\n",
              "      <td>1</td>\n",
              "      <td>Very good but next time I won't order the Vari...</td>\n",
              "      <td>I really like the Maple and Brown Sugar flavor...</td>\n",
              "      <td>I really like the Maple and Brown Sugar flavor...</td>\n",
              "      <td>[1045, 2428, 2066, 1996, 11035, 1998, 2829, 56...</td>\n",
              "      <td>0.970536</td>\n",
              "    </tr>\n",
              "  </tbody>\n",
              "</table>\n",
              "</div>"
            ],
            "text/plain": [
              "     ProductId  ...      pred\n",
              "32  B001EO5QW8  ...  0.618536\n",
              "33  B001EO5QW8  ...  0.882455\n",
              "34  B001EO5QW8  ...  0.993289\n",
              "35  B001EO5QW8  ...  0.441017\n",
              "36  B001EO5QW8  ...  0.687666\n",
              "37  B001EO5QW8  ...  0.128864\n",
              "38  B001EO5QW8  ...  0.778002\n",
              "39  B001EO5QW8  ...  0.735108\n",
              "40  B001EO5QW8  ...  0.759582\n",
              "41  B001EO5QW8  ...  0.527410\n",
              "42  B001EO5QW8  ...  0.900064\n",
              "43  B001EO5QW8  ...  0.795645\n",
              "44  B001EO5QW8  ...  0.220208\n",
              "46  B001EO5QW8  ...  0.670184\n",
              "48  B001EO5QW8  ...  0.970536\n",
              "\n",
              "[15 rows x 7 columns]"
            ]
          },
          "metadata": {
            "tags": []
          },
          "execution_count": 435
        }
      ]
    },
    {
      "cell_type": "code",
      "metadata": {
        "colab": {
          "base_uri": "https://localhost:8080/"
        },
        "id": "p0xZAn6geuKf",
        "outputId": "d062a470-817c-425b-b481-9a7655bfb8cb"
      },
      "source": [
        "df1.shape #negative reviews"
      ],
      "execution_count": null,
      "outputs": [
        {
          "output_type": "execute_result",
          "data": {
            "text/plain": [
              "(2, 6)"
            ]
          },
          "metadata": {
            "tags": []
          },
          "execution_count": 286
        }
      ]
    },
    {
      "cell_type": "code",
      "metadata": {
        "colab": {
          "base_uri": "https://localhost:8080/"
        },
        "id": "jguepSjmi0me",
        "outputId": "6192a627-6fb2-482d-a9d4-625643f3a850"
      },
      "source": [
        "df2.shape #positive reviews"
      ],
      "execution_count": null,
      "outputs": [
        {
          "output_type": "execute_result",
          "data": {
            "text/plain": [
              "(13, 6)"
            ]
          },
          "metadata": {
            "tags": []
          },
          "execution_count": 285
        }
      ]
    },
    {
      "cell_type": "markdown",
      "metadata": {
        "id": "CnrmzBAsv08X"
      },
      "source": [
        "# Finding Positive Similar Reviews and Negative Similar Reviews"
      ]
    },
    {
      "cell_type": "code",
      "metadata": {
        "id": "C9ZYJ5eNfn7W"
      },
      "source": [
        "import pandas as pd\n",
        "import numpy as np\n",
        "from sklearn.feature_extraction.text import TfidfVectorizer\n",
        "from sklearn.metrics.pairwise import cosine_similarity"
      ],
      "execution_count": null,
      "outputs": []
    },
    {
      "cell_type": "code",
      "metadata": {
        "colab": {
          "base_uri": "https://localhost:8080/"
        },
        "id": "0Fnef5vWfzVa",
        "outputId": "2fb5806d-c253-4b9d-f09b-64065466b00a"
      },
      "source": [
        "corpus1 = list(df1['Text'].values)\n",
        "vectorizer = TfidfVectorizer()\n",
        "X1 = vectorizer.fit_transform(corpus1)\n",
        "threshold = 0.5\n",
        "X1"
      ],
      "execution_count": null,
      "outputs": [
        {
          "output_type": "execute_result",
          "data": {
            "text/plain": [
              "<4x83 sparse matrix of type '<class 'numpy.float64'>'\n",
              "\twith 102 stored elements in Compressed Sparse Row format>"
            ]
          },
          "metadata": {
            "tags": []
          },
          "execution_count": 436
        }
      ]
    },
    {
      "cell_type": "code",
      "metadata": {
        "colab": {
          "base_uri": "https://localhost:8080/"
        },
        "id": "Onodlyibi7JG",
        "outputId": "d3693658-67b1-4e55-cc75-c917fb0067d9"
      },
      "source": [
        "corpus2 = list(df2['Text'].values)\n",
        "vectorizer = TfidfVectorizer()\n",
        "X2 = vectorizer.fit_transform(corpus2)\n",
        "threshold = 0.5\n",
        "X2"
      ],
      "execution_count": null,
      "outputs": [
        {
          "output_type": "execute_result",
          "data": {
            "text/plain": [
              "<15x416 sparse matrix of type '<class 'numpy.float64'>'\n",
              "\twith 880 stored elements in Compressed Sparse Row format>"
            ]
          },
          "metadata": {
            "tags": []
          },
          "execution_count": 437
        }
      ]
    },
    {
      "cell_type": "code",
      "metadata": {
        "colab": {
          "base_uri": "https://localhost:8080/"
        },
        "id": "zTTiLEEVf5ol",
        "outputId": "0361b549-a8ba-4654-a04d-4bca33f43b85"
      },
      "source": [
        "len(corpus1)"
      ],
      "execution_count": null,
      "outputs": [
        {
          "output_type": "execute_result",
          "data": {
            "text/plain": [
              "2"
            ]
          },
          "metadata": {
            "tags": []
          },
          "execution_count": 361
        }
      ]
    },
    {
      "cell_type": "code",
      "metadata": {
        "colab": {
          "base_uri": "https://localhost:8080/"
        },
        "id": "1lHIVidyjDCU",
        "outputId": "3ae4894b-3f92-4561-b2c1-88bd47189f0e"
      },
      "source": [
        "len(corpus2)"
      ],
      "execution_count": null,
      "outputs": [
        {
          "output_type": "execute_result",
          "data": {
            "text/plain": [
              "13"
            ]
          },
          "metadata": {
            "tags": []
          },
          "execution_count": 362
        }
      ]
    },
    {
      "cell_type": "code",
      "metadata": {
        "colab": {
          "base_uri": "https://localhost:8080/",
          "height": 166
        },
        "id": "HnA_jA4Ff77k",
        "outputId": "f2bd0740-0078-4274-debb-6b9e00a195cc"
      },
      "source": [
        "index=[]\n",
        "for i in range(len(corpus1)):\n",
        "  index.append(i)\n",
        "df1.index=index\n",
        "df1"
      ],
      "execution_count": null,
      "outputs": [
        {
          "output_type": "execute_result",
          "data": {
            "text/html": [
              "<div>\n",
              "<style scoped>\n",
              "    .dataframe tbody tr th:only-of-type {\n",
              "        vertical-align: middle;\n",
              "    }\n",
              "\n",
              "    .dataframe tbody tr th {\n",
              "        vertical-align: top;\n",
              "    }\n",
              "\n",
              "    .dataframe thead th {\n",
              "        text-align: right;\n",
              "    }\n",
              "</style>\n",
              "<table border=\"1\" class=\"dataframe\">\n",
              "  <thead>\n",
              "    <tr style=\"text-align: right;\">\n",
              "      <th></th>\n",
              "      <th>ProductId</th>\n",
              "      <th>Score</th>\n",
              "      <th>Summary</th>\n",
              "      <th>Text</th>\n",
              "      <th>Pre_Text</th>\n",
              "      <th>Pre_Text_tokenized</th>\n",
              "      <th>pred</th>\n",
              "    </tr>\n",
              "  </thead>\n",
              "  <tbody>\n",
              "    <tr>\n",
              "      <th>0</th>\n",
              "      <td>B001EO5QW8</td>\n",
              "      <td>0</td>\n",
              "      <td>Hearty Oatmeal</td>\n",
              "      <td>This seems a little more wholesome than some o...</td>\n",
              "      <td>This seems little more wholesome than some of ...</td>\n",
              "      <td>[2023, 3849, 2210, 2062, 2878, 14045, 2084, 20...</td>\n",
              "      <td>0.140371</td>\n",
              "    </tr>\n",
              "    <tr>\n",
              "      <th>1</th>\n",
              "      <td>B001EO5QW8</td>\n",
              "      <td>0</td>\n",
              "      <td>Mushy</td>\n",
              "      <td>The flavors are good.  However, I do not see a...</td>\n",
              "      <td>The flavors are good However do not see any di...</td>\n",
              "      <td>[1996, 26389, 2024, 2204, 2174, 2079, 2025, 21...</td>\n",
              "      <td>0.371672</td>\n",
              "    </tr>\n",
              "    <tr>\n",
              "      <th>2</th>\n",
              "      <td>B001EO5QW8</td>\n",
              "      <td>0</td>\n",
              "      <td>Same stuff</td>\n",
              "      <td>This is the same stuff you can buy at the big ...</td>\n",
              "      <td>This is the same stuff you can buy at the big ...</td>\n",
              "      <td>[2023, 2003, 1996, 2168, 4933, 2017, 2064, 496...</td>\n",
              "      <td>0.022620</td>\n",
              "    </tr>\n",
              "    <tr>\n",
              "      <th>3</th>\n",
              "      <td>B001EO5QW8</td>\n",
              "      <td>0</td>\n",
              "      <td>Don't like it</td>\n",
              "      <td>This oatmeal is not good. Its mushy, soft, I d...</td>\n",
              "      <td>This oatmeal is not good Its mushy soft don li...</td>\n",
              "      <td>[2023, 1051, 4017, 4168, 2389, 2003, 2025, 220...</td>\n",
              "      <td>0.219691</td>\n",
              "    </tr>\n",
              "  </tbody>\n",
              "</table>\n",
              "</div>"
            ],
            "text/plain": [
              "    ProductId  ...      pred\n",
              "0  B001EO5QW8  ...  0.140371\n",
              "1  B001EO5QW8  ...  0.371672\n",
              "2  B001EO5QW8  ...  0.022620\n",
              "3  B001EO5QW8  ...  0.219691\n",
              "\n",
              "[4 rows x 7 columns]"
            ]
          },
          "metadata": {
            "tags": []
          },
          "execution_count": 438
        }
      ]
    },
    {
      "cell_type": "code",
      "metadata": {
        "colab": {
          "base_uri": "https://localhost:8080/",
          "height": 743
        },
        "id": "SN2yjcsijGcB",
        "outputId": "14d63abf-b1f0-4d1f-e0ff-7740c3d85118"
      },
      "source": [
        "index=[]\n",
        "for i in range(len(corpus2)): \n",
        "  index.append(i)\n",
        "df2.index=index\n",
        "df2"
      ],
      "execution_count": null,
      "outputs": [
        {
          "output_type": "execute_result",
          "data": {
            "text/html": [
              "<div>\n",
              "<style scoped>\n",
              "    .dataframe tbody tr th:only-of-type {\n",
              "        vertical-align: middle;\n",
              "    }\n",
              "\n",
              "    .dataframe tbody tr th {\n",
              "        vertical-align: top;\n",
              "    }\n",
              "\n",
              "    .dataframe thead th {\n",
              "        text-align: right;\n",
              "    }\n",
              "</style>\n",
              "<table border=\"1\" class=\"dataframe\">\n",
              "  <thead>\n",
              "    <tr style=\"text-align: right;\">\n",
              "      <th></th>\n",
              "      <th>ProductId</th>\n",
              "      <th>Score</th>\n",
              "      <th>Summary</th>\n",
              "      <th>Text</th>\n",
              "      <th>Pre_Text</th>\n",
              "      <th>Pre_Text_tokenized</th>\n",
              "      <th>pred</th>\n",
              "    </tr>\n",
              "  </thead>\n",
              "  <tbody>\n",
              "    <tr>\n",
              "      <th>0</th>\n",
              "      <td>B001EO5QW8</td>\n",
              "      <td>1</td>\n",
              "      <td>Best of the Instant Oatmeals</td>\n",
              "      <td>McCann's Instant Oatmeal is great if you must ...</td>\n",
              "      <td>McCann Instant Oatmeal is great if you must ha...</td>\n",
              "      <td>[28641, 7107, 1051, 4017, 4168, 2389, 2003, 23...</td>\n",
              "      <td>0.618536</td>\n",
              "    </tr>\n",
              "    <tr>\n",
              "      <th>1</th>\n",
              "      <td>B001EO5QW8</td>\n",
              "      <td>1</td>\n",
              "      <td>Good Instant</td>\n",
              "      <td>This is a good instant oatmeal from the best o...</td>\n",
              "      <td>This is good instant oatmeal from the best oat...</td>\n",
              "      <td>[2023, 2003, 2204, 7107, 1051, 4017, 4168, 238...</td>\n",
              "      <td>0.882455</td>\n",
              "    </tr>\n",
              "    <tr>\n",
              "      <th>2</th>\n",
              "      <td>B001EO5QW8</td>\n",
              "      <td>1</td>\n",
              "      <td>Great Irish oatmeal for those in a hurry!</td>\n",
              "      <td>Instant oatmeal can become soggy the minute th...</td>\n",
              "      <td>Instant oatmeal can become soggy the minute th...</td>\n",
              "      <td>[7107, 1051, 4017, 4168, 2389, 2064, 2468, 206...</td>\n",
              "      <td>0.993289</td>\n",
              "    </tr>\n",
              "    <tr>\n",
              "      <th>3</th>\n",
              "      <td>B001EO5QW8</td>\n",
              "      <td>1</td>\n",
              "      <td>satisfying</td>\n",
              "      <td>McCann's Instant Irish Oatmeal, Variety Pack o...</td>\n",
              "      <td>McCann Instant Irish Oatmeal Variety Pack of R...</td>\n",
              "      <td>[28641, 7107, 3493, 1051, 4017, 4168, 2389, 35...</td>\n",
              "      <td>0.441017</td>\n",
              "    </tr>\n",
              "    <tr>\n",
              "      <th>4</th>\n",
              "      <td>B001EO5QW8</td>\n",
              "      <td>1</td>\n",
              "      <td>Love Gluten Free Oatmeal!!!</td>\n",
              "      <td>For those of us with celiac disease this produ...</td>\n",
              "      <td>For those of us with celiac disease this produ...</td>\n",
              "      <td>[2005, 2216, 1997, 2149, 2007, 18020, 2278, 42...</td>\n",
              "      <td>0.687666</td>\n",
              "    </tr>\n",
              "    <tr>\n",
              "      <th>5</th>\n",
              "      <td>B001EO5QW8</td>\n",
              "      <td>1</td>\n",
              "      <td>it's oatmeal</td>\n",
              "      <td>What else do you need to know? Oatmeal, instan...</td>\n",
              "      <td>What else do you need to know Oatmeal instant ...</td>\n",
              "      <td>[2054, 2842, 2079, 2017, 2342, 2000, 2113, 105...</td>\n",
              "      <td>0.128864</td>\n",
              "    </tr>\n",
              "    <tr>\n",
              "      <th>6</th>\n",
              "      <td>B001EO5QW8</td>\n",
              "      <td>1</td>\n",
              "      <td>GOOD WAY TO START THE DAY....</td>\n",
              "      <td>I WAS VISITING MY FRIEND NATE THE OTHER MORNIN...</td>\n",
              "      <td>I WAS VISITING MY FRIEND NATE THE OTHER MORNIN...</td>\n",
              "      <td>[1045, 2001, 5873, 2026, 2767, 8253, 1996, 206...</td>\n",
              "      <td>0.778002</td>\n",
              "    </tr>\n",
              "    <tr>\n",
              "      <th>7</th>\n",
              "      <td>B001EO5QW8</td>\n",
              "      <td>1</td>\n",
              "      <td>Wife's favorite Breakfast</td>\n",
              "      <td>I ordered this for my wife as it was reccomend...</td>\n",
              "      <td>I ordered this for my wife as it was reccomend...</td>\n",
              "      <td>[1045, 3641, 2023, 2005, 2026, 2564, 2004, 200...</td>\n",
              "      <td>0.735108</td>\n",
              "    </tr>\n",
              "    <tr>\n",
              "      <th>8</th>\n",
              "      <td>B001EO5QW8</td>\n",
              "      <td>1</td>\n",
              "      <td>Why wouldn't you buy oatmeal from Mcanns? Tast...</td>\n",
              "      <td>The variety packs taste great!&lt;br /&gt;&lt;br /&gt;I ha...</td>\n",
              "      <td>The variety packs taste great have them every ...</td>\n",
              "      <td>[1996, 3528, 15173, 5510, 2307, 2031, 2068, 22...</td>\n",
              "      <td>0.759582</td>\n",
              "    </tr>\n",
              "    <tr>\n",
              "      <th>9</th>\n",
              "      <td>B001EO5QW8</td>\n",
              "      <td>1</td>\n",
              "      <td>Oatmeal For Oatmeal Lovers</td>\n",
              "      <td>McCann's makes oatmeal for every oatmeal conno...</td>\n",
              "      <td>McCann makes oatmeal for every oatmeal connois...</td>\n",
              "      <td>[28641, 3084, 1051, 4017, 4168, 2389, 2005, 22...</td>\n",
              "      <td>0.527410</td>\n",
              "    </tr>\n",
              "    <tr>\n",
              "      <th>10</th>\n",
              "      <td>B001EO5QW8</td>\n",
              "      <td>1</td>\n",
              "      <td>Food-Great</td>\n",
              "      <td>I have McCann's Oatmeal every morning and by o...</td>\n",
              "      <td>I have McCann Oatmeal every morning and by ord...</td>\n",
              "      <td>[1045, 2031, 28641, 1051, 4017, 4168, 2389, 22...</td>\n",
              "      <td>0.900064</td>\n",
              "    </tr>\n",
              "    <tr>\n",
              "      <th>11</th>\n",
              "      <td>B001EO5QW8</td>\n",
              "      <td>1</td>\n",
              "      <td>Good Hot Breakfast</td>\n",
              "      <td>McCann's Oatmeal is a good quality choice.  Ou...</td>\n",
              "      <td>McCann Oatmeal is good quality choice Our favo...</td>\n",
              "      <td>[28641, 1051, 4017, 4168, 2389, 2003, 2204, 37...</td>\n",
              "      <td>0.795645</td>\n",
              "    </tr>\n",
              "    <tr>\n",
              "      <th>12</th>\n",
              "      <td>B001EO5QW8</td>\n",
              "      <td>1</td>\n",
              "      <td>Great taste and convenience</td>\n",
              "      <td>We really like the McCann's steel cut oats but...</td>\n",
              "      <td>We really like the McCann steel cut oats but f...</td>\n",
              "      <td>[2057, 2428, 2066, 1996, 28641, 3886, 3013, 10...</td>\n",
              "      <td>0.220208</td>\n",
              "    </tr>\n",
              "    <tr>\n",
              "      <th>13</th>\n",
              "      <td>B001EO5QW8</td>\n",
              "      <td>1</td>\n",
              "      <td>good</td>\n",
              "      <td>Good oatmeal.  I like the apple cinnamon the b...</td>\n",
              "      <td>Good oatmeal like the apple cinnamon the best ...</td>\n",
              "      <td>[2204, 1051, 4017, 4168, 2389, 2066, 1996, 620...</td>\n",
              "      <td>0.670184</td>\n",
              "    </tr>\n",
              "    <tr>\n",
              "      <th>14</th>\n",
              "      <td>B001EO5QW8</td>\n",
              "      <td>1</td>\n",
              "      <td>Very good but next time I won't order the Vari...</td>\n",
              "      <td>I really like the Maple and Brown Sugar flavor...</td>\n",
              "      <td>I really like the Maple and Brown Sugar flavor...</td>\n",
              "      <td>[1045, 2428, 2066, 1996, 11035, 1998, 2829, 56...</td>\n",
              "      <td>0.970536</td>\n",
              "    </tr>\n",
              "  </tbody>\n",
              "</table>\n",
              "</div>"
            ],
            "text/plain": [
              "     ProductId  ...      pred\n",
              "0   B001EO5QW8  ...  0.618536\n",
              "1   B001EO5QW8  ...  0.882455\n",
              "2   B001EO5QW8  ...  0.993289\n",
              "3   B001EO5QW8  ...  0.441017\n",
              "4   B001EO5QW8  ...  0.687666\n",
              "5   B001EO5QW8  ...  0.128864\n",
              "6   B001EO5QW8  ...  0.778002\n",
              "7   B001EO5QW8  ...  0.735108\n",
              "8   B001EO5QW8  ...  0.759582\n",
              "9   B001EO5QW8  ...  0.527410\n",
              "10  B001EO5QW8  ...  0.900064\n",
              "11  B001EO5QW8  ...  0.795645\n",
              "12  B001EO5QW8  ...  0.220208\n",
              "13  B001EO5QW8  ...  0.670184\n",
              "14  B001EO5QW8  ...  0.970536\n",
              "\n",
              "[15 rows x 7 columns]"
            ]
          },
          "metadata": {
            "tags": []
          },
          "execution_count": 439
        }
      ]
    },
    {
      "cell_type": "code",
      "metadata": {
        "colab": {
          "base_uri": "https://localhost:8080/"
        },
        "id": "beacGsS9gV3Y",
        "outputId": "43a113db-9995-48c1-a94d-c8e800884782"
      },
      "source": [
        "cosine_sim=[] # 2 most similar negative reviews\n",
        "flag=0\n",
        "for x in range(0,X1.shape[0]):\n",
        "  for y in range(x,X1.shape[0]):\n",
        "    if(x!=y):\n",
        "        if(cosine_similarity(X1[x],X1[y])<threshold):\n",
        "          flag+=1\n",
        "          print(df1[\"Text\"][x],\":\",corpus1[x])\n",
        "          print(df1[\"Text\"][y],\":\",corpus1[y])\n",
        "          print(\"Cosine similarity:\",cosine_similarity(X1[x],X1[y]))\n",
        "          print()\n",
        "\n",
        "if(flag==0):\n",
        "  print(\"No such similar negative reviews found\")"
      ],
      "execution_count": null,
      "outputs": [
        {
          "output_type": "stream",
          "text": [
            "No such similar negative reviews found\n"
          ],
          "name": "stdout"
        }
      ]
    },
    {
      "cell_type": "code",
      "metadata": {
        "colab": {
          "base_uri": "https://localhost:8080/"
        },
        "id": "uLWbiJs_g2cx",
        "outputId": "cfc682e9-8684-4f54-e94e-7ccb993c2d55"
      },
      "source": [
        "cosine_sim=[] # 2 most similar positive reviews\n",
        "flag=0\n",
        "for x in range(0,X2.shape[0]):\n",
        "  for y in range(x,X2.shape[0]):\n",
        "    if(x!=y):\n",
        "        if(cosine_similarity(X2[x],X2[y])>threshold):\n",
        "          flag+=1\n",
        "          print(df2[\"Text\"][x],\":\",corpus2[x])\n",
        "          print()\n",
        "          print(df2[\"Text\"][y],\":\",corpus2[y])\n",
        "          print(\"Cosine similarity:\",cosine_similarity(X2[x],X2[y]))\n",
        "          print()\n",
        "\n",
        "if(flag==0):\n",
        "  print(\"No such similar positive reviews found\")"
      ],
      "execution_count": null,
      "outputs": [
        {
          "output_type": "stream",
          "text": [
            "No such similar positive reviews found\n"
          ],
          "name": "stdout"
        }
      ]
    },
    {
      "cell_type": "markdown",
      "metadata": {
        "id": "F22kbdq1wUXg"
      },
      "source": [
        "# Finding 2 most Positive Reviews and 2 most Negative Reviews"
      ]
    },
    {
      "cell_type": "code",
      "metadata": {
        "id": "MY9M21rDwSRT"
      },
      "source": [
        "sorted_df1=df1.sort_values(by=['pred'], ascending=True)[:2]"
      ],
      "execution_count": null,
      "outputs": []
    },
    {
      "cell_type": "code",
      "metadata": {
        "colab": {
          "base_uri": "https://localhost:8080/"
        },
        "id": "dwRBZD9ZxDHi",
        "outputId": "2d3ec8ba-209e-44c9-ba9e-f5f5707f5734"
      },
      "source": [
        "print(sorted_df1[\"Text\"].values)"
      ],
      "execution_count": null,
      "outputs": [
        {
          "output_type": "stream",
          "text": [
            "['The flavors are good.  However, I do not see any differce between this and Oaker Oats brand - they are both mushy.'\n",
            " \"This oatmeal is not good. Its mushy, soft, I don't like it. Quaker Oats is the way to go.\"]\n"
          ],
          "name": "stdout"
        }
      ]
    },
    {
      "cell_type": "code",
      "metadata": {
        "id": "l_sxu_bXwZuO"
      },
      "source": [
        "sorted_df2=df2.sort_values(by=['pred'], ascending=False)[:2]"
      ],
      "execution_count": null,
      "outputs": []
    },
    {
      "cell_type": "code",
      "metadata": {
        "colab": {
          "base_uri": "https://localhost:8080/"
        },
        "id": "Szxnidclwytp",
        "outputId": "727e83dc-c638-42c6-e897-8f51d5ae5633"
      },
      "source": [
        "print(sorted_df2[\"Text\"].values)"
      ],
      "execution_count": null,
      "outputs": [
        {
          "output_type": "stream",
          "text": [
            "[\"Instant oatmeal can become soggy the minute the water hits the bowl. McCann's Instant Oatmeal holds its texture, has excellent flavor, and is good for you all at the same time. McCann's regular oat meal is excellent, too, but may take a bit longer to prepare than most have time for in the morning. This is the best instant brand I've ever eaten, and a very close second to the non-instant variety.<br /><br />McCann's Instant Irish Oatmeal, Variety Pack of Regular, Apples & Cinnamon, and Maple & Brown Sugar, 10-Count Boxes (Pack of 6)\"\n",
            " \"I really like the Maple and Brown Sugar flavor. The regular is fine with brown sugar added. The Apples and Cinnamon flavor is OK. This is a very quick, easy and satisfying breakfast and I'll order this brand again, but not the variety. I'll get all Maple and Brown Sugar.\"]\n"
          ],
          "name": "stdout"
        }
      ]
    }
  ]
}