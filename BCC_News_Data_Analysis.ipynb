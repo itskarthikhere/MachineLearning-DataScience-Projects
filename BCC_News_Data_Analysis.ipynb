{
  "nbformat": 4,
  "nbformat_minor": 0,
  "metadata": {
    "colab": {
      "name": "BCC News Data Analysis.ipynb",
      "provenance": [],
      "authorship_tag": "ABX9TyMQDPj3F5Zi7UIu9Mi07IkM"
    },
    "kernelspec": {
      "name": "python3",
      "display_name": "Python 3"
    }
  },
  "cells": [
    {
      "cell_type": "code",
      "metadata": {
        "id": "m7GJIMLtZfBy"
      },
      "source": [
        "import pandas as pd\n",
        "data=pd.read_csv('/content/drive/MyDrive/bbc_news_mixed (1).csv')"
      ],
      "execution_count": null,
      "outputs": []
    },
    {
      "cell_type": "code",
      "metadata": {
        "colab": {
          "base_uri": "https://localhost:8080/",
          "height": 195
        },
        "id": "AL24uzLOa7Uh",
        "outputId": "7c1712f2-2486-4730-a3be-f35736e3c4ac"
      },
      "source": [
        "data.head()"
      ],
      "execution_count": null,
      "outputs": [
        {
          "output_type": "execute_result",
          "data": {
            "text/html": [
              "<div>\n",
              "<style scoped>\n",
              "    .dataframe tbody tr th:only-of-type {\n",
              "        vertical-align: middle;\n",
              "    }\n",
              "\n",
              "    .dataframe tbody tr th {\n",
              "        vertical-align: top;\n",
              "    }\n",
              "\n",
              "    .dataframe thead th {\n",
              "        text-align: right;\n",
              "    }\n",
              "</style>\n",
              "<table border=\"1\" class=\"dataframe\">\n",
              "  <thead>\n",
              "    <tr style=\"text-align: right;\">\n",
              "      <th></th>\n",
              "      <th>text</th>\n",
              "      <th>label</th>\n",
              "    </tr>\n",
              "  </thead>\n",
              "  <tbody>\n",
              "    <tr>\n",
              "      <th>0</th>\n",
              "      <td>Cairn shares slump on oil setback\\n\\nShares in...</td>\n",
              "      <td>business</td>\n",
              "    </tr>\n",
              "    <tr>\n",
              "      <th>1</th>\n",
              "      <td>Egypt to sell off state-owned bank\\n\\nThe Egyp...</td>\n",
              "      <td>business</td>\n",
              "    </tr>\n",
              "    <tr>\n",
              "      <th>2</th>\n",
              "      <td>Cairn shares up on new oil find\\n\\nShares in C...</td>\n",
              "      <td>business</td>\n",
              "    </tr>\n",
              "    <tr>\n",
              "      <th>3</th>\n",
              "      <td>Low-cost airlines hit Eurotunnel\\n\\nChannel Tu...</td>\n",
              "      <td>business</td>\n",
              "    </tr>\n",
              "    <tr>\n",
              "      <th>4</th>\n",
              "      <td>Parmalat to return to stockmarket\\n\\nParmalat,...</td>\n",
              "      <td>business</td>\n",
              "    </tr>\n",
              "  </tbody>\n",
              "</table>\n",
              "</div>"
            ],
            "text/plain": [
              "                                                text     label\n",
              "0  Cairn shares slump on oil setback\\n\\nShares in...  business\n",
              "1  Egypt to sell off state-owned bank\\n\\nThe Egyp...  business\n",
              "2  Cairn shares up on new oil find\\n\\nShares in C...  business\n",
              "3  Low-cost airlines hit Eurotunnel\\n\\nChannel Tu...  business\n",
              "4  Parmalat to return to stockmarket\\n\\nParmalat,...  business"
            ]
          },
          "metadata": {
            "tags": []
          },
          "execution_count": 50
        }
      ]
    },
    {
      "cell_type": "code",
      "metadata": {
        "colab": {
          "base_uri": "https://localhost:8080/"
        },
        "id": "AJ1WKddga8Yv",
        "outputId": "d0fbc51f-666b-43cf-97aa-5310e0dac5b3"
      },
      "source": [
        "from sklearn.preprocessing import LabelEncoder\n",
        "from sklearn.preprocessing import LabelBinarizer\n",
        "data.label.value_counts()"
      ],
      "execution_count": null,
      "outputs": [
        {
          "output_type": "execute_result",
          "data": {
            "text/plain": [
              "sport            511\n",
              "business         510\n",
              "politics         417\n",
              "tech             401\n",
              "entertainment    386\n",
              "Name: label, dtype: int64"
            ]
          },
          "metadata": {
            "tags": []
          },
          "execution_count": 51
        }
      ]
    },
    {
      "cell_type": "code",
      "metadata": {
        "id": "p3BVwUlbjrsb"
      },
      "source": [
        "label2= pd.get_dummies(data[\"label\"])"
      ],
      "execution_count": null,
      "outputs": []
    },
    {
      "cell_type": "code",
      "metadata": {
        "colab": {
          "base_uri": "https://localhost:8080/",
          "height": 195
        },
        "id": "ibb6uoXiYNih",
        "outputId": "a70f70b5-5779-427e-8864-6133f8457b9d"
      },
      "source": [
        "label2.head()"
      ],
      "execution_count": null,
      "outputs": [
        {
          "output_type": "execute_result",
          "data": {
            "text/html": [
              "<div>\n",
              "<style scoped>\n",
              "    .dataframe tbody tr th:only-of-type {\n",
              "        vertical-align: middle;\n",
              "    }\n",
              "\n",
              "    .dataframe tbody tr th {\n",
              "        vertical-align: top;\n",
              "    }\n",
              "\n",
              "    .dataframe thead th {\n",
              "        text-align: right;\n",
              "    }\n",
              "</style>\n",
              "<table border=\"1\" class=\"dataframe\">\n",
              "  <thead>\n",
              "    <tr style=\"text-align: right;\">\n",
              "      <th></th>\n",
              "      <th>business</th>\n",
              "      <th>entertainment</th>\n",
              "      <th>politics</th>\n",
              "      <th>sport</th>\n",
              "      <th>tech</th>\n",
              "    </tr>\n",
              "  </thead>\n",
              "  <tbody>\n",
              "    <tr>\n",
              "      <th>0</th>\n",
              "      <td>1</td>\n",
              "      <td>0</td>\n",
              "      <td>0</td>\n",
              "      <td>0</td>\n",
              "      <td>0</td>\n",
              "    </tr>\n",
              "    <tr>\n",
              "      <th>1</th>\n",
              "      <td>1</td>\n",
              "      <td>0</td>\n",
              "      <td>0</td>\n",
              "      <td>0</td>\n",
              "      <td>0</td>\n",
              "    </tr>\n",
              "    <tr>\n",
              "      <th>2</th>\n",
              "      <td>1</td>\n",
              "      <td>0</td>\n",
              "      <td>0</td>\n",
              "      <td>0</td>\n",
              "      <td>0</td>\n",
              "    </tr>\n",
              "    <tr>\n",
              "      <th>3</th>\n",
              "      <td>1</td>\n",
              "      <td>0</td>\n",
              "      <td>0</td>\n",
              "      <td>0</td>\n",
              "      <td>0</td>\n",
              "    </tr>\n",
              "    <tr>\n",
              "      <th>4</th>\n",
              "      <td>1</td>\n",
              "      <td>0</td>\n",
              "      <td>0</td>\n",
              "      <td>0</td>\n",
              "      <td>0</td>\n",
              "    </tr>\n",
              "  </tbody>\n",
              "</table>\n",
              "</div>"
            ],
            "text/plain": [
              "   business  entertainment  politics  sport  tech\n",
              "0         1              0         0      0     0\n",
              "1         1              0         0      0     0\n",
              "2         1              0         0      0     0\n",
              "3         1              0         0      0     0\n",
              "4         1              0         0      0     0"
            ]
          },
          "metadata": {
            "tags": []
          },
          "execution_count": 53
        }
      ]
    },
    {
      "cell_type": "code",
      "metadata": {
        "id": "lohIhv5IjvB-"
      },
      "source": [
        "y = LabelBinarizer().fit_transform(label2)"
      ],
      "execution_count": null,
      "outputs": []
    },
    {
      "cell_type": "code",
      "metadata": {
        "colab": {
          "base_uri": "https://localhost:8080/"
        },
        "id": "qitsxwIfjxg_",
        "outputId": "44376dea-b407-4889-8a41-b062a4e94915"
      },
      "source": [
        "y[:5]"
      ],
      "execution_count": null,
      "outputs": [
        {
          "output_type": "execute_result",
          "data": {
            "text/plain": [
              "array([[1, 0, 0, 0, 0],\n",
              "       [1, 0, 0, 0, 0],\n",
              "       [1, 0, 0, 0, 0],\n",
              "       [1, 0, 0, 0, 0],\n",
              "       [1, 0, 0, 0, 0]])"
            ]
          },
          "metadata": {
            "tags": []
          },
          "execution_count": 55
        }
      ]
    },
    {
      "cell_type": "code",
      "metadata": {
        "colab": {
          "base_uri": "https://localhost:8080/"
        },
        "id": "lryM4vVTyVwp",
        "outputId": "82fdbf7c-bbb2-4701-b4aa-d047277e4bbe"
      },
      "source": [
        "z= pd.DataFrame(y)\n",
        "z.value_counts()"
      ],
      "execution_count": null,
      "outputs": [
        {
          "output_type": "execute_result",
          "data": {
            "text/plain": [
              "0  1  2  3  4\n",
              "0  0  0  1  0    511\n",
              "1  0  0  0  0    510\n",
              "0  0  1  0  0    417\n",
              "      0  0  1    401\n",
              "   1  0  0  0    386\n",
              "dtype: int64"
            ]
          },
          "metadata": {
            "tags": []
          },
          "execution_count": 56
        }
      ]
    },
    {
      "cell_type": "code",
      "metadata": {
        "colab": {
          "base_uri": "https://localhost:8080/",
          "height": 195
        },
        "id": "YT_noZP9bUBv",
        "outputId": "086b1418-b3e0-4705-8891-2c1eaa86b072"
      },
      "source": [
        "data.head()"
      ],
      "execution_count": null,
      "outputs": [
        {
          "output_type": "execute_result",
          "data": {
            "text/html": [
              "<div>\n",
              "<style scoped>\n",
              "    .dataframe tbody tr th:only-of-type {\n",
              "        vertical-align: middle;\n",
              "    }\n",
              "\n",
              "    .dataframe tbody tr th {\n",
              "        vertical-align: top;\n",
              "    }\n",
              "\n",
              "    .dataframe thead th {\n",
              "        text-align: right;\n",
              "    }\n",
              "</style>\n",
              "<table border=\"1\" class=\"dataframe\">\n",
              "  <thead>\n",
              "    <tr style=\"text-align: right;\">\n",
              "      <th></th>\n",
              "      <th>text</th>\n",
              "      <th>label</th>\n",
              "    </tr>\n",
              "  </thead>\n",
              "  <tbody>\n",
              "    <tr>\n",
              "      <th>0</th>\n",
              "      <td>Cairn shares slump on oil setback\\n\\nShares in...</td>\n",
              "      <td>business</td>\n",
              "    </tr>\n",
              "    <tr>\n",
              "      <th>1</th>\n",
              "      <td>Egypt to sell off state-owned bank\\n\\nThe Egyp...</td>\n",
              "      <td>business</td>\n",
              "    </tr>\n",
              "    <tr>\n",
              "      <th>2</th>\n",
              "      <td>Cairn shares up on new oil find\\n\\nShares in C...</td>\n",
              "      <td>business</td>\n",
              "    </tr>\n",
              "    <tr>\n",
              "      <th>3</th>\n",
              "      <td>Low-cost airlines hit Eurotunnel\\n\\nChannel Tu...</td>\n",
              "      <td>business</td>\n",
              "    </tr>\n",
              "    <tr>\n",
              "      <th>4</th>\n",
              "      <td>Parmalat to return to stockmarket\\n\\nParmalat,...</td>\n",
              "      <td>business</td>\n",
              "    </tr>\n",
              "  </tbody>\n",
              "</table>\n",
              "</div>"
            ],
            "text/plain": [
              "                                                text     label\n",
              "0  Cairn shares slump on oil setback\\n\\nShares in...  business\n",
              "1  Egypt to sell off state-owned bank\\n\\nThe Egyp...  business\n",
              "2  Cairn shares up on new oil find\\n\\nShares in C...  business\n",
              "3  Low-cost airlines hit Eurotunnel\\n\\nChannel Tu...  business\n",
              "4  Parmalat to return to stockmarket\\n\\nParmalat,...  business"
            ]
          },
          "metadata": {
            "tags": []
          },
          "execution_count": 57
        }
      ]
    },
    {
      "cell_type": "code",
      "metadata": {
        "colab": {
          "base_uri": "https://localhost:8080/"
        },
        "id": "Etmzbkzebmvh",
        "outputId": "3b44e5f8-ac1a-4cca-c20c-b4ae2a094f29"
      },
      "source": [
        "from gensim.utils import simple_preprocess\n",
        "preprocessed_bbc = data.text.apply(lambda x: simple_preprocess(x))\n",
        "preprocessed_bbc.head()"
      ],
      "execution_count": null,
      "outputs": [
        {
          "output_type": "execute_result",
          "data": {
            "text/plain": [
              "0    [cairn, shares, slump, on, oil, setback, share...\n",
              "1    [egypt, to, sell, off, state, owned, bank, the...\n",
              "2    [cairn, shares, up, on, new, oil, find, shares...\n",
              "3    [low, cost, airlines, hit, eurotunnel, channel...\n",
              "4    [parmalat, to, return, to, stockmarket, parmal...\n",
              "Name: text, dtype: object"
            ]
          },
          "metadata": {
            "tags": []
          },
          "execution_count": 58
        }
      ]
    },
    {
      "cell_type": "code",
      "metadata": {
        "id": "uAv2PQuvbXiG"
      },
      "source": [
        "# import word2vec\n",
        "from gensim.models import Word2Vec\n",
        "\n",
        "# train a word2vec model from the given data set\n",
        "w2v_model = Word2Vec(preprocessed_bbc, size=300, min_count=2, sg=1)"
      ],
      "execution_count": null,
      "outputs": []
    },
    {
      "cell_type": "code",
      "metadata": {
        "colab": {
          "base_uri": "https://localhost:8080/"
        },
        "id": "b4H32Ylcb0sK",
        "outputId": "d73c067e-d8f4-4bf8-a10e-00332324ba5c"
      },
      "source": [
        "print('vocabulary size:', len(w2v_model.wv.vocab))"
      ],
      "execution_count": null,
      "outputs": [
        {
          "output_type": "stream",
          "text": [
            "vocabulary size: 18588\n"
          ],
          "name": "stdout"
        }
      ]
    },
    {
      "cell_type": "code",
      "metadata": {
        "colab": {
          "base_uri": "https://localhost:8080/"
        },
        "id": "6pxFbG8Db3cn",
        "outputId": "ba0c4320-97e1-4e5f-ec8f-a955781f2fdb"
      },
      "source": [
        "w2v_model.wv.most_similar('oil')"
      ],
      "execution_count": null,
      "outputs": [
        {
          "output_type": "execute_result",
          "data": {
            "text/plain": [
              "[('gas', 0.8566049337387085),\n",
              " ('telecoms', 0.8119033575057983),\n",
              " ('costs', 0.8108860850334167),\n",
              " ('giant', 0.8099585175514221),\n",
              " ('unit', 0.7962621450424194),\n",
              " ('fuel', 0.7939218282699585),\n",
              " ('energy', 0.7836349606513977),\n",
              " ('industrial', 0.7809122800827026),\n",
              " ('steel', 0.7744253873825073),\n",
              " ('exports', 0.7730951309204102)]"
            ]
          },
          "metadata": {
            "tags": []
          },
          "execution_count": 61
        }
      ]
    },
    {
      "cell_type": "code",
      "metadata": {
        "id": "0gG0E2jIvMmE"
      },
      "source": [
        "w2v_model.save('/content/drive/MyDrive/bbc_w2v_model.h5')"
      ],
      "execution_count": null,
      "outputs": []
    },
    {
      "cell_type": "code",
      "metadata": {
        "id": "To8j_KKccPI5"
      },
      "source": [
        "def get_embedding_w2v(doc_tokens, pre_trained):\n",
        "    embeddings = []\n",
        "    if pre_trained:\n",
        "        model = w2vec\n",
        "    else:\n",
        "        model = w2v_model\n",
        "    for tok in doc_tokens:\n",
        "        if tok in model.wv.vocab:\n",
        "            embeddings.append(model.wv.word_vec(tok))\n",
        "    return np.mean(embeddings, axis=0)"
      ],
      "execution_count": null,
      "outputs": []
    },
    {
      "cell_type": "code",
      "metadata": {
        "colab": {
          "base_uri": "https://localhost:8080/"
        },
        "id": "mP4pOTolb70_",
        "outputId": "fa08101b-161a-4adb-d329-0111b6ffdea2"
      },
      "source": [
        "import numpy as np\n",
        "X_w2v_model = preprocessed_bbc.apply(lambda x: get_embedding_w2v(x, pre_trained=0))\n",
        "X_w2v_model = pd.DataFrame(X_w2v_model.tolist())\n",
        "print('X shape:', X_w2v_model.shape)"
      ],
      "execution_count": null,
      "outputs": [
        {
          "output_type": "stream",
          "text": [
            "X shape: (2225, 300)\n"
          ],
          "name": "stdout"
        }
      ]
    },
    {
      "cell_type": "code",
      "metadata": {
        "id": "MKiHGTR9cThI"
      },
      "source": [
        "from sklearn.model_selection import train_test_split\n",
        "X_train_wm, X_test_wm, y_train_wm, y_test_wm = train_test_split(X_w2v_model, y)"
      ],
      "execution_count": null,
      "outputs": []
    },
    {
      "cell_type": "code",
      "metadata": {
        "colab": {
          "base_uri": "https://localhost:8080/"
        },
        "id": "Jy50vZgbcbC9",
        "outputId": "1b30cf62-2e4d-4c3c-bb5f-7c003145688f"
      },
      "source": [
        "X_train_wm.shape,X_test_wm.shape"
      ],
      "execution_count": null,
      "outputs": [
        {
          "output_type": "execute_result",
          "data": {
            "text/plain": [
              "((1668, 300), (557, 300))"
            ]
          },
          "metadata": {
            "tags": []
          },
          "execution_count": 65
        }
      ]
    },
    {
      "cell_type": "code",
      "metadata": {
        "colab": {
          "base_uri": "https://localhost:8080/"
        },
        "id": "rUd6_37-fHPn",
        "outputId": "cc8d81f1-2bec-4000-8cd9-8f2607fa5d25"
      },
      "source": [
        "y_train_wm.shape, y_test_wm.shape"
      ],
      "execution_count": null,
      "outputs": [
        {
          "output_type": "execute_result",
          "data": {
            "text/plain": [
              "((1668, 5), (557, 5))"
            ]
          },
          "metadata": {
            "tags": []
          },
          "execution_count": 66
        }
      ]
    },
    {
      "cell_type": "code",
      "metadata": {
        "colab": {
          "base_uri": "https://localhost:8080/"
        },
        "id": "OuoZ86zhejy2",
        "outputId": "59a348f6-bba3-4434-ff38-24ffaaa8a24c"
      },
      "source": [
        "X_train_wm=np.array(X_train_wm).reshape(1668, 300,1)\n",
        "X_train_wm.shape"
      ],
      "execution_count": null,
      "outputs": [
        {
          "output_type": "execute_result",
          "data": {
            "text/plain": [
              "(1668, 300, 1)"
            ]
          },
          "metadata": {
            "tags": []
          },
          "execution_count": 67
        }
      ]
    },
    {
      "cell_type": "code",
      "metadata": {
        "colab": {
          "base_uri": "https://localhost:8080/"
        },
        "id": "IVK8YsACo_Z8",
        "outputId": "087acdf9-422e-4be5-e13b-92827b278e20"
      },
      "source": [
        "X_test_wm=np.array(X_test_wm).reshape(557, 300,1)\n",
        "X_test_wm.shape"
      ],
      "execution_count": null,
      "outputs": [
        {
          "output_type": "execute_result",
          "data": {
            "text/plain": [
              "(557, 300, 1)"
            ]
          },
          "metadata": {
            "tags": []
          },
          "execution_count": 68
        }
      ]
    },
    {
      "cell_type": "code",
      "metadata": {
        "id": "xk4xqkylc71b"
      },
      "source": [
        "from tensorflow.keras.models import Sequential\n",
        "from tensorflow.keras.layers import LSTM,Dense\n",
        "\n",
        "model1=Sequential()\n",
        "model1.add(LSTM(100,input_shape=(300,1)))\n",
        "model1.add(Dense(8,activation=\"relu\"))\n",
        "model1.add(Dense(5,activation=\"softmax\"))\n",
        "\n",
        "model1.compile(loss=\"categorical_crossentropy\",optimizer=\"adam\",metrics=[\"accuracy\"])"
      ],
      "execution_count": null,
      "outputs": []
    },
    {
      "cell_type": "code",
      "metadata": {
        "colab": {
          "base_uri": "https://localhost:8080/"
        },
        "id": "t5RNpMgKZOXO",
        "outputId": "1a465824-9b35-47c2-b35a-bfc576a379ce"
      },
      "source": [
        "model1.summary()"
      ],
      "execution_count": null,
      "outputs": [
        {
          "output_type": "stream",
          "text": [
            "Model: \"sequential_7\"\n",
            "_________________________________________________________________\n",
            "Layer (type)                 Output Shape              Param #   \n",
            "=================================================================\n",
            "lstm_7 (LSTM)                (None, 100)               40800     \n",
            "_________________________________________________________________\n",
            "dense_21 (Dense)             (None, 8)                 808       \n",
            "_________________________________________________________________\n",
            "dense_22 (Dense)             (None, 5)                 45        \n",
            "=================================================================\n",
            "Total params: 41,653\n",
            "Trainable params: 41,653\n",
            "Non-trainable params: 0\n",
            "_________________________________________________________________\n"
          ],
          "name": "stdout"
        }
      ]
    },
    {
      "cell_type": "code",
      "metadata": {
        "colab": {
          "base_uri": "https://localhost:8080/"
        },
        "id": "rleSmB3rd1TV",
        "outputId": "43dc866e-7fb9-4089-9f09-60f13bb8c548"
      },
      "source": [
        "model1.fit(X_train_wm, y_train_wm,validation_data=(X_test_wm, y_test_wm), epochs=100)"
      ],
      "execution_count": null,
      "outputs": [
        {
          "output_type": "stream",
          "text": [
            "Epoch 1/100\n",
            "53/53 [==============================] - 2s 25ms/step - loss: 1.6096 - accuracy: 0.2029 - val_loss: 1.6071 - val_accuracy: 0.2154\n",
            "Epoch 2/100\n",
            "53/53 [==============================] - 1s 16ms/step - loss: 1.6076 - accuracy: 0.2217 - val_loss: 1.6061 - val_accuracy: 0.2154\n",
            "Epoch 3/100\n",
            "53/53 [==============================] - 1s 16ms/step - loss: 1.6062 - accuracy: 0.2239 - val_loss: 1.6049 - val_accuracy: 0.2154\n",
            "Epoch 4/100\n",
            "53/53 [==============================] - 1s 16ms/step - loss: 1.6066 - accuracy: 0.2295 - val_loss: 1.6038 - val_accuracy: 0.2154\n",
            "Epoch 5/100\n",
            "53/53 [==============================] - 1s 16ms/step - loss: 1.6056 - accuracy: 0.2147 - val_loss: 1.6032 - val_accuracy: 0.2154\n",
            "Epoch 6/100\n",
            "53/53 [==============================] - 1s 16ms/step - loss: 1.6008 - accuracy: 0.2396 - val_loss: 1.5978 - val_accuracy: 0.2154\n",
            "Epoch 7/100\n",
            "53/53 [==============================] - 1s 16ms/step - loss: 1.5989 - accuracy: 0.2406 - val_loss: 1.5985 - val_accuracy: 0.2172\n",
            "Epoch 8/100\n",
            "53/53 [==============================] - 1s 16ms/step - loss: 1.5974 - accuracy: 0.2182 - val_loss: 1.5939 - val_accuracy: 0.1957\n",
            "Epoch 9/100\n",
            "53/53 [==============================] - 1s 16ms/step - loss: 1.5908 - accuracy: 0.2224 - val_loss: 1.5877 - val_accuracy: 0.2190\n",
            "Epoch 10/100\n",
            "53/53 [==============================] - 1s 16ms/step - loss: 1.5797 - accuracy: 0.2283 - val_loss: 1.5688 - val_accuracy: 0.1634\n",
            "Epoch 11/100\n",
            "53/53 [==============================] - 1s 17ms/step - loss: 1.5687 - accuracy: 0.1849 - val_loss: 1.5516 - val_accuracy: 0.1831\n",
            "Epoch 12/100\n",
            "53/53 [==============================] - 1s 16ms/step - loss: 1.5598 - accuracy: 0.2664 - val_loss: 1.5584 - val_accuracy: 0.2118\n",
            "Epoch 13/100\n",
            "53/53 [==============================] - 1s 16ms/step - loss: 1.5590 - accuracy: 0.2369 - val_loss: 1.5197 - val_accuracy: 0.2908\n",
            "Epoch 14/100\n",
            "53/53 [==============================] - 1s 16ms/step - loss: 1.5087 - accuracy: 0.3373 - val_loss: 1.4724 - val_accuracy: 0.3573\n",
            "Epoch 15/100\n",
            "53/53 [==============================] - 1s 16ms/step - loss: 1.4666 - accuracy: 0.3858 - val_loss: 1.3536 - val_accuracy: 0.5027\n",
            "Epoch 16/100\n",
            "53/53 [==============================] - 1s 16ms/step - loss: 1.3853 - accuracy: 0.4082 - val_loss: 1.3316 - val_accuracy: 0.3896\n",
            "Epoch 17/100\n",
            "53/53 [==============================] - 1s 16ms/step - loss: 1.3690 - accuracy: 0.4051 - val_loss: 1.2496 - val_accuracy: 0.4811\n",
            "Epoch 18/100\n",
            "53/53 [==============================] - 1s 16ms/step - loss: 1.1382 - accuracy: 0.5374 - val_loss: 1.0781 - val_accuracy: 0.5907\n",
            "Epoch 19/100\n",
            "53/53 [==============================] - 1s 17ms/step - loss: 2.7732 - accuracy: 0.4733 - val_loss: 1.6824 - val_accuracy: 0.2154\n",
            "Epoch 20/100\n",
            "53/53 [==============================] - 1s 17ms/step - loss: 1.6462 - accuracy: 0.2393 - val_loss: 1.5632 - val_accuracy: 0.2370\n",
            "Epoch 21/100\n",
            "53/53 [==============================] - 1s 17ms/step - loss: 1.5834 - accuracy: 0.2165 - val_loss: 1.5673 - val_accuracy: 0.2298\n",
            "Epoch 22/100\n",
            "53/53 [==============================] - 1s 17ms/step - loss: 1.5611 - accuracy: 0.2698 - val_loss: 1.5425 - val_accuracy: 0.2262\n",
            "Epoch 23/100\n",
            "53/53 [==============================] - 1s 17ms/step - loss: 1.5281 - accuracy: 0.2900 - val_loss: 1.5499 - val_accuracy: 0.1921\n",
            "Epoch 24/100\n",
            "53/53 [==============================] - 1s 17ms/step - loss: 1.5158 - accuracy: 0.3180 - val_loss: 1.6322 - val_accuracy: 0.2855\n",
            "Epoch 25/100\n",
            "53/53 [==============================] - 1s 17ms/step - loss: 1.4576 - accuracy: 0.3817 - val_loss: 1.5048 - val_accuracy: 0.2298\n",
            "Epoch 26/100\n",
            "53/53 [==============================] - 1s 17ms/step - loss: 1.4007 - accuracy: 0.3492 - val_loss: 1.3060 - val_accuracy: 0.4147\n",
            "Epoch 27/100\n",
            "53/53 [==============================] - 1s 17ms/step - loss: 1.2710 - accuracy: 0.4645 - val_loss: 1.2816 - val_accuracy: 0.4470\n",
            "Epoch 28/100\n",
            "53/53 [==============================] - 1s 17ms/step - loss: 1.2671 - accuracy: 0.4695 - val_loss: 1.3622 - val_accuracy: 0.3680\n",
            "Epoch 29/100\n",
            "53/53 [==============================] - 1s 17ms/step - loss: 1.2811 - accuracy: 0.4775 - val_loss: 1.1959 - val_accuracy: 0.4991\n",
            "Epoch 30/100\n",
            "53/53 [==============================] - 1s 17ms/step - loss: 1.1870 - accuracy: 0.4823 - val_loss: 1.2077 - val_accuracy: 0.5081\n",
            "Epoch 31/100\n",
            "53/53 [==============================] - 1s 17ms/step - loss: 1.1840 - accuracy: 0.5181 - val_loss: 1.2298 - val_accuracy: 0.4614\n",
            "Epoch 32/100\n",
            "53/53 [==============================] - 1s 17ms/step - loss: 1.1094 - accuracy: 0.5472 - val_loss: 1.1410 - val_accuracy: 0.5224\n",
            "Epoch 33/100\n",
            "53/53 [==============================] - 1s 20ms/step - loss: 1.1163 - accuracy: 0.5157 - val_loss: 1.3728 - val_accuracy: 0.4004\n",
            "Epoch 34/100\n",
            "53/53 [==============================] - 1s 17ms/step - loss: 1.1182 - accuracy: 0.5175 - val_loss: 1.0580 - val_accuracy: 0.5673\n",
            "Epoch 35/100\n",
            "53/53 [==============================] - 1s 17ms/step - loss: 1.0800 - accuracy: 0.5552 - val_loss: 1.2583 - val_accuracy: 0.5027\n",
            "Epoch 36/100\n",
            "53/53 [==============================] - 1s 17ms/step - loss: 1.1672 - accuracy: 0.5128 - val_loss: 1.1194 - val_accuracy: 0.4901\n",
            "Epoch 37/100\n",
            "53/53 [==============================] - 1s 17ms/step - loss: 1.0253 - accuracy: 0.5751 - val_loss: 1.0079 - val_accuracy: 0.5925\n",
            "Epoch 38/100\n",
            "53/53 [==============================] - 1s 17ms/step - loss: 1.0591 - accuracy: 0.5570 - val_loss: 0.9677 - val_accuracy: 0.5781\n",
            "Epoch 39/100\n",
            "53/53 [==============================] - 1s 17ms/step - loss: 0.9588 - accuracy: 0.5975 - val_loss: 0.9320 - val_accuracy: 0.6248\n",
            "Epoch 40/100\n",
            "53/53 [==============================] - 1s 17ms/step - loss: 0.9288 - accuracy: 0.6174 - val_loss: 1.0642 - val_accuracy: 0.5278\n",
            "Epoch 41/100\n",
            "53/53 [==============================] - 1s 17ms/step - loss: 0.9352 - accuracy: 0.6155 - val_loss: 0.9152 - val_accuracy: 0.6499\n",
            "Epoch 42/100\n",
            "53/53 [==============================] - 1s 17ms/step - loss: 0.8811 - accuracy: 0.6293 - val_loss: 0.9972 - val_accuracy: 0.6104\n",
            "Epoch 43/100\n",
            "53/53 [==============================] - 1s 18ms/step - loss: 0.9160 - accuracy: 0.6274 - val_loss: 0.9357 - val_accuracy: 0.6391\n",
            "Epoch 44/100\n",
            "53/53 [==============================] - 1s 17ms/step - loss: 0.9120 - accuracy: 0.6242 - val_loss: 1.0085 - val_accuracy: 0.5781\n",
            "Epoch 45/100\n",
            "53/53 [==============================] - 1s 17ms/step - loss: 0.9724 - accuracy: 0.5903 - val_loss: 0.9696 - val_accuracy: 0.6122\n",
            "Epoch 46/100\n",
            "53/53 [==============================] - 1s 17ms/step - loss: 0.9001 - accuracy: 0.6212 - val_loss: 0.9572 - val_accuracy: 0.6302\n",
            "Epoch 47/100\n",
            "53/53 [==============================] - 1s 17ms/step - loss: 0.9183 - accuracy: 0.6258 - val_loss: 0.8790 - val_accuracy: 0.6571\n",
            "Epoch 48/100\n",
            "53/53 [==============================] - 1s 17ms/step - loss: 0.8502 - accuracy: 0.6535 - val_loss: 0.9810 - val_accuracy: 0.6463\n",
            "Epoch 49/100\n",
            "53/53 [==============================] - 1s 17ms/step - loss: 0.8445 - accuracy: 0.6676 - val_loss: 0.8758 - val_accuracy: 0.6679\n",
            "Epoch 50/100\n",
            "53/53 [==============================] - 1s 17ms/step - loss: 0.8416 - accuracy: 0.6757 - val_loss: 0.9247 - val_accuracy: 0.6338\n",
            "Epoch 51/100\n",
            "53/53 [==============================] - 1s 17ms/step - loss: 0.7709 - accuracy: 0.6970 - val_loss: 0.9603 - val_accuracy: 0.6176\n",
            "Epoch 52/100\n",
            "53/53 [==============================] - 1s 17ms/step - loss: 0.8134 - accuracy: 0.6841 - val_loss: 0.8066 - val_accuracy: 0.6966\n",
            "Epoch 53/100\n",
            "53/53 [==============================] - 1s 17ms/step - loss: 0.8718 - accuracy: 0.6542 - val_loss: 0.8189 - val_accuracy: 0.6732\n",
            "Epoch 54/100\n",
            "53/53 [==============================] - 1s 17ms/step - loss: 0.7520 - accuracy: 0.7184 - val_loss: 0.8114 - val_accuracy: 0.6768\n",
            "Epoch 55/100\n",
            "53/53 [==============================] - 1s 17ms/step - loss: 0.7079 - accuracy: 0.7386 - val_loss: 0.9197 - val_accuracy: 0.6320\n",
            "Epoch 56/100\n",
            "53/53 [==============================] - 1s 17ms/step - loss: 0.7498 - accuracy: 0.6950 - val_loss: 0.7433 - val_accuracy: 0.7127\n",
            "Epoch 57/100\n",
            "53/53 [==============================] - 1s 17ms/step - loss: 0.7142 - accuracy: 0.7303 - val_loss: 0.6496 - val_accuracy: 0.7666\n",
            "Epoch 58/100\n",
            "53/53 [==============================] - 1s 17ms/step - loss: 0.6783 - accuracy: 0.7394 - val_loss: 0.6936 - val_accuracy: 0.7451\n",
            "Epoch 59/100\n",
            "53/53 [==============================] - 1s 17ms/step - loss: 0.8706 - accuracy: 0.6738 - val_loss: 0.6919 - val_accuracy: 0.7612\n",
            "Epoch 60/100\n",
            "53/53 [==============================] - 1s 17ms/step - loss: 0.6643 - accuracy: 0.7589 - val_loss: 0.6878 - val_accuracy: 0.7630\n",
            "Epoch 61/100\n",
            "53/53 [==============================] - 1s 17ms/step - loss: 0.6456 - accuracy: 0.7563 - val_loss: 0.6177 - val_accuracy: 0.7971\n",
            "Epoch 62/100\n",
            "53/53 [==============================] - 1s 17ms/step - loss: 0.5796 - accuracy: 0.7942 - val_loss: 0.6926 - val_accuracy: 0.7558\n",
            "Epoch 63/100\n",
            "53/53 [==============================] - 1s 17ms/step - loss: 0.6532 - accuracy: 0.7602 - val_loss: 0.8712 - val_accuracy: 0.6876\n",
            "Epoch 64/100\n",
            "53/53 [==============================] - 1s 17ms/step - loss: 0.6401 - accuracy: 0.7510 - val_loss: 0.6750 - val_accuracy: 0.7522\n",
            "Epoch 65/100\n",
            "53/53 [==============================] - 1s 17ms/step - loss: 0.5969 - accuracy: 0.7723 - val_loss: 0.6019 - val_accuracy: 0.7882\n",
            "Epoch 66/100\n",
            "53/53 [==============================] - 1s 17ms/step - loss: 0.5489 - accuracy: 0.8070 - val_loss: 0.6400 - val_accuracy: 0.7720\n",
            "Epoch 67/100\n",
            "53/53 [==============================] - 1s 17ms/step - loss: 0.5773 - accuracy: 0.7828 - val_loss: 0.5696 - val_accuracy: 0.7989\n",
            "Epoch 68/100\n",
            "53/53 [==============================] - 1s 17ms/step - loss: 0.5490 - accuracy: 0.7981 - val_loss: 0.6544 - val_accuracy: 0.7738\n",
            "Epoch 69/100\n",
            "53/53 [==============================] - 1s 17ms/step - loss: 0.5190 - accuracy: 0.8172 - val_loss: 0.6460 - val_accuracy: 0.7720\n",
            "Epoch 70/100\n",
            "53/53 [==============================] - 1s 17ms/step - loss: 0.5714 - accuracy: 0.7869 - val_loss: 0.6350 - val_accuracy: 0.7738\n",
            "Epoch 71/100\n",
            "53/53 [==============================] - 1s 17ms/step - loss: 0.5550 - accuracy: 0.7975 - val_loss: 0.6612 - val_accuracy: 0.7504\n",
            "Epoch 72/100\n",
            "53/53 [==============================] - 1s 17ms/step - loss: 0.5963 - accuracy: 0.7847 - val_loss: 0.5497 - val_accuracy: 0.8205\n",
            "Epoch 73/100\n",
            "53/53 [==============================] - 1s 17ms/step - loss: 0.5533 - accuracy: 0.7902 - val_loss: 0.5473 - val_accuracy: 0.8061\n",
            "Epoch 74/100\n",
            "53/53 [==============================] - 1s 17ms/step - loss: 0.5232 - accuracy: 0.8204 - val_loss: 0.6137 - val_accuracy: 0.7864\n",
            "Epoch 75/100\n",
            "53/53 [==============================] - 1s 17ms/step - loss: 0.5141 - accuracy: 0.8149 - val_loss: 0.5805 - val_accuracy: 0.7810\n",
            "Epoch 76/100\n",
            "53/53 [==============================] - 1s 17ms/step - loss: 0.5263 - accuracy: 0.8062 - val_loss: 0.6016 - val_accuracy: 0.7899\n",
            "Epoch 77/100\n",
            "53/53 [==============================] - 1s 17ms/step - loss: 0.5316 - accuracy: 0.8096 - val_loss: 0.6814 - val_accuracy: 0.7469\n",
            "Epoch 78/100\n",
            "53/53 [==============================] - 1s 17ms/step - loss: 0.5718 - accuracy: 0.7907 - val_loss: 0.6129 - val_accuracy: 0.7558\n",
            "Epoch 79/100\n",
            "53/53 [==============================] - 1s 17ms/step - loss: 0.5151 - accuracy: 0.8077 - val_loss: 0.6069 - val_accuracy: 0.7882\n",
            "Epoch 80/100\n",
            "53/53 [==============================] - 1s 17ms/step - loss: 0.5798 - accuracy: 0.7765 - val_loss: 0.5270 - val_accuracy: 0.7953\n",
            "Epoch 81/100\n",
            "53/53 [==============================] - 1s 17ms/step - loss: 0.5281 - accuracy: 0.8081 - val_loss: 0.6031 - val_accuracy: 0.8079\n",
            "Epoch 82/100\n",
            "53/53 [==============================] - 1s 17ms/step - loss: 0.6136 - accuracy: 0.7619 - val_loss: 0.6160 - val_accuracy: 0.7666\n",
            "Epoch 83/100\n",
            "53/53 [==============================] - 1s 17ms/step - loss: 0.5284 - accuracy: 0.8110 - val_loss: 0.5498 - val_accuracy: 0.8205\n",
            "Epoch 84/100\n",
            "53/53 [==============================] - 1s 17ms/step - loss: 0.4965 - accuracy: 0.8235 - val_loss: 0.5121 - val_accuracy: 0.8205\n",
            "Epoch 85/100\n",
            "53/53 [==============================] - 1s 17ms/step - loss: 0.5737 - accuracy: 0.7917 - val_loss: 0.5790 - val_accuracy: 0.7953\n",
            "Epoch 86/100\n",
            "53/53 [==============================] - 1s 17ms/step - loss: 0.6018 - accuracy: 0.7838 - val_loss: 0.5675 - val_accuracy: 0.7899\n",
            "Epoch 87/100\n",
            "53/53 [==============================] - 1s 17ms/step - loss: 0.4801 - accuracy: 0.8126 - val_loss: 0.4832 - val_accuracy: 0.8330\n",
            "Epoch 88/100\n",
            "53/53 [==============================] - 1s 17ms/step - loss: 0.4840 - accuracy: 0.8175 - val_loss: 0.5655 - val_accuracy: 0.8079\n",
            "Epoch 89/100\n",
            "53/53 [==============================] - 1s 17ms/step - loss: 0.4730 - accuracy: 0.8252 - val_loss: 0.7111 - val_accuracy: 0.7199\n",
            "Epoch 90/100\n",
            "53/53 [==============================] - 1s 17ms/step - loss: 0.6110 - accuracy: 0.7795 - val_loss: 0.7303 - val_accuracy: 0.7127\n",
            "Epoch 91/100\n",
            "53/53 [==============================] - 1s 17ms/step - loss: 0.5159 - accuracy: 0.8111 - val_loss: 0.7257 - val_accuracy: 0.7307\n",
            "Epoch 92/100\n",
            "53/53 [==============================] - 1s 17ms/step - loss: 0.6667 - accuracy: 0.7414 - val_loss: 0.5411 - val_accuracy: 0.8187\n",
            "Epoch 93/100\n",
            "53/53 [==============================] - 1s 17ms/step - loss: 0.4597 - accuracy: 0.8393 - val_loss: 0.5014 - val_accuracy: 0.8259\n",
            "Epoch 94/100\n",
            "53/53 [==============================] - 1s 17ms/step - loss: 0.4560 - accuracy: 0.8335 - val_loss: 0.5072 - val_accuracy: 0.8151\n",
            "Epoch 95/100\n",
            "53/53 [==============================] - 1s 17ms/step - loss: 0.4341 - accuracy: 0.8337 - val_loss: 0.5138 - val_accuracy: 0.8330\n",
            "Epoch 96/100\n",
            "53/53 [==============================] - 1s 17ms/step - loss: 0.4310 - accuracy: 0.8571 - val_loss: 0.4647 - val_accuracy: 0.8348\n",
            "Epoch 97/100\n",
            "53/53 [==============================] - 1s 17ms/step - loss: 0.4782 - accuracy: 0.8225 - val_loss: 0.4847 - val_accuracy: 0.8115\n",
            "Epoch 98/100\n",
            "53/53 [==============================] - 1s 17ms/step - loss: 0.5159 - accuracy: 0.8085 - val_loss: 0.4932 - val_accuracy: 0.8294\n",
            "Epoch 99/100\n",
            "53/53 [==============================] - 1s 17ms/step - loss: 0.4872 - accuracy: 0.8272 - val_loss: 0.4632 - val_accuracy: 0.8312\n",
            "Epoch 100/100\n",
            "53/53 [==============================] - 1s 17ms/step - loss: 0.4078 - accuracy: 0.8503 - val_loss: 0.4780 - val_accuracy: 0.8348\n"
          ],
          "name": "stdout"
        },
        {
          "output_type": "execute_result",
          "data": {
            "text/plain": [
              "<tensorflow.python.keras.callbacks.History at 0x7f56b02b3eb8>"
            ]
          },
          "metadata": {
            "tags": []
          },
          "execution_count": 71
        }
      ]
    },
    {
      "cell_type": "code",
      "metadata": {
        "id": "GqXu34XIt2F7"
      },
      "source": [
        "model1.save('/content/drive/MyDrive/bbc_news_model.h5')"
      ],
      "execution_count": null,
      "outputs": []
    },
    {
      "cell_type": "code",
      "metadata": {
        "colab": {
          "base_uri": "https://localhost:8080/"
        },
        "id": "L1-BrsDhd2MF",
        "outputId": "4698e04c-d506-4290-e19b-d73173b5dc89"
      },
      "source": [
        "model1.evaluate(X_test_wm,y_test_wm)"
      ],
      "execution_count": null,
      "outputs": [
        {
          "output_type": "stream",
          "text": [
            "18/18 [==============================] - 0s 8ms/step - loss: 0.4780 - accuracy: 0.8348\n"
          ],
          "name": "stdout"
        },
        {
          "output_type": "execute_result",
          "data": {
            "text/plain": [
              "[0.47802647948265076, 0.8348294496536255]"
            ]
          },
          "metadata": {
            "tags": []
          },
          "execution_count": 73
        }
      ]
    },
    {
      "cell_type": "code",
      "metadata": {
        "id": "Lq4fg1_xvvZN"
      },
      "source": [
        "#classes=[\"business\",\t\"entertainment\",\t\"politics\",\t\"sport\",\t\"tech\"]"
      ],
      "execution_count": null,
      "outputs": []
    },
    {
      "cell_type": "code",
      "metadata": {
        "id": "veG_Egpla1l0"
      },
      "source": [
        "def prediction(doc):\n",
        "  classes=[\"business\",\t\"entertainment\",\t\"politics\",\t\"sport\",\t\"tech\"]\n",
        "  doc= simple_preprocess(doc)\n",
        "  doc= get_embedding_w2v(doc, pre_trained=0)\n",
        "  doc1= doc.reshape(1,300,1)\n",
        "  p= model1.predict(doc1)\n",
        "  return classes[np.argmax(p)]"
      ],
      "execution_count": null,
      "outputs": []
    },
    {
      "cell_type": "code",
      "metadata": {
        "colab": {
          "base_uri": "https://localhost:8080/"
        },
        "id": "y1BARSxWbOVW",
        "outputId": "fb5fb97a-0474-494e-a43f-824b44394fe6"
      },
      "source": [
        "doc1= \"Pankaj Tripathi, currently seen on Criminal Justice: Behind Closed Doors, opens up about dealing with fame\"\n",
        "print(f\"The article belongs to {prediction(doc1)} category\",)"
      ],
      "execution_count": null,
      "outputs": [
        {
          "output_type": "stream",
          "text": [
            "The article belongs to tech category\n"
          ],
          "name": "stdout"
        }
      ]
    },
    {
      "cell_type": "code",
      "metadata": {
        "colab": {
          "base_uri": "https://localhost:8080/"
        },
        "id": "IoosnJn4btzi",
        "outputId": "bf6b8a31-c1e7-4553-ef3e-8739c44ebbf8"
      },
      "source": [
        "doc2= \"OnePlus 9 Alleged Live Images Tip Flat Hole-Punch Display, Reverse Wireless Charging Support\"\n",
        "print(f\"The article belongs to {prediction(doc2)} category\",)"
      ],
      "execution_count": null,
      "outputs": [
        {
          "output_type": "stream",
          "text": [
            "The article belongs to tech category\n"
          ],
          "name": "stdout"
        }
      ]
    },
    {
      "cell_type": "code",
      "metadata": {
        "colab": {
          "base_uri": "https://localhost:8080/"
        },
        "id": "ddASanTYby-_",
        "outputId": "6a5876c5-d5ed-418f-e723-482d758fd690"
      },
      "source": [
        "doc3= \"Tesla public company duties are a much bigger factor, but going private is impossible now (sigh),” Musk said in response to a tweet saying he should optimize his time in areas such as innovation\"\n",
        "print(f\"The article belongs to {prediction(doc3)} category\",)"
      ],
      "execution_count": null,
      "outputs": [
        {
          "output_type": "stream",
          "text": [
            "The article belongs to politics category\n"
          ],
          "name": "stdout"
        }
      ]
    },
    {
      "cell_type": "code",
      "metadata": {
        "colab": {
          "base_uri": "https://localhost:8080/"
        },
        "id": "Bz6sjqNAb9jn",
        "outputId": "9a1d2250-d24d-4d1d-fea9-dc159e9a1112"
      },
      "source": [
        "doc4= \"PSG sack Tuchel, Pochettino set to become new manager - reports.\"\n",
        "print(f\"The article belongs to {prediction(doc4)} category\",)"
      ],
      "execution_count": null,
      "outputs": [
        {
          "output_type": "stream",
          "text": [
            "The article belongs to sport category\n"
          ],
          "name": "stdout"
        }
      ]
    },
    {
      "cell_type": "code",
      "metadata": {
        "colab": {
          "base_uri": "https://localhost:8080/"
        },
        "id": "wdYmNwsEcPvM",
        "outputId": "fce52d77-05e5-43f8-fc01-8668b8b81f88"
      },
      "source": [
        "doc5= \"In a press conference on Tuesday, Kejriwal said the development of Uttar Pradesh has been held back by 'corrupt' leaders in the state\"\n",
        "print(f\"The article belongs to {prediction(doc5)} category\",)"
      ],
      "execution_count": null,
      "outputs": [
        {
          "output_type": "stream",
          "text": [
            "The article belongs to business category\n"
          ],
          "name": "stdout"
        }
      ]
    },
    {
      "cell_type": "code",
      "metadata": {
        "colab": {
          "base_uri": "https://localhost:8080/"
        },
        "id": "-hHjU8luce7h",
        "outputId": "390f8b45-a2e1-4aa8-c5c1-f40784742c4d"
      },
      "source": [
        "doc6= \"RIL plans to rebrand the IMG Reliance as its completely owned subsidiary post-acquisition of 50 per cent shares held by the wholly-owned subsidiary of IMG, the MG Singapore Pte. Ltd.\"\n",
        "print(f\"The article belongs to {prediction(doc6)} category\",)"
      ],
      "execution_count": null,
      "outputs": [
        {
          "output_type": "stream",
          "text": [
            "The article belongs to business category\n"
          ],
          "name": "stdout"
        }
      ]
    },
    {
      "cell_type": "markdown",
      "metadata": {
        "id": "PgwjUZ98uvqi"
      },
      "source": [
        " **Loading the saved model**"
      ]
    },
    {
      "cell_type": "code",
      "metadata": {
        "id": "Y7Euet91uaZq"
      },
      "source": [
        "from tensorflow.keras.models import load_model\n",
        "bbc = load_model('/content/drive/MyDrive/bbc_news_model.h5')"
      ],
      "execution_count": null,
      "outputs": []
    },
    {
      "cell_type": "code",
      "metadata": {
        "id": "kmRsu-f0vvnN"
      },
      "source": [
        "#embed = load_model('/content/drive/MyDrive/bbc_w2v_model.h5')\n",
        "import gensim\n",
        "embed = gensim.models.Word2Vec.load('/content/drive/MyDrive/bbc_w2v_model.h5')"
      ],
      "execution_count": null,
      "outputs": []
    },
    {
      "cell_type": "code",
      "metadata": {
        "id": "FwLK9WV0vgUD"
      },
      "source": [
        "def get_embedding_w2v_bbc(doc_tokens):\n",
        "    embeddings = []\n",
        "    for tok in doc_tokens:\n",
        "        if tok in embed.wv.vocab:\n",
        "            embeddings.append(embed.wv.word_vec(tok))\n",
        "    return np.mean(embeddings, axis=0)"
      ],
      "execution_count": null,
      "outputs": []
    },
    {
      "cell_type": "code",
      "metadata": {
        "id": "ckggYNnpunHH"
      },
      "source": [
        "def predictionbbc(doc):\n",
        "  classes=[\"business\",\t\"entertainment\",\t\"politics\",\t\"sport\",\t\"tech\"]\n",
        "  doc= simple_preprocess(doc)\n",
        "  doc= get_embedding_w2v_bbc(doc)\n",
        "  doc1= doc.reshape(1,300,1)\n",
        "  p= bbc.predict(doc1)\n",
        "  return classes[np.argmax(p)]"
      ],
      "execution_count": null,
      "outputs": []
    },
    {
      "cell_type": "code",
      "metadata": {
        "colab": {
          "base_uri": "https://localhost:8080/"
        },
        "id": "Zrujxy8sukqz",
        "outputId": "cfa84029-786c-4071-d915-c7b2d4548b61"
      },
      "source": [
        "test_doc= \"PSG sack Tuchel, Pochettino set to become new manager - reports.\"\n",
        "print(f\"The article belongs to {predictionbbc(test_doc)} category\",)"
      ],
      "execution_count": null,
      "outputs": [
        {
          "output_type": "stream",
          "text": [
            "The article belongs to sport category\n"
          ],
          "name": "stdout"
        }
      ]
    },
    {
      "cell_type": "code",
      "metadata": {
        "id": "RqL8v9LGtuQI"
      },
      "source": [
        ""
      ],
      "execution_count": null,
      "outputs": []
    }
  ]
}