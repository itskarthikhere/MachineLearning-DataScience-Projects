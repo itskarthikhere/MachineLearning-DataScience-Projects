{
  "nbformat": 4,
  "nbformat_minor": 0,
  "metadata": {
    "colab": {
      "name": "Coronachatbot.ipynb",
      "provenance": [],
      "collapsed_sections": [],
      "authorship_tag": "ABX9TyMcu7emX93Z8RfgF2+l8n5W"
    },
    "kernelspec": {
      "name": "python3",
      "display_name": "Python 3"
    },
    "accelerator": "GPU"
  },
  "cells": [
    {
      "cell_type": "code",
      "metadata": {
        "colab": {
          "base_uri": "https://localhost:8080/"
        },
        "id": "oMP0KMd-8QI9",
        "outputId": "d28a9112-f706-40d4-a26c-2908d14c2d39"
      },
      "source": [
        "pip install newspaper3k"
      ],
      "execution_count": null,
      "outputs": [
        {
          "output_type": "stream",
          "name": "stdout",
          "text": [
            "Collecting newspaper3k\n",
            "  Downloading newspaper3k-0.2.8-py3-none-any.whl (211 kB)\n",
            "\u001b[?25l\r\u001b[K     |█▌                              | 10 kB 18.1 MB/s eta 0:00:01\r\u001b[K     |███                             | 20 kB 22.4 MB/s eta 0:00:01\r\u001b[K     |████▋                           | 30 kB 22.9 MB/s eta 0:00:01\r\u001b[K     |██████▏                         | 40 kB 12.0 MB/s eta 0:00:01\r\u001b[K     |███████▊                        | 51 kB 11.1 MB/s eta 0:00:01\r\u001b[K     |█████████▎                      | 61 kB 12.8 MB/s eta 0:00:01\r\u001b[K     |██████████▉                     | 71 kB 12.5 MB/s eta 0:00:01\r\u001b[K     |████████████▍                   | 81 kB 12.2 MB/s eta 0:00:01\r\u001b[K     |██████████████                  | 92 kB 13.4 MB/s eta 0:00:01\r\u001b[K     |███████████████▌                | 102 kB 11.9 MB/s eta 0:00:01\r\u001b[K     |█████████████████               | 112 kB 11.9 MB/s eta 0:00:01\r\u001b[K     |██████████████████▋             | 122 kB 11.9 MB/s eta 0:00:01\r\u001b[K     |████████████████████▏           | 133 kB 11.9 MB/s eta 0:00:01\r\u001b[K     |█████████████████████▊          | 143 kB 11.9 MB/s eta 0:00:01\r\u001b[K     |███████████████████████▎        | 153 kB 11.9 MB/s eta 0:00:01\r\u001b[K     |████████████████████████▉       | 163 kB 11.9 MB/s eta 0:00:01\r\u001b[K     |██████████████████████████▍     | 174 kB 11.9 MB/s eta 0:00:01\r\u001b[K     |████████████████████████████    | 184 kB 11.9 MB/s eta 0:00:01\r\u001b[K     |█████████████████████████████▌  | 194 kB 11.9 MB/s eta 0:00:01\r\u001b[K     |███████████████████████████████ | 204 kB 11.9 MB/s eta 0:00:01\r\u001b[K     |████████████████████████████████| 211 kB 11.9 MB/s \n",
            "\u001b[?25hRequirement already satisfied: PyYAML>=3.11 in /usr/local/lib/python3.7/dist-packages (from newspaper3k) (3.13)\n",
            "Collecting tinysegmenter==0.3\n",
            "  Downloading tinysegmenter-0.3.tar.gz (16 kB)\n",
            "Collecting tldextract>=2.0.1\n",
            "  Downloading tldextract-3.2.0-py3-none-any.whl (87 kB)\n",
            "\u001b[K     |████████████████████████████████| 87 kB 5.8 MB/s \n",
            "\u001b[?25hRequirement already satisfied: beautifulsoup4>=4.4.1 in /usr/local/lib/python3.7/dist-packages (from newspaper3k) (4.6.3)\n",
            "Requirement already satisfied: nltk>=3.2.1 in /usr/local/lib/python3.7/dist-packages (from newspaper3k) (3.2.5)\n",
            "Requirement already satisfied: requests>=2.10.0 in /usr/local/lib/python3.7/dist-packages (from newspaper3k) (2.23.0)\n",
            "Requirement already satisfied: python-dateutil>=2.5.3 in /usr/local/lib/python3.7/dist-packages (from newspaper3k) (2.8.2)\n",
            "Collecting cssselect>=0.9.2\n",
            "  Downloading cssselect-1.1.0-py2.py3-none-any.whl (16 kB)\n",
            "Collecting feedfinder2>=0.0.4\n",
            "  Downloading feedfinder2-0.0.4.tar.gz (3.3 kB)\n",
            "Collecting feedparser>=5.2.1\n",
            "  Downloading feedparser-6.0.8-py3-none-any.whl (81 kB)\n",
            "\u001b[K     |████████████████████████████████| 81 kB 8.4 MB/s \n",
            "\u001b[?25hCollecting jieba3k>=0.35.1\n",
            "  Downloading jieba3k-0.35.1.zip (7.4 MB)\n",
            "\u001b[K     |████████████████████████████████| 7.4 MB 30.0 MB/s \n",
            "\u001b[?25hRequirement already satisfied: lxml>=3.6.0 in /usr/local/lib/python3.7/dist-packages (from newspaper3k) (4.2.6)\n",
            "Requirement already satisfied: Pillow>=3.3.0 in /usr/local/lib/python3.7/dist-packages (from newspaper3k) (7.1.2)\n",
            "Requirement already satisfied: six in /usr/local/lib/python3.7/dist-packages (from feedfinder2>=0.0.4->newspaper3k) (1.15.0)\n",
            "Collecting sgmllib3k\n",
            "  Downloading sgmllib3k-1.0.0.tar.gz (5.8 kB)\n",
            "Requirement already satisfied: urllib3!=1.25.0,!=1.25.1,<1.26,>=1.21.1 in /usr/local/lib/python3.7/dist-packages (from requests>=2.10.0->newspaper3k) (1.24.3)\n",
            "Requirement already satisfied: idna<3,>=2.5 in /usr/local/lib/python3.7/dist-packages (from requests>=2.10.0->newspaper3k) (2.10)\n",
            "Requirement already satisfied: chardet<4,>=3.0.2 in /usr/local/lib/python3.7/dist-packages (from requests>=2.10.0->newspaper3k) (3.0.4)\n",
            "Requirement already satisfied: certifi>=2017.4.17 in /usr/local/lib/python3.7/dist-packages (from requests>=2.10.0->newspaper3k) (2021.10.8)\n",
            "Collecting requests-file>=1.4\n",
            "  Downloading requests_file-1.5.1-py2.py3-none-any.whl (3.7 kB)\n",
            "Requirement already satisfied: filelock>=3.0.8 in /usr/local/lib/python3.7/dist-packages (from tldextract>=2.0.1->newspaper3k) (3.6.0)\n",
            "Building wheels for collected packages: tinysegmenter, feedfinder2, jieba3k, sgmllib3k\n",
            "  Building wheel for tinysegmenter (setup.py) ... \u001b[?25l\u001b[?25hdone\n",
            "  Created wheel for tinysegmenter: filename=tinysegmenter-0.3-py3-none-any.whl size=13553 sha256=76cf81ca0c9a8cb2bac7ac5770c90f1c8f848d8c5b2eed7bf60c522442f4dd06\n",
            "  Stored in directory: /root/.cache/pip/wheels/df/67/41/faca10fa501ca010be41b49d40360c2959e1c4f09bcbfa37fa\n",
            "  Building wheel for feedfinder2 (setup.py) ... \u001b[?25l\u001b[?25hdone\n",
            "  Created wheel for feedfinder2: filename=feedfinder2-0.0.4-py3-none-any.whl size=3357 sha256=d2d43bf79a996ee7a651fb689479c8323f50dcf9b36bc54dcb27057c08811ae2\n",
            "  Stored in directory: /root/.cache/pip/wheels/7f/d4/8f/6e2ca54744c9d7292d88ddb8d42876bcdab5e6d84a21c10346\n",
            "  Building wheel for jieba3k (setup.py) ... \u001b[?25l\u001b[?25hdone\n",
            "  Created wheel for jieba3k: filename=jieba3k-0.35.1-py3-none-any.whl size=7398404 sha256=ec73e77fb800b80b044b00fb152a10a1dc50089ce21ed82a67facef64559f548\n",
            "  Stored in directory: /root/.cache/pip/wheels/4c/91/46/3c208287b726df325a5979574324878b679116e4baae1af3c3\n",
            "  Building wheel for sgmllib3k (setup.py) ... \u001b[?25l\u001b[?25hdone\n",
            "  Created wheel for sgmllib3k: filename=sgmllib3k-1.0.0-py3-none-any.whl size=6066 sha256=179d8a95d3ac5377a28cd501f6c2aaf3507ffdfbe32b0224d13605681377ad2f\n",
            "  Stored in directory: /root/.cache/pip/wheels/73/ad/a4/0dff4a6ef231fc0dfa12ffbac2a36cebfdddfe059f50e019aa\n",
            "Successfully built tinysegmenter feedfinder2 jieba3k sgmllib3k\n",
            "Installing collected packages: sgmllib3k, requests-file, tldextract, tinysegmenter, jieba3k, feedparser, feedfinder2, cssselect, newspaper3k\n",
            "Successfully installed cssselect-1.1.0 feedfinder2-0.0.4 feedparser-6.0.8 jieba3k-0.35.1 newspaper3k-0.2.8 requests-file-1.5.1 sgmllib3k-1.0.0 tinysegmenter-0.3 tldextract-3.2.0\n"
          ]
        }
      ]
    },
    {
      "cell_type": "code",
      "metadata": {
        "colab": {
          "base_uri": "https://localhost:8080/"
        },
        "id": "YEUe1MZq9oyZ",
        "outputId": "024a6734-175a-4677-d571-6060e0caeb84"
      },
      "source": [
        "pip install nltk"
      ],
      "execution_count": null,
      "outputs": [
        {
          "output_type": "stream",
          "name": "stdout",
          "text": [
            "Requirement already satisfied: nltk in /usr/local/lib/python3.7/dist-packages (3.2.5)\n",
            "Requirement already satisfied: six in /usr/local/lib/python3.7/dist-packages (from nltk) (1.15.0)\n"
          ]
        }
      ]
    },
    {
      "cell_type": "code",
      "metadata": {
        "colab": {
          "base_uri": "https://localhost:8080/"
        },
        "id": "RrXDDzLP93Th",
        "outputId": "32f0d5b7-3ffe-4594-986c-5674ab670cc7"
      },
      "source": [
        "import nltk\n",
        "nltk.download('punkt')"
      ],
      "execution_count": null,
      "outputs": [
        {
          "output_type": "stream",
          "name": "stdout",
          "text": [
            "[nltk_data] Downloading package punkt to /root/nltk_data...\n",
            "[nltk_data]   Unzipping tokenizers/punkt.zip.\n"
          ]
        },
        {
          "output_type": "execute_result",
          "data": {
            "text/plain": [
              "True"
            ]
          },
          "metadata": {},
          "execution_count": 3
        }
      ]
    },
    {
      "cell_type": "code",
      "metadata": {
        "id": "KnSIELGQ--Sd"
      },
      "source": [
        "import random\n",
        "import numpy as np\n",
        "import string\n",
        "from sklearn.feature_extraction.text import CountVectorizer\n",
        "from sklearn.metrics.pairwise import cosine_similarity"
      ],
      "execution_count": null,
      "outputs": []
    },
    {
      "cell_type": "code",
      "metadata": {
        "id": "ytAeq9S68gVZ"
      },
      "source": [
        "from newspaper import Article"
      ],
      "execution_count": null,
      "outputs": []
    },
    {
      "cell_type": "code",
      "metadata": {
        "id": "zvk17mKG8mFS"
      },
      "source": [
        "article = Article(\"https://www.mayoclinic.org/diseases-conditions/coronavirus/symptoms-causes/syc-20479963\")\n"
      ],
      "execution_count": null,
      "outputs": []
    },
    {
      "cell_type": "code",
      "metadata": {
        "id": "Cg9SqFBF9W4O"
      },
      "source": [
        "article.download()\n",
        "article.parse()\n",
        "article.nlp()\n",
        "corpus = article.text"
      ],
      "execution_count": null,
      "outputs": []
    },
    {
      "cell_type": "code",
      "metadata": {
        "colab": {
          "base_uri": "https://localhost:8080/",
          "height": 140
        },
        "id": "2m12x2AT9lAW",
        "outputId": "19407950-55d3-4525-fc9d-0094629e2281"
      },
      "source": [
        "corpus"
      ],
      "execution_count": null,
      "outputs": [
        {
          "output_type": "execute_result",
          "data": {
            "text/plain": [
              "\"Overview\\n\\nCoronavirus Open pop-up dialog box Close Coronavirus Coronavirus Coronavirus is a family of viruses that can cause respiratory illnesses such as the common cold, severe acute respiratory syndrome (SARS) and Middle East respiratory syndrome (MERS).\\n\\nCoronaviruses are a family of viruses that can cause illnesses such as the common cold, severe acute respiratory syndrome (SARS) and Middle East respiratory syndrome (MERS). In 2019, a new coronavirus was identified as the cause of a disease outbreak that originated in China.\\n\\nThe virus is known as severe acute respiratory syndrome coronavirus 2 (SARS-CoV-2). The disease it causes is called coronavirus disease 2019 (COVID-19). In March 2020, the World Health Organization (WHO) declared the COVID-19 outbreak a pandemic.\\n\\nPublic health groups, including the U.S. Centers for Disease Control and Prevention (CDC) and WHO , are monitoring the COVID-19 pandemic and posting updates on their websites. These groups have also issued recommendations for preventing and treating the virus that causes COVID-19 .\\n\\nSymptoms\\n\\nSigns and symptoms of coronavirus disease 2019 (COVID-19) may appear 2 to 14 days after exposure. This time after exposure and before having symptoms is called the incubation period. You can still spread COVID-19 before you have symptoms (presymptomatic transmission). Common signs and symptoms can include:\\n\\nFever\\n\\nCough\\n\\nTiredness\\n\\nEarly symptoms of COVID-19 may include a loss of taste or smell.\\n\\nOther symptoms can include:\\n\\nShortness of breath or difficulty breathing\\n\\nMuscle aches\\n\\nChills\\n\\nSore throat\\n\\nRunny nose\\n\\nHeadache\\n\\nChest pain\\n\\nPink eye (conjunctivitis)\\n\\nNausea\\n\\nVomiting\\n\\nDiarrhea\\n\\nRash\\n\\nThis list isn't complete. Children have similar symptoms to adults and generally have mild illness.\\n\\nThe severity of COVID-19 symptoms can range from very mild to severe. Some people may have only a few symptoms. Some people may have no symptoms at all, but can still spread it (asymptomatic transmission). Some people may experience worsened symptoms, such as worsened shortness of breath and pneumonia, about a week after symptoms start.\\n\\nSome people experience COVID-19 symptoms for more than four weeks after they're diagnosed. These health issues are sometimes called post- COVID-19 conditions. Some children experience multisystem inflammatory syndrome, a syndrome that can affect some organs and tissues, several weeks after having COVID-19 . Rarely, some adults experience the syndrome too.\\n\\nPeople who are older have a higher risk of serious illness from COVID-19 , and the risk increases with age. People who have existing medical conditions also may have a higher risk of serious illness. Certain medical conditions that may increase the risk of serious illness from COVID-19 include:\\n\\nSerious heart diseases, such as heart failure, coronary artery disease or cardiomyopathy\\n\\nCancer\\n\\nChronic obstructive pulmonary disease (COPD)\\n\\nType 1 or type 2 diabetes\\n\\nOverweight, obesity or severe obesity\\n\\nHigh blood pressure\\n\\nSmoking\\n\\nChronic kidney disease\\n\\nSickle cell disease or thalassemia\\n\\nWeakened immune system from solid organ transplants or bone marrow transplants\\n\\nPregnancy\\n\\nAsthma\\n\\nChronic lung diseases such as cystic fibrosis or pulmonary hypertension\\n\\nLiver disease\\n\\nDementia\\n\\nDown syndrome\\n\\nWeakened immune system from bone marrow transplant, HIV or some medications\\n\\nBrain and nervous system conditions, such as strokes\\n\\nSubstance use disorders\\n\\nThis list is not complete. Other medical conditions may increase your risk of serious illness from COVID-19 .\\n\\nCOVID-19 self-checker\\n\\nAssess your symptoms on CDC’s coronavirus self-checker tool and find out if you’re a candidate for a COVID-19 test.\\n\\nWhen to see a doctor\\n\\nIf you have COVID-19 signs or symptoms or you've been in contact with someone diagnosed with COVID-19 , contact your health care provider right away for medical advice. Your health care provider will likely recommend that you get tested for COVID-19 . If you have emergency COVID-19 symptoms, such as trouble breathing, seek care immediately. If you need to go to a hospital, call ahead so that health care providers can take steps to ensure that others aren't exposed.\\n\\nIf you have emergency COVID-19 signs and symptoms, seek care immediately. Emergency signs and symptoms can include:\\n\\nTrouble breathing\\n\\nPersistent chest pain or pressure\\n\\nInability to stay awake\\n\\nNew confusion\\n\\nPale, gray or blue-colored skin, lips or nail beds — depending on skin tone\\n\\nThis list isn't complete. Let your health care provider know if you are an older adult or have chronic medical conditions, such as heart disease or lung disease, as you may have a greater risk of becoming seriously ill with COVID-19 .\\n\\nThere is a problem with information submitted for this request. Review/update the information highlighted below and resubmit the form. Get the latest health information from Mayo Clinic’s experts. Sign up for free, and stay up to date on research advancements, health tips and current health topics, like COVID-19, plus expertise on managing health. Email ErrorEmail field is required ErrorInclude a valid email address Learn more about Mayo Clinic’s use of data. To provide you with the most relevant and helpful information, and understand which information is beneficial, we may combine your email and website usage information with other information we have about you. If you are a Mayo Clinic patient, this could include protected health information. If we combine this information with your protected health information, we will treat all of that information as protected health information and will only use or disclose that information as set forth in our notice of privacy practices. You may opt-out of email communications at any time by clicking on the unsubscribe link in the e-mail. Subscribe! Thank you for subscribing Our Housecall e-newsletter will keep you up-to-date on the latest health information. Sorry something went wrong with your subscription Please, try again in a couple of minutes Retry\\n\\nCauses\\n\\nInfection with severe acute respiratory syndrome coronavirus 2, or SARS-CoV-2, causes coronavirus disease 2019 ( COVID-19 ).\\n\\nThe virus that causes COVID-19 spreads easily among people. Data has shown that the COVID-19 virus spreads mainly from person to person among those in close contact (within about 6 feet, or 2 meters). The virus spreads by respiratory droplets released when someone with the virus coughs, sneezes, breathes, sings or talks. These droplets can be inhaled or land in the mouth, nose or eyes of a person nearby.\\n\\nSometimes the COVID-19 virus can spread when a person is exposed to very small droplets or aerosols that stay in the air for several minutes or hours — called airborne transmission.\\n\\nThe virus can also spread if you touch a surface with the virus on it and then touch your mouth, nose or eyes. But the risk is low.\\n\\nThe COVID-19 virus can spread from someone who is infected but has no symptoms. This is called asymptomatic transmission. The COVID-19 virus can also spread from someone who is infected but hasn't developed symptoms yet. This is called presymptomatic transmission.\\n\\nIt's possible to get COVID-19 twice or more, but this is uncommon.\\n\\nWhen a virus has one or more new mutations it’s called a variant of the original virus. Currently, the CDC has identified two variants of the virus that causes COVID-19 as variants of concern. These include the delta (B.1.617.2) variant and the omicron (B.1.1.529) variant. The delta variant is more contagious than earlier variants and might cause more severe disease. The omicron variant spreads more easily than other variants, including delta. But omicron appears to cause less severe disease.\\n\\nRisk factors\\n\\nRisk factors for COVID-19 appear to include:\\n\\nClose contact (within 6 feet, or 2 meters) with someone who has COVID-19\\n\\nBeing coughed or sneezed on by an infected person\\n\\nComplications\\n\\nAlthough most people with COVID-19 have mild to moderate symptoms, the disease can cause severe medical complications and lead to death in some people. Older adults or people with existing medical conditions are at greater risk of becoming seriously ill with COVID-19 .\\n\\nComplications can include:\\n\\nPneumonia and trouble breathing\\n\\nOrgan failure in several organs\\n\\nHeart problems\\n\\nA severe lung condition that causes a low amount of oxygen to go through your bloodstream to your organs (acute respiratory distress syndrome)\\n\\nBlood clots\\n\\nAcute kidney injury\\n\\nAdditional viral and bacterial infections\\n\\nPrevention\\n\\nThe U.S. Food and Drug Administration (FDA) has given emergency use authorization to some COVID-19 vaccines in the United States. The FDA has approved the Pfizer-BioNTech COVID-19 vaccine, now called Comirnaty, to prevent COVID-19 in people age 16 and older. The FDA has given emergency use authorization to Pfizer-BioNTech COVID-19 vaccines for ages 5 through 15. The FDA has approved the Moderna vaccine, now called Spikevax, to prevent COVID-19 in people age 18 and older.\\n\\nA vaccine can prevent you from getting the COVID-19 virus or prevent you from becoming seriously ill if you get the COVID-19 virus. In addition, COVID-19 vaccination might offer better protection than getting sick with COVID-19 . A recent study showed that unvaccinated people who already had COVID-19 are more than twice as likely as fully vaccinated people to get reinfected with COVID-19 .\\n\\nAfter getting vaccinated, you can more safely return to many activities you may not have been able to do because of the pandemic. However, if you are in an area with a high number of people with COVID-19 in the hospital and new COVID-19 cases, the CDC recommends wearing a mask indoors in public. You're considered fully vaccinated two weeks after you get a second dose of an mRNA COVID-19 vaccine or two weeks after you get a single dose of the Janssen/Johnson & Johnson COVID-19 vaccine. You are considered up to date with your vaccines if you have gotten all recommended COVID-19 vaccines, including booster doses, when you become eligible.\\n\\nAn additional primary dose of a COVID-19 vaccine is recommended for people who are vaccinated and might not have had a strong enough immune response.\\n\\nIn contrast, a booster dose is recommended for people who are vaccinated and whose immune response weakened over time. Research suggests that getting a booster dose can decrease your risk of infection and severe illness with COVID-19 .\\n\\nPeople who have a moderately or severely weakened immune system should get an additional primary shot and a booster shot.\\n\\nThe CDC recommends additional doses and booster doses of COVID-19 vaccines in specific instances:\\n\\nAdditional dose. The CDC recommends a third dose of an mRNA COVID-19 vaccine for some people with weakened immune systems, such as those who have had an organ transplant. People with weakened immune systems might not develop enough immunity after vaccination with two doses of an mRNA COVID-19 vaccine. An additional dose might improve their protection against COVID-19 . The third dose should be given at least 28 days after a second dose of an mRNA COVID-19 vaccine. The additional dose should be the same brand as the other two mRNA COVID-19 vaccine doses you were given. If the brand given isn't known, either brand of mRNA COVID-19 vaccine can be given as a third dose.\\n\\nBooster dose. If you are age 12 or older, have been given both doses of the Pfizer-BioNTech COVID-19 vaccine and it’s been at least 5 months, you should get a single booster dose. Teens ages 12 to 17 should only get the Pfizer-BioNTech COVID-19 vaccine booster. For people age 18 or older, the Pfizer-BioNTech or Moderna COVID-19 vaccine boosters are preferred in most situations. If you are age 18 or older, have been given both doses of the Moderna COVID-19 vaccine and it’s been at least 5 months, you should get a single booster dose. The Pfizer-BioNTech or Moderna COVID-19 vaccine boosters are preferred in most situations. If you are age 18 or older, have been given one dose of the Janssen/Johnson & Johnson COVID-19 vaccine and it’s been at least 2 months, you should get a single booster dose. The Pfizer-BioNTech or Moderna COVID-19 vaccine boosters are preferred in most situations. Pregnant women may also receive a COVID-19 booster shot. If you have a weakened immune system, had two doses of an mRNA COVID-19 vaccine and an additional primary shot, and it’s been at least three months since the additional shot, get a single booster dose. An mRNA COVID-19 vaccine is preferred. If you have a weakened immune system, had one dose of the Janssen/Johnson & Johnson COVID-19 vaccine and an additional primary shot of an mRNA COVID-19 vaccine, and it’s been at least two months since the additional shot, get a single booster dose. An mRNA COVID-19 vaccine is preferred.\\n\\nSecond booster dose. A second booster dose of an mRNA COVID-19 vaccine is recommended for certain people who have a weakened immune system and people age 50 or older. This second booster dose can be given to those eligible four months after a first booster dose of any authorized or approved COVID-19 vaccine.\\n\\nThe FDA has also authorized the monoclonal antibodies tixagevimab and cilgavimab (Evusheld) to prevent COVID-19 in some people with weakened immune systems or a history of severe reactions to a COVID-19 vaccine.\\n\\nThere are many steps you can take to reduce your risk of infection from the COVID-19 virus and reduce the risk of spreading it to others. WHO and CDC recommend following these precautions:\\n\\nGet vaccinated. COVID-19 vaccines reduce the risk of getting and spreading COVID-19.\\n\\nvaccines reduce the risk of getting and spreading COVID-19. Avoid close contact (within about 6 feet, or 2 meters) with anyone who is sick or has symptoms.\\n\\nKeep distance between yourself and others (within about 6 feet, or 2 meters) when you're in indoor public spaces if you're not fully vaccinated. This is especially important if you have a higher risk of serious illness. Keep in mind some people may have COVID-19 and spread it to others, even if they don't have symptoms or don't know they have COVID-19 .\\n\\nand spread it to others, even if they don't have symptoms or don't know they have . Avoid crowds and indoor places that have poor air flow (ventilation).\\n\\nWash your hands often with soap and water for at least 20 seconds, or use an alcohol-based hand sanitizer that contains at least 60% alcohol.\\n\\nWear a face mask in indoor public spaces if you're in an area with a high number of people with COVID-19 in the hospital and new COVID-19 cases, whether or not you're vaccinated. The CDC recommends wearing the most protective mask possible that you'll wear regularly, fits well and is comfortable.\\n\\nin the hospital and new cases, whether or not you're vaccinated. The recommends wearing the most protective mask possible that you'll wear regularly, fits well and is comfortable. Cover your mouth and nose with your elbow or a tissue when you cough or sneeze. Throw away the used tissue. Wash your hands right away.\\n\\nAvoid touching your eyes, nose and mouth.\\n\\nAvoid sharing dishes, glasses, towels, bedding and other household items if you're sick.\\n\\nClean and disinfect high-touch surfaces, such as doorknobs, light switches, electronics and counters, regularly.\\n\\nStay home from work, school and public areas and stay home in isolation if you're sick, unless you're going to get medical care. Avoid public transportation, taxis and ride-hailing services if you're sick.\\n\\nIf you have a chronic medical condition and may have a higher risk of serious illness, check with your doctor about other ways to protect yourself.\\n\\nTravel\""
            ],
            "application/vnd.google.colaboratory.intrinsic+json": {
              "type": "string"
            }
          },
          "metadata": {},
          "execution_count": 8
        }
      ]
    },
    {
      "cell_type": "code",
      "metadata": {
        "id": "QtkAJOyU-BLl"
      },
      "source": [
        "text = corpus"
      ],
      "execution_count": null,
      "outputs": []
    },
    {
      "cell_type": "code",
      "metadata": {
        "id": "L-FPhD4G_pmG"
      },
      "source": [
        "sentence_list = nltk.sent_tokenize(text)"
      ],
      "execution_count": null,
      "outputs": []
    },
    {
      "cell_type": "code",
      "metadata": {
        "colab": {
          "base_uri": "https://localhost:8080/"
        },
        "id": "ieyjV93T_zFX",
        "outputId": "a895fcdd-84df-4b5d-d224-da29d9e9b678"
      },
      "source": [
        "sentence_list"
      ],
      "execution_count": null,
      "outputs": [
        {
          "output_type": "execute_result",
          "data": {
            "text/plain": [
              "['Overview\\n\\nCoronavirus Open pop-up dialog box Close Coronavirus Coronavirus Coronavirus is a family of viruses that can cause respiratory illnesses such as the common cold, severe acute respiratory syndrome (SARS) and Middle East respiratory syndrome (MERS).',\n",
              " 'Coronaviruses are a family of viruses that can cause illnesses such as the common cold, severe acute respiratory syndrome (SARS) and Middle East respiratory syndrome (MERS).',\n",
              " 'In 2019, a new coronavirus was identified as the cause of a disease outbreak that originated in China.',\n",
              " 'The virus is known as severe acute respiratory syndrome coronavirus 2 (SARS-CoV-2).',\n",
              " 'The disease it causes is called coronavirus disease 2019 (COVID-19).',\n",
              " 'In March 2020, the World Health Organization (WHO) declared the COVID-19 outbreak a pandemic.',\n",
              " 'Public health groups, including the U.S. Centers for Disease Control and Prevention (CDC) and WHO , are monitoring the COVID-19 pandemic and posting updates on their websites.',\n",
              " 'These groups have also issued recommendations for preventing and treating the virus that causes COVID-19 .',\n",
              " 'Symptoms\\n\\nSigns and symptoms of coronavirus disease 2019 (COVID-19) may appear 2 to 14 days after exposure.',\n",
              " 'This time after exposure and before having symptoms is called the incubation period.',\n",
              " 'You can still spread COVID-19 before you have symptoms (presymptomatic transmission).',\n",
              " 'Common signs and symptoms can include:\\n\\nFever\\n\\nCough\\n\\nTiredness\\n\\nEarly symptoms of COVID-19 may include a loss of taste or smell.',\n",
              " \"Other symptoms can include:\\n\\nShortness of breath or difficulty breathing\\n\\nMuscle aches\\n\\nChills\\n\\nSore throat\\n\\nRunny nose\\n\\nHeadache\\n\\nChest pain\\n\\nPink eye (conjunctivitis)\\n\\nNausea\\n\\nVomiting\\n\\nDiarrhea\\n\\nRash\\n\\nThis list isn't complete.\",\n",
              " 'Children have similar symptoms to adults and generally have mild illness.',\n",
              " 'The severity of COVID-19 symptoms can range from very mild to severe.',\n",
              " 'Some people may have only a few symptoms.',\n",
              " 'Some people may have no symptoms at all, but can still spread it (asymptomatic transmission).',\n",
              " 'Some people may experience worsened symptoms, such as worsened shortness of breath and pneumonia, about a week after symptoms start.',\n",
              " \"Some people experience COVID-19 symptoms for more than four weeks after they're diagnosed.\",\n",
              " 'These health issues are sometimes called post- COVID-19 conditions.',\n",
              " 'Some children experience multisystem inflammatory syndrome, a syndrome that can affect some organs and tissues, several weeks after having COVID-19 .',\n",
              " 'Rarely, some adults experience the syndrome too.',\n",
              " 'People who are older have a higher risk of serious illness from COVID-19 , and the risk increases with age.',\n",
              " 'People who have existing medical conditions also may have a higher risk of serious illness.',\n",
              " 'Certain medical conditions that may increase the risk of serious illness from COVID-19 include:\\n\\nSerious heart diseases, such as heart failure, coronary artery disease or cardiomyopathy\\n\\nCancer\\n\\nChronic obstructive pulmonary disease (COPD)\\n\\nType 1 or type 2 diabetes\\n\\nOverweight, obesity or severe obesity\\n\\nHigh blood pressure\\n\\nSmoking\\n\\nChronic kidney disease\\n\\nSickle cell disease or thalassemia\\n\\nWeakened immune system from solid organ transplants or bone marrow transplants\\n\\nPregnancy\\n\\nAsthma\\n\\nChronic lung diseases such as cystic fibrosis or pulmonary hypertension\\n\\nLiver disease\\n\\nDementia\\n\\nDown syndrome\\n\\nWeakened immune system from bone marrow transplant, HIV or some medications\\n\\nBrain and nervous system conditions, such as strokes\\n\\nSubstance use disorders\\n\\nThis list is not complete.',\n",
              " 'Other medical conditions may increase your risk of serious illness from COVID-19 .',\n",
              " 'COVID-19 self-checker\\n\\nAssess your symptoms on CDC’s coronavirus self-checker tool and find out if you’re a candidate for a COVID-19 test.',\n",
              " \"When to see a doctor\\n\\nIf you have COVID-19 signs or symptoms or you've been in contact with someone diagnosed with COVID-19 , contact your health care provider right away for medical advice.\",\n",
              " 'Your health care provider will likely recommend that you get tested for COVID-19 .',\n",
              " 'If you have emergency COVID-19 symptoms, such as trouble breathing, seek care immediately.',\n",
              " \"If you need to go to a hospital, call ahead so that health care providers can take steps to ensure that others aren't exposed.\",\n",
              " 'If you have emergency COVID-19 signs and symptoms, seek care immediately.',\n",
              " \"Emergency signs and symptoms can include:\\n\\nTrouble breathing\\n\\nPersistent chest pain or pressure\\n\\nInability to stay awake\\n\\nNew confusion\\n\\nPale, gray or blue-colored skin, lips or nail beds — depending on skin tone\\n\\nThis list isn't complete.\",\n",
              " 'Let your health care provider know if you are an older adult or have chronic medical conditions, such as heart disease or lung disease, as you may have a greater risk of becoming seriously ill with COVID-19 .',\n",
              " 'There is a problem with information submitted for this request.',\n",
              " 'Review/update the information highlighted below and resubmit the form.',\n",
              " 'Get the latest health information from Mayo Clinic’s experts.',\n",
              " 'Sign up for free, and stay up to date on research advancements, health tips and current health topics, like COVID-19, plus expertise on managing health.',\n",
              " 'Email ErrorEmail field is required ErrorInclude a valid email address Learn more about Mayo Clinic’s use of data.',\n",
              " 'To provide you with the most relevant and helpful information, and understand which information is beneficial, we may combine your email and website usage information with other information we have about you.',\n",
              " 'If you are a Mayo Clinic patient, this could include protected health information.',\n",
              " 'If we combine this information with your protected health information, we will treat all of that information as protected health information and will only use or disclose that information as set forth in our notice of privacy practices.',\n",
              " 'You may opt-out of email communications at any time by clicking on the unsubscribe link in the e-mail.',\n",
              " 'Subscribe!',\n",
              " 'Thank you for subscribing Our Housecall e-newsletter will keep you up-to-date on the latest health information.',\n",
              " 'Sorry something went wrong with your subscription Please, try again in a couple of minutes Retry\\n\\nCauses\\n\\nInfection with severe acute respiratory syndrome coronavirus 2, or SARS-CoV-2, causes coronavirus disease 2019 ( COVID-19 ).',\n",
              " 'The virus that causes COVID-19 spreads easily among people.',\n",
              " 'Data has shown that the COVID-19 virus spreads mainly from person to person among those in close contact (within about 6 feet, or 2 meters).',\n",
              " 'The virus spreads by respiratory droplets released when someone with the virus coughs, sneezes, breathes, sings or talks.',\n",
              " 'These droplets can be inhaled or land in the mouth, nose or eyes of a person nearby.',\n",
              " 'Sometimes the COVID-19 virus can spread when a person is exposed to very small droplets or aerosols that stay in the air for several minutes or hours — called airborne transmission.',\n",
              " 'The virus can also spread if you touch a surface with the virus on it and then touch your mouth, nose or eyes.',\n",
              " 'But the risk is low.',\n",
              " 'The COVID-19 virus can spread from someone who is infected but has no symptoms.',\n",
              " 'This is called asymptomatic transmission.',\n",
              " \"The COVID-19 virus can also spread from someone who is infected but hasn't developed symptoms yet.\",\n",
              " 'This is called presymptomatic transmission.',\n",
              " \"It's possible to get COVID-19 twice or more, but this is uncommon.\",\n",
              " 'When a virus has one or more new mutations it’s called a variant of the original virus.',\n",
              " 'Currently, the CDC has identified two variants of the virus that causes COVID-19 as variants of concern.',\n",
              " 'These include the delta (B.1.617.2) variant and the omicron (B.1.1.529) variant.',\n",
              " 'The delta variant is more contagious than earlier variants and might cause more severe disease.',\n",
              " 'The omicron variant spreads more easily than other variants, including delta.',\n",
              " 'But omicron appears to cause less severe disease.',\n",
              " 'Risk factors\\n\\nRisk factors for COVID-19 appear to include:\\n\\nClose contact (within 6 feet, or 2 meters) with someone who has COVID-19\\n\\nBeing coughed or sneezed on by an infected person\\n\\nComplications\\n\\nAlthough most people with COVID-19 have mild to moderate symptoms, the disease can cause severe medical complications and lead to death in some people.',\n",
              " 'Older adults or people with existing medical conditions are at greater risk of becoming seriously ill with COVID-19 .',\n",
              " 'Complications can include:\\n\\nPneumonia and trouble breathing\\n\\nOrgan failure in several organs\\n\\nHeart problems\\n\\nA severe lung condition that causes a low amount of oxygen to go through your bloodstream to your organs (acute respiratory distress syndrome)\\n\\nBlood clots\\n\\nAcute kidney injury\\n\\nAdditional viral and bacterial infections\\n\\nPrevention\\n\\nThe U.S. Food and Drug Administration (FDA) has given emergency use authorization to some COVID-19 vaccines in the United States.',\n",
              " 'The FDA has approved the Pfizer-BioNTech COVID-19 vaccine, now called Comirnaty, to prevent COVID-19 in people age 16 and older.',\n",
              " 'The FDA has given emergency use authorization to Pfizer-BioNTech COVID-19 vaccines for ages 5 through 15.',\n",
              " 'The FDA has approved the Moderna vaccine, now called Spikevax, to prevent COVID-19 in people age 18 and older.',\n",
              " 'A vaccine can prevent you from getting the COVID-19 virus or prevent you from becoming seriously ill if you get the COVID-19 virus.',\n",
              " 'In addition, COVID-19 vaccination might offer better protection than getting sick with COVID-19 .',\n",
              " 'A recent study showed that unvaccinated people who already had COVID-19 are more than twice as likely as fully vaccinated people to get reinfected with COVID-19 .',\n",
              " 'After getting vaccinated, you can more safely return to many activities you may not have been able to do because of the pandemic.',\n",
              " 'However, if you are in an area with a high number of people with COVID-19 in the hospital and new COVID-19 cases, the CDC recommends wearing a mask indoors in public.',\n",
              " \"You're considered fully vaccinated two weeks after you get a second dose of an mRNA COVID-19 vaccine or two weeks after you get a single dose of the Janssen/Johnson & Johnson COVID-19 vaccine.\",\n",
              " 'You are considered up to date with your vaccines if you have gotten all recommended COVID-19 vaccines, including booster doses, when you become eligible.',\n",
              " 'An additional primary dose of a COVID-19 vaccine is recommended for people who are vaccinated and might not have had a strong enough immune response.',\n",
              " 'In contrast, a booster dose is recommended for people who are vaccinated and whose immune response weakened over time.',\n",
              " 'Research suggests that getting a booster dose can decrease your risk of infection and severe illness with COVID-19 .',\n",
              " 'People who have a moderately or severely weakened immune system should get an additional primary shot and a booster shot.',\n",
              " 'The CDC recommends additional doses and booster doses of COVID-19 vaccines in specific instances:\\n\\nAdditional dose.',\n",
              " 'The CDC recommends a third dose of an mRNA COVID-19 vaccine for some people with weakened immune systems, such as those who have had an organ transplant.',\n",
              " 'People with weakened immune systems might not develop enough immunity after vaccination with two doses of an mRNA COVID-19 vaccine.',\n",
              " 'An additional dose might improve their protection against COVID-19 .',\n",
              " 'The third dose should be given at least 28 days after a second dose of an mRNA COVID-19 vaccine.',\n",
              " 'The additional dose should be the same brand as the other two mRNA COVID-19 vaccine doses you were given.',\n",
              " \"If the brand given isn't known, either brand of mRNA COVID-19 vaccine can be given as a third dose.\",\n",
              " 'Booster dose.',\n",
              " 'If you are age 12 or older, have been given both doses of the Pfizer-BioNTech COVID-19 vaccine and it’s been at least 5 months, you should get a single booster dose.',\n",
              " 'Teens ages 12 to 17 should only get the Pfizer-BioNTech COVID-19 vaccine booster.',\n",
              " 'For people age 18 or older, the Pfizer-BioNTech or Moderna COVID-19 vaccine boosters are preferred in most situations.',\n",
              " 'If you are age 18 or older, have been given both doses of the Moderna COVID-19 vaccine and it’s been at least 5 months, you should get a single booster dose.',\n",
              " 'The Pfizer-BioNTech or Moderna COVID-19 vaccine boosters are preferred in most situations.',\n",
              " 'If you are age 18 or older, have been given one dose of the Janssen/Johnson & Johnson COVID-19 vaccine and it’s been at least 2 months, you should get a single booster dose.',\n",
              " 'The Pfizer-BioNTech or Moderna COVID-19 vaccine boosters are preferred in most situations.',\n",
              " 'Pregnant women may also receive a COVID-19 booster shot.',\n",
              " 'If you have a weakened immune system, had two doses of an mRNA COVID-19 vaccine and an additional primary shot, and it’s been at least three months since the additional shot, get a single booster dose.',\n",
              " 'An mRNA COVID-19 vaccine is preferred.',\n",
              " 'If you have a weakened immune system, had one dose of the Janssen/Johnson & Johnson COVID-19 vaccine and an additional primary shot of an mRNA COVID-19 vaccine, and it’s been at least two months since the additional shot, get a single booster dose.',\n",
              " 'An mRNA COVID-19 vaccine is preferred.',\n",
              " 'Second booster dose.',\n",
              " 'A second booster dose of an mRNA COVID-19 vaccine is recommended for certain people who have a weakened immune system and people age 50 or older.',\n",
              " 'This second booster dose can be given to those eligible four months after a first booster dose of any authorized or approved COVID-19 vaccine.',\n",
              " 'The FDA has also authorized the monoclonal antibodies tixagevimab and cilgavimab (Evusheld) to prevent COVID-19 in some people with weakened immune systems or a history of severe reactions to a COVID-19 vaccine.',\n",
              " 'There are many steps you can take to reduce your risk of infection from the COVID-19 virus and reduce the risk of spreading it to others.',\n",
              " 'WHO and CDC recommend following these precautions:\\n\\nGet vaccinated.',\n",
              " 'COVID-19 vaccines reduce the risk of getting and spreading COVID-19.',\n",
              " 'vaccines reduce the risk of getting and spreading COVID-19.',\n",
              " 'Avoid close contact (within about 6 feet, or 2 meters) with anyone who is sick or has symptoms.',\n",
              " \"Keep distance between yourself and others (within about 6 feet, or 2 meters) when you're in indoor public spaces if you're not fully vaccinated.\",\n",
              " 'This is especially important if you have a higher risk of serious illness.',\n",
              " \"Keep in mind some people may have COVID-19 and spread it to others, even if they don't have symptoms or don't know they have COVID-19 .\",\n",
              " \"and spread it to others, even if they don't have symptoms or don't know they have .\",\n",
              " 'Avoid crowds and indoor places that have poor air flow (ventilation).',\n",
              " 'Wash your hands often with soap and water for at least 20 seconds, or use an alcohol-based hand sanitizer that contains at least 60% alcohol.',\n",
              " \"Wear a face mask in indoor public spaces if you're in an area with a high number of people with COVID-19 in the hospital and new COVID-19 cases, whether or not you're vaccinated.\",\n",
              " \"The CDC recommends wearing the most protective mask possible that you'll wear regularly, fits well and is comfortable.\",\n",
              " \"in the hospital and new cases, whether or not you're vaccinated.\",\n",
              " \"The recommends wearing the most protective mask possible that you'll wear regularly, fits well and is comfortable.\",\n",
              " 'Cover your mouth and nose with your elbow or a tissue when you cough or sneeze.',\n",
              " 'Throw away the used tissue.',\n",
              " 'Wash your hands right away.',\n",
              " 'Avoid touching your eyes, nose and mouth.',\n",
              " \"Avoid sharing dishes, glasses, towels, bedding and other household items if you're sick.\",\n",
              " 'Clean and disinfect high-touch surfaces, such as doorknobs, light switches, electronics and counters, regularly.',\n",
              " \"Stay home from work, school and public areas and stay home in isolation if you're sick, unless you're going to get medical care.\",\n",
              " \"Avoid public transportation, taxis and ride-hailing services if you're sick.\",\n",
              " 'If you have a chronic medical condition and may have a higher risk of serious illness, check with your doctor about other ways to protect yourself.',\n",
              " 'Travel']"
            ]
          },
          "metadata": {},
          "execution_count": 11
        }
      ]
    },
    {
      "cell_type": "code",
      "metadata": {
        "id": "Qn_BDkfW_0Vc"
      },
      "source": [
        "def greeting_respose(text):\n",
        "  text = text.lower()\n",
        "\n",
        "  bot_greeting = [\"Hi\",\"Hello\",\"Hey\"]\n",
        "  user_greeting = [\"hi\",\"hello\",\"hey\"]\n",
        "\n",
        "  for word in text.split():\n",
        "    if word in user_greeting:\n",
        "      return random.choice(bot_greeting)\n"
      ],
      "execution_count": null,
      "outputs": []
    },
    {
      "cell_type": "code",
      "metadata": {
        "id": "8jFAfq2CCNSf"
      },
      "source": [
        "def index_sort(list_var):\n",
        "  length = len(list_var)\n",
        "  list_index = list(range(0,length))\n",
        "\n",
        "  x = list_var\n",
        "  for i in range(length):\n",
        "    for j in range(length):\n",
        "      if x[list_index[i]] > x[list_index[j]]:\n",
        "        temp = list_index[i]\n",
        "        list_index[i] = list_index[j]\n",
        "        list_index[j] = temp\n",
        "\n",
        "  return list_index"
      ],
      "execution_count": null,
      "outputs": []
    },
    {
      "cell_type": "code",
      "metadata": {
        "id": "C9JRlbCvGIF1"
      },
      "source": [
        "def bot_response(user_input):\n",
        "  user_input = user_input.lower()\n",
        "  sentence_list.append(user_input)\n",
        "  bot_responses = \"lala\"\n",
        "  cm = CountVectorizer().fit_transform(sentence_list)\n",
        "  similarity_scores = cosine_similarity(cm[-1],cm)\n",
        "  similarity_scores_list = similarity_scores.flatten()\n",
        "  index  = index_sort(similarity_scores_list)\n",
        "  index = index[1:]\n",
        "  response_flag = 0\n",
        "\n",
        "  j=0\n",
        "  for i in range(len(index)):\n",
        "    if similarity_scores_list[index[i]] > 0.0:\n",
        "      bot_responses = sentence_list[index[i]]\n",
        "      response_flag = 1\n",
        "      j += 1\n",
        "    if j>2:\n",
        "      break\n",
        "  if response_flag == 0:\n",
        "    bot_responses = \"This is beyond my scope\"\n",
        "\n",
        "  sentence_list.remove(user_input)\n",
        "  \n",
        "\n",
        "  return bot_responses\n"
      ],
      "execution_count": null,
      "outputs": []
    },
    {
      "cell_type": "code",
      "metadata": {
        "colab": {
          "base_uri": "https://localhost:8080/"
        },
        "id": "xZoLmUPx2Ob1",
        "outputId": "99a9f1eb-bec7-4b66-9cbc-06fe94dd6809"
      },
      "source": [
        "print(\"Doc bot:I can provide any info on covid\")\n",
        "\n",
        "exit_list = [\"exit\",\"see u later\",\"bye\"]\n",
        "\n",
        "while(True):\n",
        "  user_input = input()\n",
        "  if user_input.lower() in exit_list:\n",
        "    print(\"Doc bot:Thanks\")\n",
        "    break\n",
        "  else:\n",
        "    if greeting_respose(user_input) != None:\n",
        "      print(\"Doc bor : \"+greeting_respose(user_input))\n",
        "\n",
        "    else:\n",
        "      print(\"Doc bot: \"+bot_response(user_input))"
      ],
      "execution_count": null,
      "outputs": [
        {
          "output_type": "stream",
          "text": [
            "Doc bot:I can provide any info on covid\n",
            "hi\n",
            "Doc bor : Hi\n",
            "symtoms\n",
            "Doc bot: This is beyond my scope\n",
            "symptoms\n",
            "Doc bot: Common signs and symptoms can include:\n",
            "\n",
            "Fever\n",
            "\n",
            "Cough\n",
            "\n",
            "Tiredness\n",
            "\n",
            "Early symptoms of COVID-19 may include a loss of taste or smell.\n",
            "bye\n",
            "Doc bot:Thanks\n"
          ],
          "name": "stdout"
        }
      ]
    },
    {
      "cell_type": "code",
      "metadata": {
        "id": "AL0kP3TT3DZ_"
      },
      "source": [
        ""
      ],
      "execution_count": null,
      "outputs": []
    }
  ]
}