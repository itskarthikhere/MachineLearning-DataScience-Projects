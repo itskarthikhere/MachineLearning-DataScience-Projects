{
  "nbformat": 4,
  "nbformat_minor": 0,
  "metadata": {
    "colab": {
      "name": "Review on RNN, LSTM.ipynb",
      "provenance": [],
      "collapsed_sections": []
    },
    "kernelspec": {
      "name": "python3",
      "display_name": "Python 3"
    },
    "accelerator": "GPU"
  },
  "cells": [
    {
      "cell_type": "code",
      "metadata": {
        "id": "tmt6a-tiCuGm"
      },
      "source": [
        "sentence=[\n",
        "          \"I really like this book\",\n",
        "          \"I love this place\"\n",
        "]"
      ],
      "execution_count": null,
      "outputs": []
    },
    {
      "cell_type": "code",
      "metadata": {
        "id": "fC_igyUpC--b"
      },
      "source": [
        "import tensorflow\n",
        "from tensorflow.keras.layers import Embedding\n",
        "from tensorflow.keras.preprocessing.sequence import pad_sequences\n",
        "from tensorflow.keras.models import Sequential\n",
        "from tensorflow.keras.preprocessing.text import one_hot"
      ],
      "execution_count": null,
      "outputs": []
    },
    {
      "cell_type": "code",
      "metadata": {
        "id": "SQaPjt9eDfSz"
      },
      "source": [
        "one_hot_rep= [one_hot(words,100) for words in sentence]"
      ],
      "execution_count": null,
      "outputs": []
    },
    {
      "cell_type": "code",
      "metadata": {
        "colab": {
          "base_uri": "https://localhost:8080/"
        },
        "id": "n2UAW-qsDzwv",
        "outputId": "6f6b9d6f-1b00-43c6-ad4a-3fc8b85b0f28"
      },
      "source": [
        "one_hot_rep"
      ],
      "execution_count": null,
      "outputs": [
        {
          "output_type": "execute_result",
          "data": {
            "text/plain": [
              "[[73, 81, 86, 62, 78], [73, 12, 62, 76]]"
            ]
          },
          "metadata": {
            "tags": []
          },
          "execution_count": 100
        }
      ]
    },
    {
      "cell_type": "code",
      "metadata": {
        "colab": {
          "base_uri": "https://localhost:8080/"
        },
        "id": "o8YWGnVxD3vL",
        "outputId": "4f2bf71b-ab01-455d-82ce-157c88b9ca35"
      },
      "source": [
        "length= 8\n",
        "embedded_doc= pad_sequences(one_hot_rep, padding='pre', maxlen= length)\n",
        "print(embedded_doc)"
      ],
      "execution_count": null,
      "outputs": [
        {
          "output_type": "stream",
          "text": [
            "[[ 0  0  0 73 81 86 62 78]\n",
            " [ 0  0  0  0 73 12 62 76]]\n"
          ],
          "name": "stdout"
        }
      ]
    },
    {
      "cell_type": "code",
      "metadata": {
        "id": "ygv1z-P2EGQr"
      },
      "source": [
        "dim=10\n",
        "vocab_size=100\n",
        "model= Sequential()\n",
        "model.add(Embedding(vocab_size ,dim, input_length= length))"
      ],
      "execution_count": null,
      "outputs": []
    },
    {
      "cell_type": "code",
      "metadata": {
        "colab": {
          "base_uri": "https://localhost:8080/"
        },
        "id": "Gipg1FuJEagr",
        "outputId": "104a3784-987c-4682-9a44-90168bb70887"
      },
      "source": [
        "model.summary()"
      ],
      "execution_count": null,
      "outputs": [
        {
          "output_type": "stream",
          "text": [
            "Model: \"sequential_1\"\n",
            "_________________________________________________________________\n",
            "Layer (type)                 Output Shape              Param #   \n",
            "=================================================================\n",
            "embedding (Embedding)        (None, 8, 10)             1000      \n",
            "=================================================================\n",
            "Total params: 1,000\n",
            "Trainable params: 1,000\n",
            "Non-trainable params: 0\n",
            "_________________________________________________________________\n"
          ],
          "name": "stdout"
        }
      ]
    },
    {
      "cell_type": "code",
      "metadata": {
        "id": "s7aQ0_7KEnCA"
      },
      "source": [
        "pred= model.predict(embedded_doc)"
      ],
      "execution_count": null,
      "outputs": []
    },
    {
      "cell_type": "code",
      "metadata": {
        "colab": {
          "base_uri": "https://localhost:8080/"
        },
        "id": "db2gYGm5EqMe",
        "outputId": "8a7b17e9-d559-4584-cff1-123d971672ce"
      },
      "source": [
        "pred"
      ],
      "execution_count": null,
      "outputs": [
        {
          "output_type": "execute_result",
          "data": {
            "text/plain": [
              "array([[[-0.04287918, -0.02877076, -0.02354172, -0.03075363,\n",
              "         -0.0178406 , -0.03285166, -0.01275345, -0.01005472,\n",
              "         -0.00189047, -0.02027624],\n",
              "        [-0.04287918, -0.02877076, -0.02354172, -0.03075363,\n",
              "         -0.0178406 , -0.03285166, -0.01275345, -0.01005472,\n",
              "         -0.00189047, -0.02027624],\n",
              "        [-0.04287918, -0.02877076, -0.02354172, -0.03075363,\n",
              "         -0.0178406 , -0.03285166, -0.01275345, -0.01005472,\n",
              "         -0.00189047, -0.02027624],\n",
              "        [ 0.02780923,  0.01220452, -0.03800594,  0.04233992,\n",
              "         -0.00432057,  0.03962095, -0.04240117, -0.03157319,\n",
              "          0.01541325,  0.03793525],\n",
              "        [-0.04040948, -0.00493157, -0.02408328, -0.03020506,\n",
              "         -0.04969352,  0.00653899, -0.03759919, -0.00504839,\n",
              "          0.0105625 , -0.04016125],\n",
              "        [ 0.00627334, -0.02896903,  0.03973602, -0.0031049 ,\n",
              "         -0.00641809,  0.01902397,  0.01207932,  0.04797149,\n",
              "         -0.04365454,  0.02577943],\n",
              "        [-0.01120736,  0.00095668, -0.02445908,  0.02159306,\n",
              "          0.01325509, -0.03709564,  0.01575788, -0.02221253,\n",
              "          0.04730154,  0.00085545],\n",
              "        [ 0.00779371,  0.00252414,  0.0146768 ,  0.00528085,\n",
              "         -0.02239087,  0.01802284, -0.01720225,  0.01783724,\n",
              "         -0.01662058,  0.03386276]],\n",
              "\n",
              "       [[-0.04287918, -0.02877076, -0.02354172, -0.03075363,\n",
              "         -0.0178406 , -0.03285166, -0.01275345, -0.01005472,\n",
              "         -0.00189047, -0.02027624],\n",
              "        [-0.04287918, -0.02877076, -0.02354172, -0.03075363,\n",
              "         -0.0178406 , -0.03285166, -0.01275345, -0.01005472,\n",
              "         -0.00189047, -0.02027624],\n",
              "        [-0.04287918, -0.02877076, -0.02354172, -0.03075363,\n",
              "         -0.0178406 , -0.03285166, -0.01275345, -0.01005472,\n",
              "         -0.00189047, -0.02027624],\n",
              "        [-0.04287918, -0.02877076, -0.02354172, -0.03075363,\n",
              "         -0.0178406 , -0.03285166, -0.01275345, -0.01005472,\n",
              "         -0.00189047, -0.02027624],\n",
              "        [ 0.02780923,  0.01220452, -0.03800594,  0.04233992,\n",
              "         -0.00432057,  0.03962095, -0.04240117, -0.03157319,\n",
              "          0.01541325,  0.03793525],\n",
              "        [-0.0103317 ,  0.02695252,  0.02376086, -0.03908849,\n",
              "         -0.01476322,  0.03212133,  0.0121193 , -0.03322773,\n",
              "         -0.04861431, -0.03230001],\n",
              "        [-0.01120736,  0.00095668, -0.02445908,  0.02159306,\n",
              "          0.01325509, -0.03709564,  0.01575788, -0.02221253,\n",
              "          0.04730154,  0.00085545],\n",
              "        [-0.04504723,  0.01991005,  0.01779404,  0.04675931,\n",
              "          0.02806688, -0.01103956,  0.03985474, -0.04167704,\n",
              "         -0.0275653 ,  0.02900727]]], dtype=float32)"
            ]
          },
          "metadata": {
            "tags": []
          },
          "execution_count": 105
        }
      ]
    },
    {
      "cell_type": "code",
      "metadata": {
        "colab": {
          "base_uri": "https://localhost:8080/"
        },
        "id": "DnZpl5jwEr7m",
        "outputId": "74f443b9-e3a6-4aec-a704-a1a339668660"
      },
      "source": [
        "pred.shape"
      ],
      "execution_count": null,
      "outputs": [
        {
          "output_type": "execute_result",
          "data": {
            "text/plain": [
              "(2, 8, 10)"
            ]
          },
          "metadata": {
            "tags": []
          },
          "execution_count": 106
        }
      ]
    },
    {
      "cell_type": "code",
      "metadata": {
        "colab": {
          "base_uri": "https://localhost:8080/"
        },
        "id": "KwGsAW6KEtzK",
        "outputId": "783199d3-15b2-4fa8-b49f-b9eddcb2bf6e"
      },
      "source": [
        "pred[0][0] # sentence 1"
      ],
      "execution_count": null,
      "outputs": [
        {
          "output_type": "execute_result",
          "data": {
            "text/plain": [
              "array([-0.04287918, -0.02877076, -0.02354172, -0.03075363, -0.0178406 ,\n",
              "       -0.03285166, -0.01275345, -0.01005472, -0.00189047, -0.02027624],\n",
              "      dtype=float32)"
            ]
          },
          "metadata": {
            "tags": []
          },
          "execution_count": 107
        }
      ]
    },
    {
      "cell_type": "code",
      "metadata": {
        "colab": {
          "base_uri": "https://localhost:8080/"
        },
        "id": "ZFz_6GGAEzQx",
        "outputId": "7dabfaf3-f2c2-4df4-a3b3-db9bf99620da"
      },
      "source": [
        "pred[0][1] # sentence 2"
      ],
      "execution_count": null,
      "outputs": [
        {
          "output_type": "execute_result",
          "data": {
            "text/plain": [
              "array([-0.04287918, -0.02877076, -0.02354172, -0.03075363, -0.0178406 ,\n",
              "       -0.03285166, -0.01275345, -0.01005472, -0.00189047, -0.02027624],\n",
              "      dtype=float32)"
            ]
          },
          "metadata": {
            "tags": []
          },
          "execution_count": 108
        }
      ]
    },
    {
      "cell_type": "markdown",
      "metadata": {
        "id": "zeOaoy8nFACC"
      },
      "source": [
        "# **CountVectorizer**"
      ]
    },
    {
      "cell_type": "code",
      "metadata": {
        "colab": {
          "base_uri": "https://localhost:8080/"
        },
        "id": "5dDj2tTYE1CS",
        "outputId": "d2f43677-f7a7-495a-fa47-9d696d370d9d"
      },
      "source": [
        "from sklearn.feature_extraction.text import CountVectorizer\n",
        "cv= CountVectorizer()\n",
        "\n",
        "bow= cv.fit_transform(sentence)\n",
        "print(bow)"
      ],
      "execution_count": null,
      "outputs": [
        {
          "output_type": "stream",
          "text": [
            "  (0, 4)\t1\n",
            "  (0, 1)\t1\n",
            "  (0, 5)\t1\n",
            "  (0, 0)\t1\n",
            "  (1, 5)\t1\n",
            "  (1, 2)\t1\n",
            "  (1, 3)\t1\n"
          ],
          "name": "stdout"
        }
      ]
    },
    {
      "cell_type": "code",
      "metadata": {
        "id": "fniQXi5aFWxO"
      },
      "source": [
        "feature_names= cv.get_feature_names()"
      ],
      "execution_count": null,
      "outputs": []
    },
    {
      "cell_type": "code",
      "metadata": {
        "colab": {
          "base_uri": "https://localhost:8080/"
        },
        "id": "QpCdZmr3Fbs9",
        "outputId": "8fd12863-2121-4963-a971-fe04784ab8bc"
      },
      "source": [
        "print(feature_names)"
      ],
      "execution_count": null,
      "outputs": [
        {
          "output_type": "stream",
          "text": [
            "['book', 'like', 'love', 'place', 'really', 'this']\n"
          ],
          "name": "stdout"
        }
      ]
    },
    {
      "cell_type": "code",
      "metadata": {
        "colab": {
          "base_uri": "https://localhost:8080/",
          "height": 106
        },
        "id": "hTX_jxL0FdWH",
        "outputId": "22bfc3a1-3f85-472d-97b4-aa5245d6a30a"
      },
      "source": [
        "import pandas as pd\n",
        "pd.DataFrame(bow.toarray(), columns= feature_names)"
      ],
      "execution_count": null,
      "outputs": [
        {
          "output_type": "execute_result",
          "data": {
            "text/html": [
              "<div>\n",
              "<style scoped>\n",
              "    .dataframe tbody tr th:only-of-type {\n",
              "        vertical-align: middle;\n",
              "    }\n",
              "\n",
              "    .dataframe tbody tr th {\n",
              "        vertical-align: top;\n",
              "    }\n",
              "\n",
              "    .dataframe thead th {\n",
              "        text-align: right;\n",
              "    }\n",
              "</style>\n",
              "<table border=\"1\" class=\"dataframe\">\n",
              "  <thead>\n",
              "    <tr style=\"text-align: right;\">\n",
              "      <th></th>\n",
              "      <th>book</th>\n",
              "      <th>like</th>\n",
              "      <th>love</th>\n",
              "      <th>place</th>\n",
              "      <th>really</th>\n",
              "      <th>this</th>\n",
              "    </tr>\n",
              "  </thead>\n",
              "  <tbody>\n",
              "    <tr>\n",
              "      <th>0</th>\n",
              "      <td>1</td>\n",
              "      <td>1</td>\n",
              "      <td>0</td>\n",
              "      <td>0</td>\n",
              "      <td>1</td>\n",
              "      <td>1</td>\n",
              "    </tr>\n",
              "    <tr>\n",
              "      <th>1</th>\n",
              "      <td>0</td>\n",
              "      <td>0</td>\n",
              "      <td>1</td>\n",
              "      <td>1</td>\n",
              "      <td>0</td>\n",
              "      <td>1</td>\n",
              "    </tr>\n",
              "  </tbody>\n",
              "</table>\n",
              "</div>"
            ],
            "text/plain": [
              "   book  like  love  place  really  this\n",
              "0     1     1     0      0       1     1\n",
              "1     0     0     1      1       0     1"
            ]
          },
          "metadata": {
            "tags": []
          },
          "execution_count": 112
        }
      ]
    },
    {
      "cell_type": "markdown",
      "metadata": {
        "id": "kepksDipFqJb"
      },
      "source": [
        "# **TFIDF**"
      ]
    },
    {
      "cell_type": "code",
      "metadata": {
        "colab": {
          "base_uri": "https://localhost:8080/"
        },
        "id": "VutGglqFFpKO",
        "outputId": "dcb6458f-057e-4879-dccc-47c11f21a065"
      },
      "source": [
        "from sklearn.feature_extraction.text import TfidfVectorizer\n",
        "tv= TfidfVectorizer()\n",
        "\n",
        "tv_vector= tv.fit_transform(sentence)\n",
        "print(tv_vector)"
      ],
      "execution_count": null,
      "outputs": [
        {
          "output_type": "stream",
          "text": [
            "  (0, 0)\t0.534046329052269\n",
            "  (0, 5)\t0.37997836159100784\n",
            "  (0, 1)\t0.534046329052269\n",
            "  (0, 4)\t0.534046329052269\n",
            "  (1, 3)\t0.6316672017376245\n",
            "  (1, 2)\t0.6316672017376245\n",
            "  (1, 5)\t0.4494364165239821\n"
          ],
          "name": "stdout"
        }
      ]
    },
    {
      "cell_type": "code",
      "metadata": {
        "id": "8mMTmd_6F5T9"
      },
      "source": [
        "feature_names= tv.get_feature_names()"
      ],
      "execution_count": null,
      "outputs": []
    },
    {
      "cell_type": "code",
      "metadata": {
        "colab": {
          "base_uri": "https://localhost:8080/",
          "height": 106
        },
        "id": "aAOaQXLLF_FV",
        "outputId": "376fdac0-35fd-4732-bcc0-8cb42a6a305a"
      },
      "source": [
        "import pandas as pd\n",
        "pd.DataFrame(tv_vector.toarray(), columns= feature_names)"
      ],
      "execution_count": null,
      "outputs": [
        {
          "output_type": "execute_result",
          "data": {
            "text/html": [
              "<div>\n",
              "<style scoped>\n",
              "    .dataframe tbody tr th:only-of-type {\n",
              "        vertical-align: middle;\n",
              "    }\n",
              "\n",
              "    .dataframe tbody tr th {\n",
              "        vertical-align: top;\n",
              "    }\n",
              "\n",
              "    .dataframe thead th {\n",
              "        text-align: right;\n",
              "    }\n",
              "</style>\n",
              "<table border=\"1\" class=\"dataframe\">\n",
              "  <thead>\n",
              "    <tr style=\"text-align: right;\">\n",
              "      <th></th>\n",
              "      <th>book</th>\n",
              "      <th>like</th>\n",
              "      <th>love</th>\n",
              "      <th>place</th>\n",
              "      <th>really</th>\n",
              "      <th>this</th>\n",
              "    </tr>\n",
              "  </thead>\n",
              "  <tbody>\n",
              "    <tr>\n",
              "      <th>0</th>\n",
              "      <td>0.534046</td>\n",
              "      <td>0.534046</td>\n",
              "      <td>0.000000</td>\n",
              "      <td>0.000000</td>\n",
              "      <td>0.534046</td>\n",
              "      <td>0.379978</td>\n",
              "    </tr>\n",
              "    <tr>\n",
              "      <th>1</th>\n",
              "      <td>0.000000</td>\n",
              "      <td>0.000000</td>\n",
              "      <td>0.631667</td>\n",
              "      <td>0.631667</td>\n",
              "      <td>0.000000</td>\n",
              "      <td>0.449436</td>\n",
              "    </tr>\n",
              "  </tbody>\n",
              "</table>\n",
              "</div>"
            ],
            "text/plain": [
              "       book      like      love     place    really      this\n",
              "0  0.534046  0.534046  0.000000  0.000000  0.534046  0.379978\n",
              "1  0.000000  0.000000  0.631667  0.631667  0.000000  0.449436"
            ]
          },
          "metadata": {
            "tags": []
          },
          "execution_count": 115
        }
      ]
    },
    {
      "cell_type": "markdown",
      "metadata": {
        "id": "iiReI7MMgRsy"
      },
      "source": [
        "# **BBC News data**\n",
        "\n",
        "Multiclass classification using Word2Vec and LSTM"
      ]
    },
    {
      "cell_type": "code",
      "metadata": {
        "id": "m7GJIMLtZfBy"
      },
      "source": [
        "import pandas as pd\n",
        "data=pd.read_csv('/content/drive/MyDrive/bbc_news_mixed (1).csv')"
      ],
      "execution_count": null,
      "outputs": []
    },
    {
      "cell_type": "code",
      "metadata": {
        "colab": {
          "base_uri": "https://localhost:8080/",
          "height": 195
        },
        "id": "AL24uzLOa7Uh",
        "outputId": "7c1712f2-2486-4730-a3be-f35736e3c4ac"
      },
      "source": [
        "data.head()"
      ],
      "execution_count": null,
      "outputs": [
        {
          "output_type": "execute_result",
          "data": {
            "text/html": [
              "<div>\n",
              "<style scoped>\n",
              "    .dataframe tbody tr th:only-of-type {\n",
              "        vertical-align: middle;\n",
              "    }\n",
              "\n",
              "    .dataframe tbody tr th {\n",
              "        vertical-align: top;\n",
              "    }\n",
              "\n",
              "    .dataframe thead th {\n",
              "        text-align: right;\n",
              "    }\n",
              "</style>\n",
              "<table border=\"1\" class=\"dataframe\">\n",
              "  <thead>\n",
              "    <tr style=\"text-align: right;\">\n",
              "      <th></th>\n",
              "      <th>text</th>\n",
              "      <th>label</th>\n",
              "    </tr>\n",
              "  </thead>\n",
              "  <tbody>\n",
              "    <tr>\n",
              "      <th>0</th>\n",
              "      <td>Cairn shares slump on oil setback\\n\\nShares in...</td>\n",
              "      <td>business</td>\n",
              "    </tr>\n",
              "    <tr>\n",
              "      <th>1</th>\n",
              "      <td>Egypt to sell off state-owned bank\\n\\nThe Egyp...</td>\n",
              "      <td>business</td>\n",
              "    </tr>\n",
              "    <tr>\n",
              "      <th>2</th>\n",
              "      <td>Cairn shares up on new oil find\\n\\nShares in C...</td>\n",
              "      <td>business</td>\n",
              "    </tr>\n",
              "    <tr>\n",
              "      <th>3</th>\n",
              "      <td>Low-cost airlines hit Eurotunnel\\n\\nChannel Tu...</td>\n",
              "      <td>business</td>\n",
              "    </tr>\n",
              "    <tr>\n",
              "      <th>4</th>\n",
              "      <td>Parmalat to return to stockmarket\\n\\nParmalat,...</td>\n",
              "      <td>business</td>\n",
              "    </tr>\n",
              "  </tbody>\n",
              "</table>\n",
              "</div>"
            ],
            "text/plain": [
              "                                                text     label\n",
              "0  Cairn shares slump on oil setback\\n\\nShares in...  business\n",
              "1  Egypt to sell off state-owned bank\\n\\nThe Egyp...  business\n",
              "2  Cairn shares up on new oil find\\n\\nShares in C...  business\n",
              "3  Low-cost airlines hit Eurotunnel\\n\\nChannel Tu...  business\n",
              "4  Parmalat to return to stockmarket\\n\\nParmalat,...  business"
            ]
          },
          "metadata": {
            "tags": []
          },
          "execution_count": 50
        }
      ]
    },
    {
      "cell_type": "code",
      "metadata": {
        "colab": {
          "base_uri": "https://localhost:8080/"
        },
        "id": "AJ1WKddga8Yv",
        "outputId": "d0fbc51f-666b-43cf-97aa-5310e0dac5b3"
      },
      "source": [
        "from sklearn.preprocessing import LabelEncoder\n",
        "from sklearn.preprocessing import LabelBinarizer\n",
        "data.label.value_counts()"
      ],
      "execution_count": null,
      "outputs": [
        {
          "output_type": "execute_result",
          "data": {
            "text/plain": [
              "sport            511\n",
              "business         510\n",
              "politics         417\n",
              "tech             401\n",
              "entertainment    386\n",
              "Name: label, dtype: int64"
            ]
          },
          "metadata": {
            "tags": []
          },
          "execution_count": 51
        }
      ]
    },
    {
      "cell_type": "code",
      "metadata": {
        "id": "p3BVwUlbjrsb"
      },
      "source": [
        "label2= pd.get_dummies(data[\"label\"])"
      ],
      "execution_count": null,
      "outputs": []
    },
    {
      "cell_type": "code",
      "metadata": {
        "colab": {
          "base_uri": "https://localhost:8080/",
          "height": 195
        },
        "id": "ibb6uoXiYNih",
        "outputId": "a70f70b5-5779-427e-8864-6133f8457b9d"
      },
      "source": [
        "label2.head()"
      ],
      "execution_count": null,
      "outputs": [
        {
          "output_type": "execute_result",
          "data": {
            "text/html": [
              "<div>\n",
              "<style scoped>\n",
              "    .dataframe tbody tr th:only-of-type {\n",
              "        vertical-align: middle;\n",
              "    }\n",
              "\n",
              "    .dataframe tbody tr th {\n",
              "        vertical-align: top;\n",
              "    }\n",
              "\n",
              "    .dataframe thead th {\n",
              "        text-align: right;\n",
              "    }\n",
              "</style>\n",
              "<table border=\"1\" class=\"dataframe\">\n",
              "  <thead>\n",
              "    <tr style=\"text-align: right;\">\n",
              "      <th></th>\n",
              "      <th>business</th>\n",
              "      <th>entertainment</th>\n",
              "      <th>politics</th>\n",
              "      <th>sport</th>\n",
              "      <th>tech</th>\n",
              "    </tr>\n",
              "  </thead>\n",
              "  <tbody>\n",
              "    <tr>\n",
              "      <th>0</th>\n",
              "      <td>1</td>\n",
              "      <td>0</td>\n",
              "      <td>0</td>\n",
              "      <td>0</td>\n",
              "      <td>0</td>\n",
              "    </tr>\n",
              "    <tr>\n",
              "      <th>1</th>\n",
              "      <td>1</td>\n",
              "      <td>0</td>\n",
              "      <td>0</td>\n",
              "      <td>0</td>\n",
              "      <td>0</td>\n",
              "    </tr>\n",
              "    <tr>\n",
              "      <th>2</th>\n",
              "      <td>1</td>\n",
              "      <td>0</td>\n",
              "      <td>0</td>\n",
              "      <td>0</td>\n",
              "      <td>0</td>\n",
              "    </tr>\n",
              "    <tr>\n",
              "      <th>3</th>\n",
              "      <td>1</td>\n",
              "      <td>0</td>\n",
              "      <td>0</td>\n",
              "      <td>0</td>\n",
              "      <td>0</td>\n",
              "    </tr>\n",
              "    <tr>\n",
              "      <th>4</th>\n",
              "      <td>1</td>\n",
              "      <td>0</td>\n",
              "      <td>0</td>\n",
              "      <td>0</td>\n",
              "      <td>0</td>\n",
              "    </tr>\n",
              "  </tbody>\n",
              "</table>\n",
              "</div>"
            ],
            "text/plain": [
              "   business  entertainment  politics  sport  tech\n",
              "0         1              0         0      0     0\n",
              "1         1              0         0      0     0\n",
              "2         1              0         0      0     0\n",
              "3         1              0         0      0     0\n",
              "4         1              0         0      0     0"
            ]
          },
          "metadata": {
            "tags": []
          },
          "execution_count": 53
        }
      ]
    },
    {
      "cell_type": "code",
      "metadata": {
        "id": "lohIhv5IjvB-"
      },
      "source": [
        "y = LabelBinarizer().fit_transform(label2)"
      ],
      "execution_count": null,
      "outputs": []
    },
    {
      "cell_type": "code",
      "metadata": {
        "colab": {
          "base_uri": "https://localhost:8080/"
        },
        "id": "qitsxwIfjxg_",
        "outputId": "44376dea-b407-4889-8a41-b062a4e94915"
      },
      "source": [
        "y[:5]"
      ],
      "execution_count": null,
      "outputs": [
        {
          "output_type": "execute_result",
          "data": {
            "text/plain": [
              "array([[1, 0, 0, 0, 0],\n",
              "       [1, 0, 0, 0, 0],\n",
              "       [1, 0, 0, 0, 0],\n",
              "       [1, 0, 0, 0, 0],\n",
              "       [1, 0, 0, 0, 0]])"
            ]
          },
          "metadata": {
            "tags": []
          },
          "execution_count": 55
        }
      ]
    },
    {
      "cell_type": "code",
      "metadata": {
        "colab": {
          "base_uri": "https://localhost:8080/"
        },
        "id": "lryM4vVTyVwp",
        "outputId": "82fdbf7c-bbb2-4701-b4aa-d047277e4bbe"
      },
      "source": [
        "z= pd.DataFrame(y)\n",
        "z.value_counts()"
      ],
      "execution_count": null,
      "outputs": [
        {
          "output_type": "execute_result",
          "data": {
            "text/plain": [
              "0  1  2  3  4\n",
              "0  0  0  1  0    511\n",
              "1  0  0  0  0    510\n",
              "0  0  1  0  0    417\n",
              "      0  0  1    401\n",
              "   1  0  0  0    386\n",
              "dtype: int64"
            ]
          },
          "metadata": {
            "tags": []
          },
          "execution_count": 56
        }
      ]
    },
    {
      "cell_type": "code",
      "metadata": {
        "colab": {
          "base_uri": "https://localhost:8080/",
          "height": 195
        },
        "id": "YT_noZP9bUBv",
        "outputId": "086b1418-b3e0-4705-8891-2c1eaa86b072"
      },
      "source": [
        "data.head()"
      ],
      "execution_count": null,
      "outputs": [
        {
          "output_type": "execute_result",
          "data": {
            "text/html": [
              "<div>\n",
              "<style scoped>\n",
              "    .dataframe tbody tr th:only-of-type {\n",
              "        vertical-align: middle;\n",
              "    }\n",
              "\n",
              "    .dataframe tbody tr th {\n",
              "        vertical-align: top;\n",
              "    }\n",
              "\n",
              "    .dataframe thead th {\n",
              "        text-align: right;\n",
              "    }\n",
              "</style>\n",
              "<table border=\"1\" class=\"dataframe\">\n",
              "  <thead>\n",
              "    <tr style=\"text-align: right;\">\n",
              "      <th></th>\n",
              "      <th>text</th>\n",
              "      <th>label</th>\n",
              "    </tr>\n",
              "  </thead>\n",
              "  <tbody>\n",
              "    <tr>\n",
              "      <th>0</th>\n",
              "      <td>Cairn shares slump on oil setback\\n\\nShares in...</td>\n",
              "      <td>business</td>\n",
              "    </tr>\n",
              "    <tr>\n",
              "      <th>1</th>\n",
              "      <td>Egypt to sell off state-owned bank\\n\\nThe Egyp...</td>\n",
              "      <td>business</td>\n",
              "    </tr>\n",
              "    <tr>\n",
              "      <th>2</th>\n",
              "      <td>Cairn shares up on new oil find\\n\\nShares in C...</td>\n",
              "      <td>business</td>\n",
              "    </tr>\n",
              "    <tr>\n",
              "      <th>3</th>\n",
              "      <td>Low-cost airlines hit Eurotunnel\\n\\nChannel Tu...</td>\n",
              "      <td>business</td>\n",
              "    </tr>\n",
              "    <tr>\n",
              "      <th>4</th>\n",
              "      <td>Parmalat to return to stockmarket\\n\\nParmalat,...</td>\n",
              "      <td>business</td>\n",
              "    </tr>\n",
              "  </tbody>\n",
              "</table>\n",
              "</div>"
            ],
            "text/plain": [
              "                                                text     label\n",
              "0  Cairn shares slump on oil setback\\n\\nShares in...  business\n",
              "1  Egypt to sell off state-owned bank\\n\\nThe Egyp...  business\n",
              "2  Cairn shares up on new oil find\\n\\nShares in C...  business\n",
              "3  Low-cost airlines hit Eurotunnel\\n\\nChannel Tu...  business\n",
              "4  Parmalat to return to stockmarket\\n\\nParmalat,...  business"
            ]
          },
          "metadata": {
            "tags": []
          },
          "execution_count": 57
        }
      ]
    },
    {
      "cell_type": "code",
      "metadata": {
        "colab": {
          "base_uri": "https://localhost:8080/"
        },
        "id": "Etmzbkzebmvh",
        "outputId": "3b44e5f8-ac1a-4cca-c20c-b4ae2a094f29"
      },
      "source": [
        "from gensim.utils import simple_preprocess\n",
        "preprocessed_bbc = data.text.apply(lambda x: simple_preprocess(x))\n",
        "preprocessed_bbc.head()"
      ],
      "execution_count": null,
      "outputs": [
        {
          "output_type": "execute_result",
          "data": {
            "text/plain": [
              "0    [cairn, shares, slump, on, oil, setback, share...\n",
              "1    [egypt, to, sell, off, state, owned, bank, the...\n",
              "2    [cairn, shares, up, on, new, oil, find, shares...\n",
              "3    [low, cost, airlines, hit, eurotunnel, channel...\n",
              "4    [parmalat, to, return, to, stockmarket, parmal...\n",
              "Name: text, dtype: object"
            ]
          },
          "metadata": {
            "tags": []
          },
          "execution_count": 58
        }
      ]
    },
    {
      "cell_type": "code",
      "metadata": {
        "id": "uAv2PQuvbXiG"
      },
      "source": [
        "# import word2vec\n",
        "from gensim.models import Word2Vec\n",
        "\n",
        "# train a word2vec model from the given data set\n",
        "w2v_model = Word2Vec(preprocessed_bbc, size=300, min_count=2, sg=1)"
      ],
      "execution_count": null,
      "outputs": []
    },
    {
      "cell_type": "code",
      "metadata": {
        "colab": {
          "base_uri": "https://localhost:8080/"
        },
        "id": "b4H32Ylcb0sK",
        "outputId": "d73c067e-d8f4-4bf8-a10e-00332324ba5c"
      },
      "source": [
        "print('vocabulary size:', len(w2v_model.wv.vocab))"
      ],
      "execution_count": null,
      "outputs": [
        {
          "output_type": "stream",
          "text": [
            "vocabulary size: 18588\n"
          ],
          "name": "stdout"
        }
      ]
    },
    {
      "cell_type": "code",
      "metadata": {
        "colab": {
          "base_uri": "https://localhost:8080/"
        },
        "id": "6pxFbG8Db3cn",
        "outputId": "ba0c4320-97e1-4e5f-ec8f-a955781f2fdb"
      },
      "source": [
        "w2v_model.wv.most_similar('oil')"
      ],
      "execution_count": null,
      "outputs": [
        {
          "output_type": "execute_result",
          "data": {
            "text/plain": [
              "[('gas', 0.8566049337387085),\n",
              " ('telecoms', 0.8119033575057983),\n",
              " ('costs', 0.8108860850334167),\n",
              " ('giant', 0.8099585175514221),\n",
              " ('unit', 0.7962621450424194),\n",
              " ('fuel', 0.7939218282699585),\n",
              " ('energy', 0.7836349606513977),\n",
              " ('industrial', 0.7809122800827026),\n",
              " ('steel', 0.7744253873825073),\n",
              " ('exports', 0.7730951309204102)]"
            ]
          },
          "metadata": {
            "tags": []
          },
          "execution_count": 61
        }
      ]
    },
    {
      "cell_type": "code",
      "metadata": {
        "id": "0gG0E2jIvMmE"
      },
      "source": [
        "w2v_model.save('/content/drive/MyDrive/bbc_w2v_model.h5')"
      ],
      "execution_count": null,
      "outputs": []
    },
    {
      "cell_type": "code",
      "metadata": {
        "id": "To8j_KKccPI5"
      },
      "source": [
        "def get_embedding_w2v(doc_tokens, pre_trained):\n",
        "    embeddings = []\n",
        "    if pre_trained:\n",
        "        model = w2vec\n",
        "    else:\n",
        "        model = w2v_model\n",
        "    for tok in doc_tokens:\n",
        "        if tok in model.wv.vocab:\n",
        "            embeddings.append(model.wv.word_vec(tok))\n",
        "    return np.mean(embeddings, axis=0)"
      ],
      "execution_count": null,
      "outputs": []
    },
    {
      "cell_type": "code",
      "metadata": {
        "colab": {
          "base_uri": "https://localhost:8080/"
        },
        "id": "mP4pOTolb70_",
        "outputId": "fa08101b-161a-4adb-d329-0111b6ffdea2"
      },
      "source": [
        "import numpy as np\n",
        "X_w2v_model = preprocessed_bbc.apply(lambda x: get_embedding_w2v(x, pre_trained=0))\n",
        "X_w2v_model = pd.DataFrame(X_w2v_model.tolist())\n",
        "print('X shape:', X_w2v_model.shape)"
      ],
      "execution_count": null,
      "outputs": [
        {
          "output_type": "stream",
          "text": [
            "X shape: (2225, 300)\n"
          ],
          "name": "stdout"
        }
      ]
    },
    {
      "cell_type": "code",
      "metadata": {
        "id": "MKiHGTR9cThI"
      },
      "source": [
        "from sklearn.model_selection import train_test_split\n",
        "X_train_wm, X_test_wm, y_train_wm, y_test_wm = train_test_split(X_w2v_model, y)"
      ],
      "execution_count": null,
      "outputs": []
    },
    {
      "cell_type": "code",
      "metadata": {
        "colab": {
          "base_uri": "https://localhost:8080/"
        },
        "id": "Jy50vZgbcbC9",
        "outputId": "1b30cf62-2e4d-4c3c-bb5f-7c003145688f"
      },
      "source": [
        "X_train_wm.shape,X_test_wm.shape"
      ],
      "execution_count": null,
      "outputs": [
        {
          "output_type": "execute_result",
          "data": {
            "text/plain": [
              "((1668, 300), (557, 300))"
            ]
          },
          "metadata": {
            "tags": []
          },
          "execution_count": 65
        }
      ]
    },
    {
      "cell_type": "code",
      "metadata": {
        "colab": {
          "base_uri": "https://localhost:8080/"
        },
        "id": "rUd6_37-fHPn",
        "outputId": "cc8d81f1-2bec-4000-8cd9-8f2607fa5d25"
      },
      "source": [
        "y_train_wm.shape, y_test_wm.shape"
      ],
      "execution_count": null,
      "outputs": [
        {
          "output_type": "execute_result",
          "data": {
            "text/plain": [
              "((1668, 5), (557, 5))"
            ]
          },
          "metadata": {
            "tags": []
          },
          "execution_count": 66
        }
      ]
    },
    {
      "cell_type": "code",
      "metadata": {
        "colab": {
          "base_uri": "https://localhost:8080/"
        },
        "id": "OuoZ86zhejy2",
        "outputId": "59a348f6-bba3-4434-ff38-24ffaaa8a24c"
      },
      "source": [
        "X_train_wm=np.array(X_train_wm).reshape(1668, 300,1)\n",
        "X_train_wm.shape"
      ],
      "execution_count": null,
      "outputs": [
        {
          "output_type": "execute_result",
          "data": {
            "text/plain": [
              "(1668, 300, 1)"
            ]
          },
          "metadata": {
            "tags": []
          },
          "execution_count": 67
        }
      ]
    },
    {
      "cell_type": "code",
      "metadata": {
        "colab": {
          "base_uri": "https://localhost:8080/"
        },
        "id": "IVK8YsACo_Z8",
        "outputId": "087acdf9-422e-4be5-e13b-92827b278e20"
      },
      "source": [
        "X_test_wm=np.array(X_test_wm).reshape(557, 300,1)\n",
        "X_test_wm.shape"
      ],
      "execution_count": null,
      "outputs": [
        {
          "output_type": "execute_result",
          "data": {
            "text/plain": [
              "(557, 300, 1)"
            ]
          },
          "metadata": {
            "tags": []
          },
          "execution_count": 68
        }
      ]
    },
    {
      "cell_type": "code",
      "metadata": {
        "id": "xk4xqkylc71b"
      },
      "source": [
        "from tensorflow.keras.models import Sequential\n",
        "from tensorflow.keras.layers import LSTM,Dense\n",
        "\n",
        "model1=Sequential()\n",
        "model1.add(LSTM(100,input_shape=(300,1)))\n",
        "model1.add(Dense(8,activation=\"relu\"))\n",
        "model1.add(Dense(5,activation=\"softmax\"))\n",
        "\n",
        "model1.compile(loss=\"categorical_crossentropy\",optimizer=\"adam\",metrics=[\"accuracy\"])"
      ],
      "execution_count": null,
      "outputs": []
    },
    {
      "cell_type": "code",
      "metadata": {
        "colab": {
          "base_uri": "https://localhost:8080/"
        },
        "id": "t5RNpMgKZOXO",
        "outputId": "1a465824-9b35-47c2-b35a-bfc576a379ce"
      },
      "source": [
        "model1.summary()"
      ],
      "execution_count": null,
      "outputs": [
        {
          "output_type": "stream",
          "text": [
            "Model: \"sequential_7\"\n",
            "_________________________________________________________________\n",
            "Layer (type)                 Output Shape              Param #   \n",
            "=================================================================\n",
            "lstm_7 (LSTM)                (None, 100)               40800     \n",
            "_________________________________________________________________\n",
            "dense_21 (Dense)             (None, 8)                 808       \n",
            "_________________________________________________________________\n",
            "dense_22 (Dense)             (None, 5)                 45        \n",
            "=================================================================\n",
            "Total params: 41,653\n",
            "Trainable params: 41,653\n",
            "Non-trainable params: 0\n",
            "_________________________________________________________________\n"
          ],
          "name": "stdout"
        }
      ]
    },
    {
      "cell_type": "code",
      "metadata": {
        "colab": {
          "base_uri": "https://localhost:8080/"
        },
        "id": "rleSmB3rd1TV",
        "outputId": "43dc866e-7fb9-4089-9f09-60f13bb8c548"
      },
      "source": [
        "model1.fit(X_train_wm, y_train_wm,validation_data=(X_test_wm, y_test_wm), epochs=100)"
      ],
      "execution_count": null,
      "outputs": [
        {
          "output_type": "stream",
          "text": [
            "Epoch 1/100\n",
            "53/53 [==============================] - 2s 25ms/step - loss: 1.6096 - accuracy: 0.2029 - val_loss: 1.6071 - val_accuracy: 0.2154\n",
            "Epoch 2/100\n",
            "53/53 [==============================] - 1s 16ms/step - loss: 1.6076 - accuracy: 0.2217 - val_loss: 1.6061 - val_accuracy: 0.2154\n",
            "Epoch 3/100\n",
            "53/53 [==============================] - 1s 16ms/step - loss: 1.6062 - accuracy: 0.2239 - val_loss: 1.6049 - val_accuracy: 0.2154\n",
            "Epoch 4/100\n",
            "53/53 [==============================] - 1s 16ms/step - loss: 1.6066 - accuracy: 0.2295 - val_loss: 1.6038 - val_accuracy: 0.2154\n",
            "Epoch 5/100\n",
            "53/53 [==============================] - 1s 16ms/step - loss: 1.6056 - accuracy: 0.2147 - val_loss: 1.6032 - val_accuracy: 0.2154\n",
            "Epoch 6/100\n",
            "53/53 [==============================] - 1s 16ms/step - loss: 1.6008 - accuracy: 0.2396 - val_loss: 1.5978 - val_accuracy: 0.2154\n",
            "Epoch 7/100\n",
            "53/53 [==============================] - 1s 16ms/step - loss: 1.5989 - accuracy: 0.2406 - val_loss: 1.5985 - val_accuracy: 0.2172\n",
            "Epoch 8/100\n",
            "53/53 [==============================] - 1s 16ms/step - loss: 1.5974 - accuracy: 0.2182 - val_loss: 1.5939 - val_accuracy: 0.1957\n",
            "Epoch 9/100\n",
            "53/53 [==============================] - 1s 16ms/step - loss: 1.5908 - accuracy: 0.2224 - val_loss: 1.5877 - val_accuracy: 0.2190\n",
            "Epoch 10/100\n",
            "53/53 [==============================] - 1s 16ms/step - loss: 1.5797 - accuracy: 0.2283 - val_loss: 1.5688 - val_accuracy: 0.1634\n",
            "Epoch 11/100\n",
            "53/53 [==============================] - 1s 17ms/step - loss: 1.5687 - accuracy: 0.1849 - val_loss: 1.5516 - val_accuracy: 0.1831\n",
            "Epoch 12/100\n",
            "53/53 [==============================] - 1s 16ms/step - loss: 1.5598 - accuracy: 0.2664 - val_loss: 1.5584 - val_accuracy: 0.2118\n",
            "Epoch 13/100\n",
            "53/53 [==============================] - 1s 16ms/step - loss: 1.5590 - accuracy: 0.2369 - val_loss: 1.5197 - val_accuracy: 0.2908\n",
            "Epoch 14/100\n",
            "53/53 [==============================] - 1s 16ms/step - loss: 1.5087 - accuracy: 0.3373 - val_loss: 1.4724 - val_accuracy: 0.3573\n",
            "Epoch 15/100\n",
            "53/53 [==============================] - 1s 16ms/step - loss: 1.4666 - accuracy: 0.3858 - val_loss: 1.3536 - val_accuracy: 0.5027\n",
            "Epoch 16/100\n",
            "53/53 [==============================] - 1s 16ms/step - loss: 1.3853 - accuracy: 0.4082 - val_loss: 1.3316 - val_accuracy: 0.3896\n",
            "Epoch 17/100\n",
            "53/53 [==============================] - 1s 16ms/step - loss: 1.3690 - accuracy: 0.4051 - val_loss: 1.2496 - val_accuracy: 0.4811\n",
            "Epoch 18/100\n",
            "53/53 [==============================] - 1s 16ms/step - loss: 1.1382 - accuracy: 0.5374 - val_loss: 1.0781 - val_accuracy: 0.5907\n",
            "Epoch 19/100\n",
            "53/53 [==============================] - 1s 17ms/step - loss: 2.7732 - accuracy: 0.4733 - val_loss: 1.6824 - val_accuracy: 0.2154\n",
            "Epoch 20/100\n",
            "53/53 [==============================] - 1s 17ms/step - loss: 1.6462 - accuracy: 0.2393 - val_loss: 1.5632 - val_accuracy: 0.2370\n",
            "Epoch 21/100\n",
            "53/53 [==============================] - 1s 17ms/step - loss: 1.5834 - accuracy: 0.2165 - val_loss: 1.5673 - val_accuracy: 0.2298\n",
            "Epoch 22/100\n",
            "53/53 [==============================] - 1s 17ms/step - loss: 1.5611 - accuracy: 0.2698 - val_loss: 1.5425 - val_accuracy: 0.2262\n",
            "Epoch 23/100\n",
            "53/53 [==============================] - 1s 17ms/step - loss: 1.5281 - accuracy: 0.2900 - val_loss: 1.5499 - val_accuracy: 0.1921\n",
            "Epoch 24/100\n",
            "53/53 [==============================] - 1s 17ms/step - loss: 1.5158 - accuracy: 0.3180 - val_loss: 1.6322 - val_accuracy: 0.2855\n",
            "Epoch 25/100\n",
            "53/53 [==============================] - 1s 17ms/step - loss: 1.4576 - accuracy: 0.3817 - val_loss: 1.5048 - val_accuracy: 0.2298\n",
            "Epoch 26/100\n",
            "53/53 [==============================] - 1s 17ms/step - loss: 1.4007 - accuracy: 0.3492 - val_loss: 1.3060 - val_accuracy: 0.4147\n",
            "Epoch 27/100\n",
            "53/53 [==============================] - 1s 17ms/step - loss: 1.2710 - accuracy: 0.4645 - val_loss: 1.2816 - val_accuracy: 0.4470\n",
            "Epoch 28/100\n",
            "53/53 [==============================] - 1s 17ms/step - loss: 1.2671 - accuracy: 0.4695 - val_loss: 1.3622 - val_accuracy: 0.3680\n",
            "Epoch 29/100\n",
            "53/53 [==============================] - 1s 17ms/step - loss: 1.2811 - accuracy: 0.4775 - val_loss: 1.1959 - val_accuracy: 0.4991\n",
            "Epoch 30/100\n",
            "53/53 [==============================] - 1s 17ms/step - loss: 1.1870 - accuracy: 0.4823 - val_loss: 1.2077 - val_accuracy: 0.5081\n",
            "Epoch 31/100\n",
            "53/53 [==============================] - 1s 17ms/step - loss: 1.1840 - accuracy: 0.5181 - val_loss: 1.2298 - val_accuracy: 0.4614\n",
            "Epoch 32/100\n",
            "53/53 [==============================] - 1s 17ms/step - loss: 1.1094 - accuracy: 0.5472 - val_loss: 1.1410 - val_accuracy: 0.5224\n",
            "Epoch 33/100\n",
            "53/53 [==============================] - 1s 20ms/step - loss: 1.1163 - accuracy: 0.5157 - val_loss: 1.3728 - val_accuracy: 0.4004\n",
            "Epoch 34/100\n",
            "53/53 [==============================] - 1s 17ms/step - loss: 1.1182 - accuracy: 0.5175 - val_loss: 1.0580 - val_accuracy: 0.5673\n",
            "Epoch 35/100\n",
            "53/53 [==============================] - 1s 17ms/step - loss: 1.0800 - accuracy: 0.5552 - val_loss: 1.2583 - val_accuracy: 0.5027\n",
            "Epoch 36/100\n",
            "53/53 [==============================] - 1s 17ms/step - loss: 1.1672 - accuracy: 0.5128 - val_loss: 1.1194 - val_accuracy: 0.4901\n",
            "Epoch 37/100\n",
            "53/53 [==============================] - 1s 17ms/step - loss: 1.0253 - accuracy: 0.5751 - val_loss: 1.0079 - val_accuracy: 0.5925\n",
            "Epoch 38/100\n",
            "53/53 [==============================] - 1s 17ms/step - loss: 1.0591 - accuracy: 0.5570 - val_loss: 0.9677 - val_accuracy: 0.5781\n",
            "Epoch 39/100\n",
            "53/53 [==============================] - 1s 17ms/step - loss: 0.9588 - accuracy: 0.5975 - val_loss: 0.9320 - val_accuracy: 0.6248\n",
            "Epoch 40/100\n",
            "53/53 [==============================] - 1s 17ms/step - loss: 0.9288 - accuracy: 0.6174 - val_loss: 1.0642 - val_accuracy: 0.5278\n",
            "Epoch 41/100\n",
            "53/53 [==============================] - 1s 17ms/step - loss: 0.9352 - accuracy: 0.6155 - val_loss: 0.9152 - val_accuracy: 0.6499\n",
            "Epoch 42/100\n",
            "53/53 [==============================] - 1s 17ms/step - loss: 0.8811 - accuracy: 0.6293 - val_loss: 0.9972 - val_accuracy: 0.6104\n",
            "Epoch 43/100\n",
            "53/53 [==============================] - 1s 18ms/step - loss: 0.9160 - accuracy: 0.6274 - val_loss: 0.9357 - val_accuracy: 0.6391\n",
            "Epoch 44/100\n",
            "53/53 [==============================] - 1s 17ms/step - loss: 0.9120 - accuracy: 0.6242 - val_loss: 1.0085 - val_accuracy: 0.5781\n",
            "Epoch 45/100\n",
            "53/53 [==============================] - 1s 17ms/step - loss: 0.9724 - accuracy: 0.5903 - val_loss: 0.9696 - val_accuracy: 0.6122\n",
            "Epoch 46/100\n",
            "53/53 [==============================] - 1s 17ms/step - loss: 0.9001 - accuracy: 0.6212 - val_loss: 0.9572 - val_accuracy: 0.6302\n",
            "Epoch 47/100\n",
            "53/53 [==============================] - 1s 17ms/step - loss: 0.9183 - accuracy: 0.6258 - val_loss: 0.8790 - val_accuracy: 0.6571\n",
            "Epoch 48/100\n",
            "53/53 [==============================] - 1s 17ms/step - loss: 0.8502 - accuracy: 0.6535 - val_loss: 0.9810 - val_accuracy: 0.6463\n",
            "Epoch 49/100\n",
            "53/53 [==============================] - 1s 17ms/step - loss: 0.8445 - accuracy: 0.6676 - val_loss: 0.8758 - val_accuracy: 0.6679\n",
            "Epoch 50/100\n",
            "53/53 [==============================] - 1s 17ms/step - loss: 0.8416 - accuracy: 0.6757 - val_loss: 0.9247 - val_accuracy: 0.6338\n",
            "Epoch 51/100\n",
            "53/53 [==============================] - 1s 17ms/step - loss: 0.7709 - accuracy: 0.6970 - val_loss: 0.9603 - val_accuracy: 0.6176\n",
            "Epoch 52/100\n",
            "53/53 [==============================] - 1s 17ms/step - loss: 0.8134 - accuracy: 0.6841 - val_loss: 0.8066 - val_accuracy: 0.6966\n",
            "Epoch 53/100\n",
            "53/53 [==============================] - 1s 17ms/step - loss: 0.8718 - accuracy: 0.6542 - val_loss: 0.8189 - val_accuracy: 0.6732\n",
            "Epoch 54/100\n",
            "53/53 [==============================] - 1s 17ms/step - loss: 0.7520 - accuracy: 0.7184 - val_loss: 0.8114 - val_accuracy: 0.6768\n",
            "Epoch 55/100\n",
            "53/53 [==============================] - 1s 17ms/step - loss: 0.7079 - accuracy: 0.7386 - val_loss: 0.9197 - val_accuracy: 0.6320\n",
            "Epoch 56/100\n",
            "53/53 [==============================] - 1s 17ms/step - loss: 0.7498 - accuracy: 0.6950 - val_loss: 0.7433 - val_accuracy: 0.7127\n",
            "Epoch 57/100\n",
            "53/53 [==============================] - 1s 17ms/step - loss: 0.7142 - accuracy: 0.7303 - val_loss: 0.6496 - val_accuracy: 0.7666\n",
            "Epoch 58/100\n",
            "53/53 [==============================] - 1s 17ms/step - loss: 0.6783 - accuracy: 0.7394 - val_loss: 0.6936 - val_accuracy: 0.7451\n",
            "Epoch 59/100\n",
            "53/53 [==============================] - 1s 17ms/step - loss: 0.8706 - accuracy: 0.6738 - val_loss: 0.6919 - val_accuracy: 0.7612\n",
            "Epoch 60/100\n",
            "53/53 [==============================] - 1s 17ms/step - loss: 0.6643 - accuracy: 0.7589 - val_loss: 0.6878 - val_accuracy: 0.7630\n",
            "Epoch 61/100\n",
            "53/53 [==============================] - 1s 17ms/step - loss: 0.6456 - accuracy: 0.7563 - val_loss: 0.6177 - val_accuracy: 0.7971\n",
            "Epoch 62/100\n",
            "53/53 [==============================] - 1s 17ms/step - loss: 0.5796 - accuracy: 0.7942 - val_loss: 0.6926 - val_accuracy: 0.7558\n",
            "Epoch 63/100\n",
            "53/53 [==============================] - 1s 17ms/step - loss: 0.6532 - accuracy: 0.7602 - val_loss: 0.8712 - val_accuracy: 0.6876\n",
            "Epoch 64/100\n",
            "53/53 [==============================] - 1s 17ms/step - loss: 0.6401 - accuracy: 0.7510 - val_loss: 0.6750 - val_accuracy: 0.7522\n",
            "Epoch 65/100\n",
            "53/53 [==============================] - 1s 17ms/step - loss: 0.5969 - accuracy: 0.7723 - val_loss: 0.6019 - val_accuracy: 0.7882\n",
            "Epoch 66/100\n",
            "53/53 [==============================] - 1s 17ms/step - loss: 0.5489 - accuracy: 0.8070 - val_loss: 0.6400 - val_accuracy: 0.7720\n",
            "Epoch 67/100\n",
            "53/53 [==============================] - 1s 17ms/step - loss: 0.5773 - accuracy: 0.7828 - val_loss: 0.5696 - val_accuracy: 0.7989\n",
            "Epoch 68/100\n",
            "53/53 [==============================] - 1s 17ms/step - loss: 0.5490 - accuracy: 0.7981 - val_loss: 0.6544 - val_accuracy: 0.7738\n",
            "Epoch 69/100\n",
            "53/53 [==============================] - 1s 17ms/step - loss: 0.5190 - accuracy: 0.8172 - val_loss: 0.6460 - val_accuracy: 0.7720\n",
            "Epoch 70/100\n",
            "53/53 [==============================] - 1s 17ms/step - loss: 0.5714 - accuracy: 0.7869 - val_loss: 0.6350 - val_accuracy: 0.7738\n",
            "Epoch 71/100\n",
            "53/53 [==============================] - 1s 17ms/step - loss: 0.5550 - accuracy: 0.7975 - val_loss: 0.6612 - val_accuracy: 0.7504\n",
            "Epoch 72/100\n",
            "53/53 [==============================] - 1s 17ms/step - loss: 0.5963 - accuracy: 0.7847 - val_loss: 0.5497 - val_accuracy: 0.8205\n",
            "Epoch 73/100\n",
            "53/53 [==============================] - 1s 17ms/step - loss: 0.5533 - accuracy: 0.7902 - val_loss: 0.5473 - val_accuracy: 0.8061\n",
            "Epoch 74/100\n",
            "53/53 [==============================] - 1s 17ms/step - loss: 0.5232 - accuracy: 0.8204 - val_loss: 0.6137 - val_accuracy: 0.7864\n",
            "Epoch 75/100\n",
            "53/53 [==============================] - 1s 17ms/step - loss: 0.5141 - accuracy: 0.8149 - val_loss: 0.5805 - val_accuracy: 0.7810\n",
            "Epoch 76/100\n",
            "53/53 [==============================] - 1s 17ms/step - loss: 0.5263 - accuracy: 0.8062 - val_loss: 0.6016 - val_accuracy: 0.7899\n",
            "Epoch 77/100\n",
            "53/53 [==============================] - 1s 17ms/step - loss: 0.5316 - accuracy: 0.8096 - val_loss: 0.6814 - val_accuracy: 0.7469\n",
            "Epoch 78/100\n",
            "53/53 [==============================] - 1s 17ms/step - loss: 0.5718 - accuracy: 0.7907 - val_loss: 0.6129 - val_accuracy: 0.7558\n",
            "Epoch 79/100\n",
            "53/53 [==============================] - 1s 17ms/step - loss: 0.5151 - accuracy: 0.8077 - val_loss: 0.6069 - val_accuracy: 0.7882\n",
            "Epoch 80/100\n",
            "53/53 [==============================] - 1s 17ms/step - loss: 0.5798 - accuracy: 0.7765 - val_loss: 0.5270 - val_accuracy: 0.7953\n",
            "Epoch 81/100\n",
            "53/53 [==============================] - 1s 17ms/step - loss: 0.5281 - accuracy: 0.8081 - val_loss: 0.6031 - val_accuracy: 0.8079\n",
            "Epoch 82/100\n",
            "53/53 [==============================] - 1s 17ms/step - loss: 0.6136 - accuracy: 0.7619 - val_loss: 0.6160 - val_accuracy: 0.7666\n",
            "Epoch 83/100\n",
            "53/53 [==============================] - 1s 17ms/step - loss: 0.5284 - accuracy: 0.8110 - val_loss: 0.5498 - val_accuracy: 0.8205\n",
            "Epoch 84/100\n",
            "53/53 [==============================] - 1s 17ms/step - loss: 0.4965 - accuracy: 0.8235 - val_loss: 0.5121 - val_accuracy: 0.8205\n",
            "Epoch 85/100\n",
            "53/53 [==============================] - 1s 17ms/step - loss: 0.5737 - accuracy: 0.7917 - val_loss: 0.5790 - val_accuracy: 0.7953\n",
            "Epoch 86/100\n",
            "53/53 [==============================] - 1s 17ms/step - loss: 0.6018 - accuracy: 0.7838 - val_loss: 0.5675 - val_accuracy: 0.7899\n",
            "Epoch 87/100\n",
            "53/53 [==============================] - 1s 17ms/step - loss: 0.4801 - accuracy: 0.8126 - val_loss: 0.4832 - val_accuracy: 0.8330\n",
            "Epoch 88/100\n",
            "53/53 [==============================] - 1s 17ms/step - loss: 0.4840 - accuracy: 0.8175 - val_loss: 0.5655 - val_accuracy: 0.8079\n",
            "Epoch 89/100\n",
            "53/53 [==============================] - 1s 17ms/step - loss: 0.4730 - accuracy: 0.8252 - val_loss: 0.7111 - val_accuracy: 0.7199\n",
            "Epoch 90/100\n",
            "53/53 [==============================] - 1s 17ms/step - loss: 0.6110 - accuracy: 0.7795 - val_loss: 0.7303 - val_accuracy: 0.7127\n",
            "Epoch 91/100\n",
            "53/53 [==============================] - 1s 17ms/step - loss: 0.5159 - accuracy: 0.8111 - val_loss: 0.7257 - val_accuracy: 0.7307\n",
            "Epoch 92/100\n",
            "53/53 [==============================] - 1s 17ms/step - loss: 0.6667 - accuracy: 0.7414 - val_loss: 0.5411 - val_accuracy: 0.8187\n",
            "Epoch 93/100\n",
            "53/53 [==============================] - 1s 17ms/step - loss: 0.4597 - accuracy: 0.8393 - val_loss: 0.5014 - val_accuracy: 0.8259\n",
            "Epoch 94/100\n",
            "53/53 [==============================] - 1s 17ms/step - loss: 0.4560 - accuracy: 0.8335 - val_loss: 0.5072 - val_accuracy: 0.8151\n",
            "Epoch 95/100\n",
            "53/53 [==============================] - 1s 17ms/step - loss: 0.4341 - accuracy: 0.8337 - val_loss: 0.5138 - val_accuracy: 0.8330\n",
            "Epoch 96/100\n",
            "53/53 [==============================] - 1s 17ms/step - loss: 0.4310 - accuracy: 0.8571 - val_loss: 0.4647 - val_accuracy: 0.8348\n",
            "Epoch 97/100\n",
            "53/53 [==============================] - 1s 17ms/step - loss: 0.4782 - accuracy: 0.8225 - val_loss: 0.4847 - val_accuracy: 0.8115\n",
            "Epoch 98/100\n",
            "53/53 [==============================] - 1s 17ms/step - loss: 0.5159 - accuracy: 0.8085 - val_loss: 0.4932 - val_accuracy: 0.8294\n",
            "Epoch 99/100\n",
            "53/53 [==============================] - 1s 17ms/step - loss: 0.4872 - accuracy: 0.8272 - val_loss: 0.4632 - val_accuracy: 0.8312\n",
            "Epoch 100/100\n",
            "53/53 [==============================] - 1s 17ms/step - loss: 0.4078 - accuracy: 0.8503 - val_loss: 0.4780 - val_accuracy: 0.8348\n"
          ],
          "name": "stdout"
        },
        {
          "output_type": "execute_result",
          "data": {
            "text/plain": [
              "<tensorflow.python.keras.callbacks.History at 0x7f56b02b3eb8>"
            ]
          },
          "metadata": {
            "tags": []
          },
          "execution_count": 71
        }
      ]
    },
    {
      "cell_type": "code",
      "metadata": {
        "id": "GqXu34XIt2F7"
      },
      "source": [
        "model1.save('/content/drive/MyDrive/bbc_news_model.h5')"
      ],
      "execution_count": null,
      "outputs": []
    },
    {
      "cell_type": "code",
      "metadata": {
        "colab": {
          "base_uri": "https://localhost:8080/"
        },
        "id": "L1-BrsDhd2MF",
        "outputId": "4698e04c-d506-4290-e19b-d73173b5dc89"
      },
      "source": [
        "model1.evaluate(X_test_wm,y_test_wm)"
      ],
      "execution_count": null,
      "outputs": [
        {
          "output_type": "stream",
          "text": [
            "18/18 [==============================] - 0s 8ms/step - loss: 0.4780 - accuracy: 0.8348\n"
          ],
          "name": "stdout"
        },
        {
          "output_type": "execute_result",
          "data": {
            "text/plain": [
              "[0.47802647948265076, 0.8348294496536255]"
            ]
          },
          "metadata": {
            "tags": []
          },
          "execution_count": 73
        }
      ]
    },
    {
      "cell_type": "code",
      "metadata": {
        "id": "Lq4fg1_xvvZN"
      },
      "source": [
        "#classes=[\"business\",\t\"entertainment\",\t\"politics\",\t\"sport\",\t\"tech\"]"
      ],
      "execution_count": null,
      "outputs": []
    },
    {
      "cell_type": "code",
      "metadata": {
        "id": "veG_Egpla1l0"
      },
      "source": [
        "def prediction(doc):\n",
        "  classes=[\"business\",\t\"entertainment\",\t\"politics\",\t\"sport\",\t\"tech\"]\n",
        "  doc= simple_preprocess(doc)\n",
        "  doc= get_embedding_w2v(doc, pre_trained=0)\n",
        "  doc1= doc.reshape(1,300,1)\n",
        "  p= model1.predict(doc1)\n",
        "  return classes[np.argmax(p)]"
      ],
      "execution_count": null,
      "outputs": []
    },
    {
      "cell_type": "code",
      "metadata": {
        "colab": {
          "base_uri": "https://localhost:8080/"
        },
        "id": "y1BARSxWbOVW",
        "outputId": "fb5fb97a-0474-494e-a43f-824b44394fe6"
      },
      "source": [
        "doc1= \"Pankaj Tripathi, currently seen on Criminal Justice: Behind Closed Doors, opens up about dealing with fame\"\n",
        "print(f\"The article belongs to {prediction(doc1)} category\",)"
      ],
      "execution_count": null,
      "outputs": [
        {
          "output_type": "stream",
          "text": [
            "The article belongs to tech category\n"
          ],
          "name": "stdout"
        }
      ]
    },
    {
      "cell_type": "code",
      "metadata": {
        "colab": {
          "base_uri": "https://localhost:8080/"
        },
        "id": "IoosnJn4btzi",
        "outputId": "bf6b8a31-c1e7-4553-ef3e-8739c44ebbf8"
      },
      "source": [
        "doc2= \"OnePlus 9 Alleged Live Images Tip Flat Hole-Punch Display, Reverse Wireless Charging Support\"\n",
        "print(f\"The article belongs to {prediction(doc2)} category\",)"
      ],
      "execution_count": null,
      "outputs": [
        {
          "output_type": "stream",
          "text": [
            "The article belongs to tech category\n"
          ],
          "name": "stdout"
        }
      ]
    },
    {
      "cell_type": "code",
      "metadata": {
        "colab": {
          "base_uri": "https://localhost:8080/"
        },
        "id": "ddASanTYby-_",
        "outputId": "6a5876c5-d5ed-418f-e723-482d758fd690"
      },
      "source": [
        "doc3= \"Tesla public company duties are a much bigger factor, but going private is impossible now (sigh),” Musk said in response to a tweet saying he should optimize his time in areas such as innovation\"\n",
        "print(f\"The article belongs to {prediction(doc3)} category\",)"
      ],
      "execution_count": null,
      "outputs": [
        {
          "output_type": "stream",
          "text": [
            "The article belongs to politics category\n"
          ],
          "name": "stdout"
        }
      ]
    },
    {
      "cell_type": "code",
      "metadata": {
        "colab": {
          "base_uri": "https://localhost:8080/"
        },
        "id": "Bz6sjqNAb9jn",
        "outputId": "9a1d2250-d24d-4d1d-fea9-dc159e9a1112"
      },
      "source": [
        "doc4= \"PSG sack Tuchel, Pochettino set to become new manager - reports.\"\n",
        "print(f\"The article belongs to {prediction(doc4)} category\",)"
      ],
      "execution_count": null,
      "outputs": [
        {
          "output_type": "stream",
          "text": [
            "The article belongs to sport category\n"
          ],
          "name": "stdout"
        }
      ]
    },
    {
      "cell_type": "code",
      "metadata": {
        "colab": {
          "base_uri": "https://localhost:8080/"
        },
        "id": "wdYmNwsEcPvM",
        "outputId": "fce52d77-05e5-43f8-fc01-8668b8b81f88"
      },
      "source": [
        "doc5= \"In a press conference on Tuesday, Kejriwal said the development of Uttar Pradesh has been held back by 'corrupt' leaders in the state\"\n",
        "print(f\"The article belongs to {prediction(doc5)} category\",)"
      ],
      "execution_count": null,
      "outputs": [
        {
          "output_type": "stream",
          "text": [
            "The article belongs to business category\n"
          ],
          "name": "stdout"
        }
      ]
    },
    {
      "cell_type": "code",
      "metadata": {
        "colab": {
          "base_uri": "https://localhost:8080/"
        },
        "id": "-hHjU8luce7h",
        "outputId": "390f8b45-a2e1-4aa8-c5c1-f40784742c4d"
      },
      "source": [
        "doc6= \"RIL plans to rebrand the IMG Reliance as its completely owned subsidiary post-acquisition of 50 per cent shares held by the wholly-owned subsidiary of IMG, the MG Singapore Pte. Ltd.\"\n",
        "print(f\"The article belongs to {prediction(doc6)} category\",)"
      ],
      "execution_count": null,
      "outputs": [
        {
          "output_type": "stream",
          "text": [
            "The article belongs to business category\n"
          ],
          "name": "stdout"
        }
      ]
    },
    {
      "cell_type": "markdown",
      "metadata": {
        "id": "PgwjUZ98uvqi"
      },
      "source": [
        " **Loading the saved model**"
      ]
    },
    {
      "cell_type": "code",
      "metadata": {
        "id": "Y7Euet91uaZq"
      },
      "source": [
        "from tensorflow.keras.models import load_model\n",
        "bbc = load_model('/content/drive/MyDrive/bbc_news_model.h5')"
      ],
      "execution_count": null,
      "outputs": []
    },
    {
      "cell_type": "code",
      "metadata": {
        "id": "kmRsu-f0vvnN"
      },
      "source": [
        "#embed = load_model('/content/drive/MyDrive/bbc_w2v_model.h5')\n",
        "import gensim\n",
        "embed = gensim.models.Word2Vec.load('/content/drive/MyDrive/bbc_w2v_model.h5')"
      ],
      "execution_count": null,
      "outputs": []
    },
    {
      "cell_type": "code",
      "metadata": {
        "id": "FwLK9WV0vgUD"
      },
      "source": [
        "def get_embedding_w2v_bbc(doc_tokens):\n",
        "    embeddings = []\n",
        "    for tok in doc_tokens:\n",
        "        if tok in embed.wv.vocab:\n",
        "            embeddings.append(embed.wv.word_vec(tok))\n",
        "    return np.mean(embeddings, axis=0)"
      ],
      "execution_count": null,
      "outputs": []
    },
    {
      "cell_type": "code",
      "metadata": {
        "id": "ckggYNnpunHH"
      },
      "source": [
        "def predictionbbc(doc):\n",
        "  classes=[\"business\",\t\"entertainment\",\t\"politics\",\t\"sport\",\t\"tech\"]\n",
        "  doc= simple_preprocess(doc)\n",
        "  doc= get_embedding_w2v_bbc(doc)\n",
        "  doc1= doc.reshape(1,300,1)\n",
        "  p= bbc.predict(doc1)\n",
        "  return classes[np.argmax(p)]"
      ],
      "execution_count": null,
      "outputs": []
    },
    {
      "cell_type": "code",
      "metadata": {
        "colab": {
          "base_uri": "https://localhost:8080/"
        },
        "id": "Zrujxy8sukqz",
        "outputId": "cfa84029-786c-4071-d915-c7b2d4548b61"
      },
      "source": [
        "print(f\"The article belongs to {predictionbbc(test_doc)} category\",)"
      ],
      "execution_count": null,
      "outputs": [
        {
          "output_type": "stream",
          "text": [
            "The article belongs to sport category\n"
          ],
          "name": "stdout"
        }
      ]
    }
  ]
}